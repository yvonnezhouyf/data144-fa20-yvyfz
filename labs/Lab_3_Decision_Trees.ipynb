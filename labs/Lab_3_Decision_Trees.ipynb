{
  "nbformat": 4,
  "nbformat_minor": 0,
  "metadata": {
    "kernelspec": {
      "display_name": "Python 3",
      "language": "python",
      "name": "python3"
    },
    "language_info": {
      "codemirror_mode": {
        "name": "ipython",
        "version": 3
      },
      "file_extension": ".py",
      "mimetype": "text/x-python",
      "name": "python",
      "nbconvert_exporter": "python",
      "pygments_lexer": "ipython3",
      "version": "3.6.9"
    },
    "colab": {
      "name": "Lab 3: Decision Trees",
      "provenance": [],
      "collapsed_sections": []
    }
  },
  "cells": [
    {
      "cell_type": "markdown",
      "metadata": {
        "id": "vAxKKJ84ugjs"
      },
      "source": [
        "# DMA Fall '20"
      ]
    },
    {
      "cell_type": "code",
      "metadata": {
        "id": "nFr3Tjz_ugjv"
      },
      "source": [
        "NAME = \"Yvonne Zhou\"\n",
        "COLLABORATORS = \"\""
      ],
      "execution_count": null,
      "outputs": []
    },
    {
      "cell_type": "markdown",
      "metadata": {
        "id": "VtQyVZG7ugj0"
      },
      "source": [
        "---"
      ]
    },
    {
      "cell_type": "markdown",
      "metadata": {
        "deletable": false,
        "editable": false,
        "nbgrader": {
          "checksum": "0ec61936c13b80ce01fa0818121a29a9",
          "grade": false,
          "grade_id": "cell-c6a6e713740ff888",
          "locked": true,
          "schema_version": 1,
          "solution": false
        },
        "id": "dSxT_unDugj1"
      },
      "source": [
        "# Lab 3: Decision Trees\n",
        "\n",
        "**Please read the following instructions very carefully**\n",
        "\n",
        "## Working on the assignment / FAQs\n",
        "- **Always use the seed/random_state as *42* wherever applicable** (This is to ensure repeatability in answers, across students and coding environments) \n",
        "- Questions can be either autograded and manually graded.\n",
        "- The type of question and the points they carry are indicated in each question cell\n",
        "- An autograded question has 3 cells\n",
        "     - **Question cell** : Read only cell containing the question\n",
        "     - **Code Cell** : This is where you write the code\n",
        "     - **Grading cell** : This is where the grading occurs, and **you are required not to edit this cell**\n",
        "- Manually graded questions only have the question and code cells. **All manually graded questions are explicitly stated**\n",
        "- To avoid any ambiguity, each question also specifies what *value* must be set. Note that these are dummy values and not the answers\n",
        "- If an autograded question has multiple answers (due to differences in handling NaNs, zeros etc.), all answers will be considered.\n",
        "- Most assignments have bonus questions for extra credit, do try them out! \n",
        "- You can delete the `raise NotImplementedError()` for all questions.\n",
        "- **Submitting the assignment** : Download the '.ipynb' file from Colab and upload it to bcourses. Do not delete any outputs from cells before submitting.\n",
        "- That's about it. Happy coding!\n",
        "\n",
        "\n",
        "## About the dataset\n",
        "This assignment uses a dataset obtained from the JSE Data Archive that contains biological and self-reported activity traits of a sample of college students at a single university uploaded in 2013. The study associated with these data focused on exploring if a correspondence exists between eye color and and other traits. You will be using gender as the target/label in this lab.\n",
        "\n",
        "FEATURE DESCRIPTIONS: \n",
        "- Color (Blue, Brown, Green, Hazel, Other)\n",
        "- Age (in years)\n",
        "- YearinSchool (First, Second, Third, Fourth, Other)\n",
        "- Height (in inches)\n",
        "- Miles (distance from home town of student to Ames, IA) \n",
        "- Brothers (number of brothers)\n",
        "- Sisters (number of sisters)\n",
        "- CompTime (number of hours spent on computer per week)\n",
        "- Exercise (whether the student exercises Yes or No)\n",
        "- ExerTime (number of hours spent exercising per week)\n",
        "- MusicCDs (number of music CDs student owns)\n",
        "- PlayGames (number of hours spent playing games per week)\n",
        "- WatchTV (number of hours spent watching TV per week\n",
        "\n",
        "https://ww2.amstat.org/publications/jse/jse_data_archive.htm (eyecolorgenderdata.csv)\n"
      ]
    },
    {
      "cell_type": "code",
      "metadata": {
        "deletable": false,
        "editable": false,
        "nbgrader": {
          "checksum": "0fb5897b9d372125635a32c3c25065db",
          "grade": false,
          "grade_id": "cell-0c1c5a5b7543f388",
          "locked": true,
          "schema_version": 1,
          "solution": false
        },
        "id": "xeiDHBc5ugj2",
        "colab": {
          "base_uri": "https://localhost:8080/",
          "height": 272
        },
        "outputId": "721963a1-e863-4222-e381-f762ffca8686"
      },
      "source": [
        "from collections import Counter, defaultdict\n",
        "from itertools import combinations \n",
        "import pandas as pd\n",
        "import numpy as np\n",
        "import operator\n",
        "import math\n",
        "\n",
        "!wget -nc http://people.ischool.berkeley.edu/~zp/course_datasets/eye_color.zip\n",
        "!unzip -u eye_color.zip\n",
        "!ls\n",
        "df = pd.read_csv('Eye_Color.csv')\n",
        "# remove NA's and reset the index\n",
        "df = df.dropna(axis=0, how='any', thresh=None, subset=None, inplace=False)\n",
        "df = df.reset_index(drop=True)\n",
        "\n",
        "df.head()"
      ],
      "execution_count": null,
      "outputs": [
        {
          "output_type": "stream",
          "text": [
            "File ‘eye_color.zip’ already there; not retrieving.\n",
            "\n",
            "Archive:  eye_color.zip\n",
            "Eye_Color.csv  Eye_Color_Dataset_Description.txt  eye_color.zip  sample_data\n"
          ],
          "name": "stdout"
        },
        {
          "output_type": "execute_result",
          "data": {
            "text/html": [
              "<div>\n",
              "<style scoped>\n",
              "    .dataframe tbody tr th:only-of-type {\n",
              "        vertical-align: middle;\n",
              "    }\n",
              "\n",
              "    .dataframe tbody tr th {\n",
              "        vertical-align: top;\n",
              "    }\n",
              "\n",
              "    .dataframe thead th {\n",
              "        text-align: right;\n",
              "    }\n",
              "</style>\n",
              "<table border=\"1\" class=\"dataframe\">\n",
              "  <thead>\n",
              "    <tr style=\"text-align: right;\">\n",
              "      <th></th>\n",
              "      <th>gender</th>\n",
              "      <th>age</th>\n",
              "      <th>year</th>\n",
              "      <th>eyecolor</th>\n",
              "      <th>height</th>\n",
              "      <th>miles</th>\n",
              "      <th>brothers</th>\n",
              "      <th>sisters</th>\n",
              "      <th>computertime</th>\n",
              "      <th>exercise</th>\n",
              "      <th>exercisehours</th>\n",
              "      <th>musiccds</th>\n",
              "      <th>playgames</th>\n",
              "      <th>watchtv</th>\n",
              "    </tr>\n",
              "  </thead>\n",
              "  <tbody>\n",
              "    <tr>\n",
              "      <th>0</th>\n",
              "      <td>female</td>\n",
              "      <td>18</td>\n",
              "      <td>first</td>\n",
              "      <td>hazel</td>\n",
              "      <td>68.0</td>\n",
              "      <td>195.0</td>\n",
              "      <td>0</td>\n",
              "      <td>1</td>\n",
              "      <td>20.0</td>\n",
              "      <td>Yes</td>\n",
              "      <td>3.0</td>\n",
              "      <td>75.0</td>\n",
              "      <td>6.0</td>\n",
              "      <td>18.0</td>\n",
              "    </tr>\n",
              "    <tr>\n",
              "      <th>1</th>\n",
              "      <td>male</td>\n",
              "      <td>20</td>\n",
              "      <td>third</td>\n",
              "      <td>brown</td>\n",
              "      <td>70.0</td>\n",
              "      <td>120.0</td>\n",
              "      <td>3</td>\n",
              "      <td>0</td>\n",
              "      <td>24.0</td>\n",
              "      <td>No</td>\n",
              "      <td>0.0</td>\n",
              "      <td>50.0</td>\n",
              "      <td>0.0</td>\n",
              "      <td>3.0</td>\n",
              "    </tr>\n",
              "    <tr>\n",
              "      <th>2</th>\n",
              "      <td>female</td>\n",
              "      <td>18</td>\n",
              "      <td>first</td>\n",
              "      <td>green</td>\n",
              "      <td>67.0</td>\n",
              "      <td>200.0</td>\n",
              "      <td>0</td>\n",
              "      <td>1</td>\n",
              "      <td>35.0</td>\n",
              "      <td>Yes</td>\n",
              "      <td>3.0</td>\n",
              "      <td>53.0</td>\n",
              "      <td>8.0</td>\n",
              "      <td>1.0</td>\n",
              "    </tr>\n",
              "    <tr>\n",
              "      <th>3</th>\n",
              "      <td>male</td>\n",
              "      <td>23</td>\n",
              "      <td>fourth</td>\n",
              "      <td>hazel</td>\n",
              "      <td>74.0</td>\n",
              "      <td>140.0</td>\n",
              "      <td>1</td>\n",
              "      <td>1</td>\n",
              "      <td>5.0</td>\n",
              "      <td>Yes</td>\n",
              "      <td>25.0</td>\n",
              "      <td>50.0</td>\n",
              "      <td>0.0</td>\n",
              "      <td>7.0</td>\n",
              "    </tr>\n",
              "    <tr>\n",
              "      <th>4</th>\n",
              "      <td>female</td>\n",
              "      <td>19</td>\n",
              "      <td>second</td>\n",
              "      <td>blue</td>\n",
              "      <td>62.0</td>\n",
              "      <td>60.0</td>\n",
              "      <td>0</td>\n",
              "      <td>1</td>\n",
              "      <td>5.0</td>\n",
              "      <td>Yes</td>\n",
              "      <td>4.0</td>\n",
              "      <td>30.0</td>\n",
              "      <td>2.0</td>\n",
              "      <td>5.0</td>\n",
              "    </tr>\n",
              "  </tbody>\n",
              "</table>\n",
              "</div>"
            ],
            "text/plain": [
              "   gender  age    year eyecolor  ...  exercisehours  musiccds  playgames  watchtv\n",
              "0  female   18   first    hazel  ...            3.0      75.0        6.0     18.0\n",
              "1    male   20   third    brown  ...            0.0      50.0        0.0      3.0\n",
              "2  female   18   first    green  ...            3.0      53.0        8.0      1.0\n",
              "3    male   23  fourth    hazel  ...           25.0      50.0        0.0      7.0\n",
              "4  female   19  second     blue  ...            4.0      30.0        2.0      5.0\n",
              "\n",
              "[5 rows x 14 columns]"
            ]
          },
          "metadata": {
            "tags": []
          },
          "execution_count": 2
        }
      ]
    },
    {
      "cell_type": "markdown",
      "metadata": {
        "deletable": false,
        "editable": false,
        "nbgrader": {
          "checksum": "f27367e7e9ea794fdff16caaf9834f90",
          "grade": false,
          "grade_id": "cell-80cb77583712aa18",
          "locked": true,
          "schema_version": 1,
          "solution": false
        },
        "id": "S2_bd_sZugj_"
      },
      "source": [
        "---\n",
        "**Question 1 (0.5 points, autograded)**: How many males and females exist in the dataset?"
      ]
    },
    {
      "cell_type": "code",
      "metadata": {
        "deletable": false,
        "nbgrader": {
          "checksum": "7bae96e9bc3cf6154faf15c8c953a12d",
          "grade": false,
          "grade_id": "cell-30e88bd16d0691ae",
          "locked": false,
          "schema_version": 1,
          "solution": true
        },
        "id": "Qq43exlvugkA",
        "colab": {
          "base_uri": "https://localhost:8080/",
          "height": 34
        },
        "outputId": "be2a3092-5b07-4412-b72d-86306551e646"
      },
      "source": [
        "# YOUR CODE HERE\n",
        "print(\"number of males:\", df[df[\"gender\"] == \"male\"].shape[0], \";\", \"number of females:\", df[df[\"gender\"] == \"female\"].shape[0])\n",
        "# raise NotImplementedError()"
      ],
      "execution_count": null,
      "outputs": [
        {
          "output_type": "stream",
          "text": [
            "number of males: 910 ; number of females: 1078\n"
          ],
          "name": "stdout"
        }
      ]
    },
    {
      "cell_type": "code",
      "metadata": {
        "deletable": false,
        "nbgrader": {
          "checksum": "4b015ffcf2248033a4c736e194051ce0",
          "grade": false,
          "grade_id": "cell-b6afcdf2e16edeaf",
          "locked": false,
          "schema_version": 1,
          "solution": true
        },
        "id": "qowIpB1MugkL"
      },
      "source": [
        "#The value set in the variables must be integers\n",
        "num_males = 910 # Replace 0 with the actual value\n",
        "num_females = 1078 # Replace 0 with the actual value\n",
        "\n",
        "# YOUR CODE HERE\n",
        "# raise NotImplementedError()"
      ],
      "execution_count": null,
      "outputs": []
    },
    {
      "cell_type": "code",
      "metadata": {
        "deletable": false,
        "editable": false,
        "nbgrader": {
          "checksum": "b5f6c5a26715775443afa42a101640d3",
          "grade": true,
          "grade_id": "cell-148801df79f2a9ad",
          "locked": true,
          "points": 0.5,
          "schema_version": 1,
          "solution": false
        },
        "id": "rxROmUKRugkQ",
        "colab": {
          "base_uri": "https://localhost:8080/",
          "height": 34
        },
        "outputId": "1dba68b0-58f6-4722-ea90-55a6b2d76ac7"
      },
      "source": [
        "#This is an autograded cell, do not edit\n",
        "print(num_males, num_females)"
      ],
      "execution_count": null,
      "outputs": [
        {
          "output_type": "stream",
          "text": [
            "910 1078\n"
          ],
          "name": "stdout"
        }
      ]
    },
    {
      "cell_type": "markdown",
      "metadata": {
        "deletable": false,
        "editable": false,
        "nbgrader": {
          "checksum": "46a9256f2edd92e7d4ab52309a6b4c57",
          "grade": false,
          "grade_id": "cell-c087e3cd6c8885e2",
          "locked": true,
          "schema_version": 1,
          "solution": false
        },
        "id": "LE7EGFnbugkU"
      },
      "source": [
        "---\n",
        "**Question 2 (0.5 points, autograded)**: What is the Gini Index of this dataset, using males and females as the target classes?"
      ]
    },
    {
      "cell_type": "code",
      "metadata": {
        "deletable": false,
        "nbgrader": {
          "checksum": "099940e4f38498b7848e39cf16effa72",
          "grade": false,
          "grade_id": "cell-77e48e0f5499c4dc",
          "locked": false,
          "schema_version": 1,
          "solution": true
        },
        "id": "L5-IeBVlugkV",
        "colab": {
          "base_uri": "https://localhost:8080/",
          "height": 34
        },
        "outputId": "5d89c761-34ae-437e-be1c-97c3b1bb2cac"
      },
      "source": [
        "# YOUR CODE HERE\n",
        "1 - (num_males / (num_males + num_females)) ** 2 - (num_females / (num_males + num_females)) ** 2\n",
        "# raise NotImplementedError()"
      ],
      "execution_count": null,
      "outputs": [
        {
          "output_type": "execute_result",
          "data": {
            "text/plain": [
              "0.49642927990478075"
            ]
          },
          "metadata": {
            "tags": []
          },
          "execution_count": 6
        }
      ]
    },
    {
      "cell_type": "code",
      "metadata": {
        "deletable": false,
        "nbgrader": {
          "checksum": "9ad8fad77a751f201648404551610cd0",
          "grade": false,
          "grade_id": "cell-48020b6f76b01df8",
          "locked": false,
          "schema_version": 1,
          "solution": true
        },
        "id": "qWJVFWqqugkZ"
      },
      "source": [
        "#The value set in the variable must be float\n",
        "gini_index = 0.49642927990478075 # Replace 0 with the actual value / formula\n",
        "\n",
        "# YOUR CODE HERE\n",
        "# raise NotImplementedError()"
      ],
      "execution_count": null,
      "outputs": []
    },
    {
      "cell_type": "code",
      "metadata": {
        "deletable": false,
        "editable": false,
        "nbgrader": {
          "checksum": "9e64fcb8ce6b4b69fad066fea2ced65a",
          "grade": true,
          "grade_id": "cell-7ae5a16e0caf13e6",
          "locked": true,
          "points": 0.5,
          "schema_version": 1,
          "solution": false
        },
        "id": "N6nvXmTHugke",
        "colab": {
          "base_uri": "https://localhost:8080/",
          "height": 34
        },
        "outputId": "c221a947-2cfa-48e2-9cfe-6c8069a36263"
      },
      "source": [
        "#This is an autograded cell, do not edit\n",
        "print(gini_index)"
      ],
      "execution_count": null,
      "outputs": [
        {
          "output_type": "stream",
          "text": [
            "0.49642927990478075\n"
          ],
          "name": "stdout"
        }
      ]
    },
    {
      "cell_type": "markdown",
      "metadata": {
        "deletable": false,
        "editable": false,
        "nbgrader": {
          "checksum": "df88f99709afdfc9d92e17de990723e4",
          "grade": false,
          "grade_id": "cell-429dd5b9870bc4f0",
          "locked": true,
          "schema_version": 1,
          "solution": false
        },
        "id": "p4XzX2Jjugkj"
      },
      "source": [
        "---\n",
        "## Best Split of a numeric feature\n",
        "**Question 3 (1.5 points, autograded)**: What is the best split point of the 'height' feature? (Still using males and females as the target classes, assuming a binary split)\n",
        "\n",
        "Recall that, to calculate the best split of this numeric field, you'll need to order your data by 'height', then consider the midpoint between each pair of consecutive heights as a potential split point, then calculate the Gini Index for that partitioning. You'll want to keep track of the best split point and its Gini Index (remember that you are trying to minimize the Gini Index). \n",
        "\n",
        "There are a lot of ways to do this. Some are very fast, others very slow. One tip to make this run quickly is, as you consecutively step through the data and calculate the Gini Index of each possible split point, keep a running total of the number of rows for each candidate that are located above and below the split point. \n",
        "\n",
        "Some Python tips: \n",
        "\n",
        "* Counter(), from the collections module, is a special dictionary for counting values of a key\n",
        "* zip() lets you concatenate lists into a list of tuples (for example, if we have a list of the candidates and a list of transaction amounts, zip(candidate_list, transaction_amount) would give us a list of (candidate, transaction amount) pairs"
      ]
    },
    {
      "cell_type": "code",
      "metadata": {
        "deletable": false,
        "nbgrader": {
          "checksum": "39f67d746e08f968310e08a1e6302254",
          "grade": false,
          "grade_id": "cell-7e178474fbad8e3a",
          "locked": false,
          "schema_version": 1,
          "solution": true
        },
        "id": "C922WXCougkm",
        "colab": {
          "base_uri": "https://localhost:8080/",
          "height": 34
        },
        "outputId": "6b9206aa-ec4a-41dc-cd77-7803eadffbd8"
      },
      "source": [
        "# YOUR CODE HERE\n",
        "sorted = df.sort_values(by = \"height\")[[\"height\", \"gender\"]]\n",
        "sorted[\"gender\"] = sorted[\"gender\"].replace(\"female\", 1)\n",
        "sorted[\"gender\"] = sorted[\"gender\"].replace(\"male\", 0)\n",
        "\n",
        "heights = sorted.groupby(\"height\").first().reset_index()[\"height\"]\n",
        "midpoints = []\n",
        "for first, second in zip(heights, heights[1:]):\n",
        "    midpoints.append((first + second) / 2)\n",
        "\n",
        "gini_midpoints = {}\n",
        "for i in midpoints:\n",
        "    num_female_before = np.count_nonzero(sorted[sorted[\"height\"] < i][\"gender\"] == 1)\n",
        "    num_male_before = np.count_nonzero(sorted[sorted[\"height\"] < i][\"gender\"] == 0)\n",
        "    num_female_after = np.count_nonzero(sorted[sorted[\"height\"] > i][\"gender\"] == 1)\n",
        "    num_male_after = np.count_nonzero(sorted[sorted[\"height\"] > i][\"gender\"] == 0)\n",
        "\n",
        "    gini_before = len(sorted[sorted[\"height\"] < i]) / sorted.shape[0] * (1 - (num_female_before / len(sorted[sorted[\"height\"] < i])) ** 2 - \n",
        "                                                                             (num_male_before / len(sorted[sorted[\"height\"] < i])) ** 2)\n",
        "    gini_after = len(sorted[sorted[\"height\"] > i]) / sorted.shape[0] * (1 - (num_female_after / len(sorted[sorted[\"height\"] > i])) ** 2 - \n",
        "                                                                            (num_male_after / len(sorted[sorted[\"height\"] > i])) ** 2)\n",
        "\n",
        "    gini_midpoints[i] = gini_before + gini_after\n",
        "\n",
        "min(gini_midpoints, key = gini_midpoints.get)\n",
        "\n",
        "# source: https://stackoverflow.com/questions/21303224/iterate-over-all-pairs-of-consecutive-items-in-a-list\n",
        "# raise NotImplementedError()"
      ],
      "execution_count": null,
      "outputs": [
        {
          "output_type": "execute_result",
          "data": {
            "text/plain": [
              "68.5"
            ]
          },
          "metadata": {
            "tags": []
          },
          "execution_count": 9
        }
      ]
    },
    {
      "cell_type": "code",
      "metadata": {
        "deletable": false,
        "nbgrader": {
          "checksum": "6f2ddee90f539fef475c3cf581869a7f",
          "grade": false,
          "grade_id": "cell-fdcb9f54f35480c4",
          "locked": false,
          "schema_version": 1,
          "solution": true
        },
        "id": "RiMp3KiOugkv"
      },
      "source": [
        "#The value set in the variable must be float\n",
        "best_split_point = 68.5 #Replace 0 with the actual value\n",
        "\n",
        "# YOUR CODE HERE\n",
        "# raise NotImplementedError()"
      ],
      "execution_count": null,
      "outputs": []
    },
    {
      "cell_type": "code",
      "metadata": {
        "deletable": false,
        "editable": false,
        "nbgrader": {
          "checksum": "2b3dd2ed02ddb601bc36a52f45defd92",
          "grade": true,
          "grade_id": "cell-323f912bd5314e78",
          "locked": true,
          "points": 1.5,
          "schema_version": 1,
          "solution": false
        },
        "id": "61AwBlXhugk0",
        "colab": {
          "base_uri": "https://localhost:8080/",
          "height": 34
        },
        "outputId": "6c512752-0618-46ce-82a1-da7027b0ef36"
      },
      "source": [
        "#This is an autograded cell, do not edit\n",
        "print(best_split_point)"
      ],
      "execution_count": null,
      "outputs": [
        {
          "output_type": "stream",
          "text": [
            "68.5\n"
          ],
          "name": "stdout"
        }
      ]
    },
    {
      "cell_type": "markdown",
      "metadata": {
        "deletable": false,
        "editable": false,
        "nbgrader": {
          "checksum": "166316144c3f9c6f82d2963c96c19ba4",
          "grade": false,
          "grade_id": "cell-aa468156b67c5ab6",
          "locked": true,
          "schema_version": 1,
          "solution": false
        },
        "id": "AawaoNa9ugk2"
      },
      "source": [
        "---\n",
        "**Question 4 (0.5 points, autograded)**: What is the Gini index of the best split point of the 'height' feature? (Still using males and females as the target classes, assuming a binary split)\n"
      ]
    },
    {
      "cell_type": "code",
      "metadata": {
        "deletable": false,
        "nbgrader": {
          "checksum": "ee6e07cc1c224dbd0852a4105190e3f2",
          "grade": false,
          "grade_id": "cell-11b6c20fa6270892",
          "locked": false,
          "schema_version": 1,
          "solution": true
        },
        "id": "J_8GTuoSugk3"
      },
      "source": [
        "# YOUR CODE HERE\n",
        "# raise NotImplementedError()"
      ],
      "execution_count": null,
      "outputs": []
    },
    {
      "cell_type": "code",
      "metadata": {
        "deletable": false,
        "nbgrader": {
          "checksum": "4264def559ba5fe2e77d3688f04d9cfd",
          "grade": false,
          "grade_id": "cell-bef6191446f0b09e",
          "locked": false,
          "schema_version": 1,
          "solution": true
        },
        "id": "nnY4qayGugk8"
      },
      "source": [
        "#The value set in the variable must be float\n",
        "gini_of_best_split_point = gini_midpoints[68.5] #Replace 0 with the actual value\n",
        "\n",
        "# YOUR CODE HERE\n",
        "# raise NotImplementedError()"
      ],
      "execution_count": null,
      "outputs": []
    },
    {
      "cell_type": "code",
      "metadata": {
        "deletable": false,
        "editable": false,
        "nbgrader": {
          "checksum": "0a0c63234a8f7fe57d8a19b011609fda",
          "grade": true,
          "grade_id": "cell-a483f7c52ce46218",
          "locked": true,
          "points": 0.5,
          "schema_version": 1,
          "solution": false
        },
        "id": "qtHNnrD8ugk_",
        "colab": {
          "base_uri": "https://localhost:8080/",
          "height": 34
        },
        "outputId": "3577a7f7-cc38-432b-ed2c-de1659918bf7"
      },
      "source": [
        "#This is an autograded cell, do not edit\n",
        "print(gini_of_best_split_point)"
      ],
      "execution_count": null,
      "outputs": [
        {
          "output_type": "stream",
          "text": [
            "0.26552881207029194\n"
          ],
          "name": "stdout"
        }
      ]
    },
    {
      "cell_type": "markdown",
      "metadata": {
        "deletable": false,
        "editable": false,
        "nbgrader": {
          "checksum": "3e4a285a07159ff52a5f4ffe396f74d6",
          "grade": false,
          "grade_id": "cell-3d05b5c3faef353d",
          "locked": true,
          "schema_version": 1,
          "solution": false
        },
        "id": "TILEzh_WuglE"
      },
      "source": [
        "---\n",
        "**Question 5 (0.5 points, autograded)**: How much does this partitioning reduce the Gini Index over the Gini index of the overall dataset?"
      ]
    },
    {
      "cell_type": "code",
      "metadata": {
        "deletable": false,
        "nbgrader": {
          "checksum": "58f9b4479c238a525df6aa057e6eaa3b",
          "grade": false,
          "grade_id": "cell-1ab03a8159601e29",
          "locked": false,
          "schema_version": 1,
          "solution": true
        },
        "id": "qOCZ13AAuglG"
      },
      "source": [
        "# YOUR CODE HERE\n",
        "# raise NotImplementedError()"
      ],
      "execution_count": null,
      "outputs": []
    },
    {
      "cell_type": "code",
      "metadata": {
        "deletable": false,
        "nbgrader": {
          "checksum": "0d222b71a5f4dd420fd140eeefb846d4",
          "grade": false,
          "grade_id": "cell-fbcebc71fc8bc842",
          "locked": false,
          "schema_version": 1,
          "solution": true
        },
        "id": "Z_jBrzFLuglN"
      },
      "source": [
        "#The value set in the variable must be float\n",
        "gini_difference = abs(gini_index - gini_of_best_split_point) #Replace 0 with the actual value\n",
        "\n",
        "# YOUR CODE HERE\n",
        "# raise NotImplementedError()"
      ],
      "execution_count": null,
      "outputs": []
    },
    {
      "cell_type": "code",
      "metadata": {
        "deletable": false,
        "editable": false,
        "nbgrader": {
          "checksum": "86c116a776736ca45f3b04f15f237623",
          "grade": true,
          "grade_id": "cell-f24e621d36c96976",
          "locked": true,
          "points": 0.5,
          "schema_version": 1,
          "solution": false
        },
        "id": "XrLS99QPuglQ",
        "colab": {
          "base_uri": "https://localhost:8080/",
          "height": 34
        },
        "outputId": "87e14ffe-b9d0-4a85-cc6c-d22ed4e2ddf0"
      },
      "source": [
        "#This is an autograded cell, do not edit\n",
        "print(gini_difference)"
      ],
      "execution_count": null,
      "outputs": [
        {
          "output_type": "stream",
          "text": [
            "0.2309004678344888\n"
          ],
          "name": "stdout"
        }
      ]
    },
    {
      "cell_type": "markdown",
      "metadata": {
        "deletable": false,
        "editable": false,
        "nbgrader": {
          "checksum": "a3c0d5d5951cda89ddc95d0edd3c006d",
          "grade": false,
          "grade_id": "cell-68fc7f06fbb3bd5c",
          "locked": true,
          "schema_version": 1,
          "solution": false
        },
        "id": "4vI5aG7GuglS"
      },
      "source": [
        "---\n",
        "**Question 6 (0.5 points, autograded)**: How many 'female' and 'male' rows are shorter than the best height split point?"
      ]
    },
    {
      "cell_type": "code",
      "metadata": {
        "deletable": false,
        "nbgrader": {
          "checksum": "3d82c210dd5b8b938066fc8b9a0e70e8",
          "grade": false,
          "grade_id": "cell-cbfbed1feed2c2c6",
          "locked": false,
          "schema_version": 1,
          "solution": true
        },
        "id": "Zmt1qgE5uglT"
      },
      "source": [
        "# YOUR CODE HERE\n",
        "# raise NotImplementedError()"
      ],
      "execution_count": null,
      "outputs": []
    },
    {
      "cell_type": "code",
      "metadata": {
        "deletable": false,
        "nbgrader": {
          "checksum": "71225beec49fc733245cd37612d3712e",
          "grade": false,
          "grade_id": "cell-fed4f19f21abcc31",
          "locked": false,
          "schema_version": 1,
          "solution": true
        },
        "id": "xAB5GTeauglX"
      },
      "source": [
        "\n",
        "#The value set in the variable must be integer\n",
        "female_rows_below = np.count_nonzero(df[df[\"gender\"] == \"female\"][\"height\"] < best_split_point) #Replace 0 with the actual value\n",
        "male_rows_below = np.count_nonzero(df[df[\"gender\"] == \"male\"][\"height\"] < best_split_point) #Replace 0 with the actual value\n",
        "# YOUR CODE HERE\n",
        "# raise NotImplementedError()"
      ],
      "execution_count": null,
      "outputs": []
    },
    {
      "cell_type": "code",
      "metadata": {
        "deletable": false,
        "editable": false,
        "nbgrader": {
          "checksum": "12c1b2345e628bec41463cf88a60aeb0",
          "grade": true,
          "grade_id": "cell-8129604534bfec74",
          "locked": true,
          "points": 0.5,
          "schema_version": 1,
          "solution": false
        },
        "id": "MiBZAc9vugld",
        "colab": {
          "base_uri": "https://localhost:8080/",
          "height": 34
        },
        "outputId": "238839e8-628d-4f10-e769-3d8f6f785674"
      },
      "source": [
        "#This is an autograded cell, do not edit\n",
        "print(female_rows_below, male_rows_below)"
      ],
      "execution_count": null,
      "outputs": [
        {
          "output_type": "stream",
          "text": [
            "905 142\n"
          ],
          "name": "stdout"
        }
      ]
    },
    {
      "cell_type": "markdown",
      "metadata": {
        "deletable": false,
        "editable": false,
        "nbgrader": {
          "checksum": "9fa8403981b6352444437901acb0d45c",
          "grade": false,
          "grade_id": "cell-95c30c8534082764",
          "locked": true,
          "schema_version": 1,
          "solution": false
        },
        "id": "GmBNDTILuglg"
      },
      "source": [
        "---\n",
        "**Question 7 (0.5 points, autograded)**: How many 'female' and 'male' rows are taller than the best height split point?"
      ]
    },
    {
      "cell_type": "code",
      "metadata": {
        "deletable": false,
        "nbgrader": {
          "checksum": "9754f9fb331109f6c4b2b834211f0021",
          "grade": false,
          "grade_id": "cell-8b16da8f6a50682f",
          "locked": false,
          "schema_version": 1,
          "solution": true
        },
        "id": "dHJLmbwvuglh"
      },
      "source": [
        "# YOUR CODE HERE\n",
        "# raise NotImplementedError()"
      ],
      "execution_count": null,
      "outputs": []
    },
    {
      "cell_type": "code",
      "metadata": {
        "deletable": false,
        "nbgrader": {
          "checksum": "e2697ca1d9a6feec241ff33460d57600",
          "grade": false,
          "grade_id": "cell-2314033286696a75",
          "locked": false,
          "schema_version": 1,
          "solution": true
        },
        "id": "46G-hbpnugll"
      },
      "source": [
        "\n",
        "#The value set in the variable must be integer\n",
        "female_rows_above = np.count_nonzero(df[df[\"gender\"] == \"female\"][\"height\"] > best_split_point) #Replace 0 with the actual value\n",
        "male_rows_above = np.count_nonzero(df[df[\"gender\"] == \"male\"][\"height\"] > best_split_point) #Replace 0 with the actual value\n",
        "# YOUR CODE HERE\n",
        "# raise NotImplementedError()"
      ],
      "execution_count": null,
      "outputs": []
    },
    {
      "cell_type": "code",
      "metadata": {
        "deletable": false,
        "editable": false,
        "nbgrader": {
          "checksum": "b2c8fbc90d6eb0473ef27e1855483904",
          "grade": true,
          "grade_id": "cell-da98dfdb73b8de96",
          "locked": true,
          "points": 0.5,
          "schema_version": 1,
          "solution": false
        },
        "id": "n2seT5oauglo",
        "colab": {
          "base_uri": "https://localhost:8080/",
          "height": 34
        },
        "outputId": "90eef92b-92b9-417b-aa8b-55a59299e439"
      },
      "source": [
        "#This is an autograded cell, do not edit\n",
        "print(female_rows_above, male_rows_above)"
      ],
      "execution_count": null,
      "outputs": [
        {
          "output_type": "stream",
          "text": [
            "173 768\n"
          ],
          "name": "stdout"
        }
      ]
    },
    {
      "cell_type": "markdown",
      "metadata": {
        "deletable": false,
        "editable": false,
        "nbgrader": {
          "checksum": "1600c335755c3857d742205f32718e81",
          "grade": false,
          "grade_id": "cell-f0f3bf7078e30689",
          "locked": true,
          "schema_version": 1,
          "solution": false
        },
        "id": "waG6P9fyuglt"
      },
      "source": [
        "---\n",
        "## Best Split of a Categorial Variable\n",
        "\n",
        "**Question 8 (0.5 points, autograded)**: How many possible splits are there of the eyecolor feature? (Assuming binary split)\n",
        "\n",
        "Python tip: the combinations function of the itertools module allows you to enumerate combinations of a list. You might want to Google 'power set'.\n"
      ]
    },
    {
      "cell_type": "code",
      "metadata": {
        "deletable": false,
        "nbgrader": {
          "checksum": "2887cf4ef5a35baf851be351c05f0397",
          "grade": false,
          "grade_id": "cell-e5896ba56062be2d",
          "locked": false,
          "schema_version": 1,
          "solution": true
        },
        "id": "1uYaZLJnuglu"
      },
      "source": [
        "# YOUR CODE HERE\n",
        "eyecolors = df.groupby(\"eyecolor\").first().reset_index()[\"eyecolor\"]\n",
        "splits = []\n",
        "for i in np.arange(1, len(eyecolors)):\n",
        "    splits.append(list(combinations(eyecolors, i)))\n",
        "# splits\n",
        "# raise NotImplementedError()"
      ],
      "execution_count": null,
      "outputs": []
    },
    {
      "cell_type": "code",
      "metadata": {
        "deletable": false,
        "nbgrader": {
          "checksum": "c295a12954acf6f936b6a921a548717d",
          "grade": false,
          "grade_id": "cell-7cc929e1f346c97c",
          "locked": false,
          "schema_version": 1,
          "solution": true
        },
        "id": "FozfnlkNuglx"
      },
      "source": [
        "\n",
        "#The value set in the variable must be integer\n",
        "num_of_splits = 0\n",
        "for i in np.arange(len(splits)):\n",
        "    num_of_splits += len(splits[i])\n",
        "# Replace 0 with the actual value\n",
        "# YOUR CODE HERE\n",
        "# raise NotImplementedError()"
      ],
      "execution_count": null,
      "outputs": []
    },
    {
      "cell_type": "code",
      "metadata": {
        "deletable": false,
        "editable": false,
        "nbgrader": {
          "checksum": "d10ef3967a94bfbc24d620dceae732ed",
          "grade": true,
          "grade_id": "cell-e345841556e102c6",
          "locked": true,
          "points": 0.5,
          "schema_version": 1,
          "solution": false
        },
        "id": "cLupsW1Sugl0",
        "colab": {
          "base_uri": "https://localhost:8080/",
          "height": 34
        },
        "outputId": "b609b03d-c868-48fa-9069-68bf6bb6ac09"
      },
      "source": [
        "#This is an autograded cell, do not edit\n",
        "print(num_of_splits)"
      ],
      "execution_count": null,
      "outputs": [
        {
          "output_type": "stream",
          "text": [
            "30\n"
          ],
          "name": "stdout"
        }
      ]
    },
    {
      "cell_type": "markdown",
      "metadata": {
        "deletable": false,
        "editable": false,
        "nbgrader": {
          "checksum": "3f998cc39260ed85ff0341750544bd86",
          "grade": false,
          "grade_id": "cell-8503b7bec552f92c",
          "locked": true,
          "schema_version": 1,
          "solution": false
        },
        "id": "PuLJsUuvugl3"
      },
      "source": [
        "---\n",
        "**Question 9 (1 points, autograded)**: Which split of eyecolor best splits the female and male rows, as measured by the Gini Index?"
      ]
    },
    {
      "cell_type": "code",
      "metadata": {
        "deletable": false,
        "nbgrader": {
          "checksum": "4f117805db47824ae1ef7129672c0d47",
          "grade": false,
          "grade_id": "cell-76f837f4f27e0842",
          "locked": false,
          "schema_version": 1,
          "solution": true
        },
        "id": "HLOlJnsqugl3",
        "colab": {
          "base_uri": "https://localhost:8080/",
          "height": 34
        },
        "outputId": "e63f3400-16c3-41be-cdb2-bb827a0cfb3c"
      },
      "source": [
        "# YOUR CODE HERE\n",
        "eyecolor = df.copy()[[\"eyecolor\", \"gender\"]]\n",
        "eyecolor[\"gender\"] = eyecolor[\"gender\"].replace(\"female\", 1)\n",
        "eyecolor[\"gender\"] = eyecolor[\"gender\"].replace(\"male\", 0)\n",
        "\n",
        "result = {}\n",
        "for j in np.arange(len(splits)):\n",
        "    for split in splits[j]: # split is the current way of splitting\n",
        "        eyecolor[\"in_split\"] = eyecolor[\"eyecolor\"].apply(lambda x: 1 if x in split else 0)\n",
        "        \n",
        "        num_female_in_split = np.count_nonzero(eyecolor[eyecolor[\"in_split\"] == 1][\"gender\"] == 1)\n",
        "        num_male_in_split = np.count_nonzero(eyecolor[eyecolor[\"in_split\"] == 1][\"gender\"] == 0)\n",
        "        num_female_not_in_split = np.count_nonzero(eyecolor[eyecolor[\"in_split\"] == 0][\"gender\"] == 1)\n",
        "        num_male_not_in_split = np.count_nonzero(eyecolor[eyecolor[\"in_split\"] == 0][\"gender\"] == 0)\n",
        "\n",
        "        gini_in_split = len(eyecolor[eyecolor[\"in_split\"] == 1]) / eyecolor.shape[0] * (1 - (num_female_in_split / len(eyecolor[eyecolor[\"in_split\"] == 1])) ** 2 - \n",
        "                                                                             (num_male_in_split / len(eyecolor[eyecolor[\"in_split\"] == 1])) ** 2)\n",
        "        gini_not_in_split = len(eyecolor[eyecolor[\"in_split\"] == 0]) / eyecolor.shape[0] * (1 - (num_female_not_in_split / len(eyecolor[eyecolor[\"in_split\"] == 0])) ** 2 - \n",
        "                                                                            (num_male_not_in_split / len(eyecolor[eyecolor[\"in_split\"] == 0])) ** 2)\n",
        "        \n",
        "        result[split] = gini_in_split + gini_not_in_split\n",
        "\n",
        "min(result, key = result.get)\n",
        "  \n",
        "# raise NotImplementedError()"
      ],
      "execution_count": null,
      "outputs": [
        {
          "output_type": "execute_result",
          "data": {
            "text/plain": [
              "('green',)"
            ]
          },
          "metadata": {
            "tags": []
          },
          "execution_count": 27
        }
      ]
    },
    {
      "cell_type": "code",
      "metadata": {
        "deletable": false,
        "nbgrader": {
          "checksum": "1904d5cda806153db739b5a397c420ce",
          "grade": false,
          "grade_id": "cell-c6d008b0007ae4d7",
          "locked": false,
          "schema_version": 1,
          "solution": true
        },
        "id": "iTBzhW_Vugl5"
      },
      "source": [
        "#The value set in the variable must be an array\n",
        "colour_group_1 = ('green',) #Replace [] with the actual colours/values in the group\n",
        "colour_group_2 = ('blue', 'brown', 'hazel', 'other') #Replace [] with the actual colours/values in the group\n",
        "# YOUR CODE HERE\n",
        "# raise NotImplementedError()"
      ],
      "execution_count": null,
      "outputs": []
    },
    {
      "cell_type": "code",
      "metadata": {
        "deletable": false,
        "editable": false,
        "nbgrader": {
          "checksum": "4e306b120de04cbdc496f0bf5ca4bc75",
          "grade": true,
          "grade_id": "cell-633329070c59b89d",
          "locked": true,
          "points": 1,
          "schema_version": 1,
          "solution": false
        },
        "id": "DBKu0dDvugl-",
        "colab": {
          "base_uri": "https://localhost:8080/",
          "height": 34
        },
        "outputId": "5f48c5b0-ea90-4037-864e-39ee18a49f9f"
      },
      "source": [
        "#This is an autograded cell, do not edit\n",
        "print(colour_group_1, colour_group_2)"
      ],
      "execution_count": null,
      "outputs": [
        {
          "output_type": "stream",
          "text": [
            "('green',) ('blue', 'brown', 'hazel', 'other')\n"
          ],
          "name": "stdout"
        }
      ]
    },
    {
      "cell_type": "markdown",
      "metadata": {
        "deletable": false,
        "editable": false,
        "nbgrader": {
          "checksum": "a5fa6db03e0b1d03320f702d669e6328",
          "grade": false,
          "grade_id": "cell-54d3a4d63e10789a",
          "locked": true,
          "schema_version": 1,
          "solution": false
        },
        "id": "Q0n3uxWFugmC"
      },
      "source": [
        "---\n",
        "**Question 10 (0.5 points, autograded)**: What is the Gini Index of this best split?"
      ]
    },
    {
      "cell_type": "code",
      "metadata": {
        "deletable": false,
        "nbgrader": {
          "checksum": "f1b5c57dc68cb76716cb9dd1e5cb00db",
          "grade": false,
          "grade_id": "cell-f755b4ebebdcbcd3",
          "locked": false,
          "schema_version": 1,
          "solution": true
        },
        "id": "SLWuwwvnugmF"
      },
      "source": [
        "# YOUR CODE HERE\n",
        "# raise NotImplementedError()"
      ],
      "execution_count": null,
      "outputs": []
    },
    {
      "cell_type": "code",
      "metadata": {
        "deletable": false,
        "nbgrader": {
          "checksum": "efce7c9024ee735ae78576a9e6153798",
          "grade": false,
          "grade_id": "cell-b9d691586c5addbd",
          "locked": false,
          "schema_version": 1,
          "solution": true
        },
        "id": "VYJlCiCuugmJ"
      },
      "source": [
        "#The value set in the variable must be float\n",
        "gini_of_best_split_group = result[colour_group_1] #Replace 0 with the actual value\n",
        "\n",
        "# YOUR CODE HERE\n",
        "# raise NotImplementedError()"
      ],
      "execution_count": null,
      "outputs": []
    },
    {
      "cell_type": "code",
      "metadata": {
        "deletable": false,
        "editable": false,
        "nbgrader": {
          "checksum": "2d4da39818e70541f2d3a55729adbae0",
          "grade": true,
          "grade_id": "cell-7332ad4509b48564",
          "locked": true,
          "points": 0.5,
          "schema_version": 1,
          "solution": false
        },
        "id": "MFn6uVBcugmL",
        "colab": {
          "base_uri": "https://localhost:8080/",
          "height": 34
        },
        "outputId": "cab22935-8064-4422-9b04-5e79c339754a"
      },
      "source": [
        "#This is an autograded cell, do not edit\n",
        "print(gini_of_best_split_group)"
      ],
      "execution_count": null,
      "outputs": [
        {
          "output_type": "stream",
          "text": [
            "0.4930915729509777\n"
          ],
          "name": "stdout"
        }
      ]
    },
    {
      "cell_type": "markdown",
      "metadata": {
        "deletable": false,
        "editable": false,
        "nbgrader": {
          "checksum": "473602565cfa2400f2ad7b85fd72b373",
          "grade": false,
          "grade_id": "cell-34f1033ad6a06232",
          "locked": true,
          "schema_version": 1,
          "solution": false
        },
        "id": "_o0PW2rLugmO"
      },
      "source": [
        "---\n",
        "**Question 11 (0.5 points, autograded)**: How much does this partitioning reduce the Gini Index over the Gini index of the overall dataset?"
      ]
    },
    {
      "cell_type": "code",
      "metadata": {
        "deletable": false,
        "nbgrader": {
          "checksum": "bf9360740e6f25bb1c156c93c1869845",
          "grade": false,
          "grade_id": "cell-68d41651a95a23df",
          "locked": false,
          "schema_version": 1,
          "solution": true
        },
        "id": "Ja5w5_ucugmP"
      },
      "source": [
        "# YOUR CODE HERE\n",
        "# raise NotImplementedError()"
      ],
      "execution_count": null,
      "outputs": []
    },
    {
      "cell_type": "code",
      "metadata": {
        "deletable": false,
        "nbgrader": {
          "checksum": "7d84ef913eb55fa6ab7d5f327bc8b650",
          "grade": false,
          "grade_id": "cell-7e15f66615ed4361",
          "locked": false,
          "schema_version": 1,
          "solution": true
        },
        "id": "Z1m4Yf-NugmR"
      },
      "source": [
        "\n",
        "#The value set in the variable must be float\n",
        "gini_difference_2 = abs(gini_index - gini_of_best_split_group) #Replace 0 with the actual value\n",
        "\n",
        "# YOUR CODE HERE\n",
        "# raise NotImplementedError()"
      ],
      "execution_count": null,
      "outputs": []
    },
    {
      "cell_type": "code",
      "metadata": {
        "deletable": false,
        "editable": false,
        "nbgrader": {
          "checksum": "6ac2eb45e569ee8da44b7ed0faf33edc",
          "grade": true,
          "grade_id": "cell-a879c9d33c4f102f",
          "locked": true,
          "points": 0.5,
          "schema_version": 1,
          "solution": false
        },
        "id": "-7ij3URDugmT",
        "colab": {
          "base_uri": "https://localhost:8080/",
          "height": 34
        },
        "outputId": "900e493f-3ae4-461e-b90e-67b6e4b859de"
      },
      "source": [
        "#This is an autograded cell, do not edit\n",
        "print(gini_difference_2)"
      ],
      "execution_count": null,
      "outputs": [
        {
          "output_type": "stream",
          "text": [
            "0.0033377069538030324\n"
          ],
          "name": "stdout"
        }
      ]
    },
    {
      "cell_type": "markdown",
      "metadata": {
        "deletable": false,
        "editable": false,
        "nbgrader": {
          "checksum": "60aae9f1a5f6e166acf954ee3219986a",
          "grade": false,
          "grade_id": "cell-a47e13b3fcc0108a",
          "locked": true,
          "schema_version": 1,
          "solution": false
        },
        "id": "C0UNgzrTugmX"
      },
      "source": [
        "---\n",
        "**Question 12 (1 points, autograded)** : How many 'female' rows and 'male' rows are in your first partition? How many 'female' rows and 'male' rows are in your second partition?"
      ]
    },
    {
      "cell_type": "code",
      "metadata": {
        "deletable": false,
        "nbgrader": {
          "checksum": "83f6848101b44ce8d5d499484d55d3b2",
          "grade": false,
          "grade_id": "cell-da838430a7b931e1",
          "locked": false,
          "schema_version": 1,
          "solution": true
        },
        "id": "JguwfDQmugmY"
      },
      "source": [
        "# YOUR CODE HERE\n",
        "eyecolor[\"in_split\"] = eyecolor[\"eyecolor\"].apply(lambda x: 1 if x in colour_group_1 else 0)\n",
        "# raise NotImplementedError()"
      ],
      "execution_count": null,
      "outputs": []
    },
    {
      "cell_type": "code",
      "metadata": {
        "deletable": false,
        "nbgrader": {
          "checksum": "3c880462e0a6e9e9d64542752b22cbef",
          "grade": false,
          "grade_id": "cell-e4c3bc95376f6df7",
          "locked": false,
          "schema_version": 1,
          "solution": true
        },
        "id": "H-dDxSbDugma"
      },
      "source": [
        "\n",
        "#The value set in the variable must be integer, order doesn't matter\n",
        "partition1_male = np.count_nonzero(eyecolor[eyecolor[\"in_split\"] == 1][\"gender\"] == 0) #Replace 0 with the actual value\n",
        "partition1_female = np.count_nonzero(eyecolor[eyecolor[\"in_split\"] == 1][\"gender\"] == 1) #Replace 0 with the actual value\n",
        "partition2_male = np.count_nonzero(eyecolor[eyecolor[\"in_split\"] == 0][\"gender\"] == 0) #Replace 0 with the actual value\n",
        "partition2_female = np.count_nonzero(eyecolor[eyecolor[\"in_split\"] == 0][\"gender\"] == 1) #Replace 0 with the actual value\n",
        "\n",
        "# YOUR CODE HERE\n",
        "# raise NotImplementedError()"
      ],
      "execution_count": null,
      "outputs": []
    },
    {
      "cell_type": "code",
      "metadata": {
        "deletable": false,
        "editable": false,
        "nbgrader": {
          "checksum": "0fdc2e6ab8f5b169f5bfd9566d85fc01",
          "grade": true,
          "grade_id": "cell-1c022d94964cb6cc",
          "locked": true,
          "points": 1,
          "schema_version": 1,
          "solution": false
        },
        "id": "XYCfnyCNugmd",
        "colab": {
          "base_uri": "https://localhost:8080/",
          "height": 34
        },
        "outputId": "e72756b0-e3e0-42ab-e173-617c8b8e5eca"
      },
      "source": [
        "#This is an autograded cell, do not edit\n",
        "print(partition1_male, partition1_female, partition2_male, partition2_female)"
      ],
      "execution_count": null,
      "outputs": [
        {
          "output_type": "stream",
          "text": [
            "107 190 803 888\n"
          ],
          "name": "stdout"
        }
      ]
    },
    {
      "cell_type": "markdown",
      "metadata": {
        "deletable": false,
        "editable": false,
        "nbgrader": {
          "checksum": "2d2ab95c05c31c5f214bd422e16e450b",
          "grade": false,
          "grade_id": "cell-d81b2ec1e886e1b6",
          "locked": true,
          "schema_version": 1,
          "solution": false
        },
        "id": "JoFggmQGugmi"
      },
      "source": [
        "---\n",
        "## Training a decision tree\n",
        "**Question 13 (1 points, autograded)**: Using all of the features in the original dataframe read in at the top of this notebook, train a decision tree classifier that has a depth of three (not including the root node). What is the accuracy of this classifier on the training data?\n",
        "\n",
        "Scikit-learn classifiers require class labels and features to be in numeric arrays. As such, you will need to turn your categorical features into numeric arrays using DictVectorizer. This is a helpful notebook for understanding how to do this: http://nbviewer.ipython.org/gist/sarguido/7423289. You can turn a pandas dataframe of features into a dictionary of the form needed by DictVectorizer by using df.to_dict('records'). Make sure you remove the class label first (in this case, gender). If you use the class label as a feature, your classifier will have a training accuracy of 100%! The example notebook link also shows how to turn your class labels into a numeric array using sklearn.preprocessing.LabelEncoder()."
      ]
    },
    {
      "cell_type": "code",
      "metadata": {
        "deletable": false,
        "nbgrader": {
          "checksum": "14960b019250231f745c6db5a38c70f7",
          "grade": false,
          "grade_id": "cell-a77a52f79c83b21a",
          "locked": false,
          "schema_version": 1,
          "solution": true
        },
        "id": "kFIx_xdyugmj",
        "colab": {
          "base_uri": "https://localhost:8080/",
          "height": 34
        },
        "outputId": "e6f247f3-860b-48e8-fcd3-16ba3f9729c6"
      },
      "source": [
        "# YOUR CODE HERE\n",
        "data = df.copy()\n",
        "students_data = data.drop(columns = [\"gender\"])\n",
        "students_data = students_data.to_dict(\"records\")\n",
        "students_data\n",
        "\n",
        "from sklearn.feature_extraction import DictVectorizer\n",
        "vec = DictVectorizer()\n",
        "students_data = vec.fit_transform(students_data).toarray()\n",
        "\n",
        "from sklearn.tree import DecisionTreeClassifier\n",
        "from sklearn import metrics\n",
        "x = students_data\n",
        "y = data[\"gender\"]\n",
        "\n",
        "clf = DecisionTreeClassifier(max_depth = 3)\n",
        "clf = clf.fit(x, y)\n",
        "y_pred = clf.predict(x)\n",
        "\n",
        "metrics.accuracy_score(y, y_pred)\n",
        "# source: https://www.datacamp.com/community/tutorials/decision-tree-classification-python\n",
        "# raise NotImplementedError()"
      ],
      "execution_count": null,
      "outputs": [
        {
          "output_type": "execute_result",
          "data": {
            "text/plain": [
              "0.8646881287726358"
            ]
          },
          "metadata": {
            "tags": []
          },
          "execution_count": 39
        }
      ]
    },
    {
      "cell_type": "code",
      "metadata": {
        "deletable": false,
        "nbgrader": {
          "checksum": "f26339bc22d99829fefeb18e1c46cb06",
          "grade": false,
          "grade_id": "cell-55c9f9a2702cf09c",
          "locked": false,
          "schema_version": 1,
          "solution": true
        },
        "id": "CqowI-lrugmn"
      },
      "source": [
        "\n",
        "#The value set in the variable must be float\n",
        "accuracy = 0.8646881287726358 #Replace 0 with the actual value\n",
        "\n",
        "# YOUR CODE HERE\n",
        "# raise NotImplementedError()"
      ],
      "execution_count": null,
      "outputs": []
    },
    {
      "cell_type": "code",
      "metadata": {
        "deletable": false,
        "editable": false,
        "nbgrader": {
          "checksum": "75544e763b81e3e36748ea0f4989c6ae",
          "grade": true,
          "grade_id": "cell-329a69c83b199316",
          "locked": true,
          "points": 1,
          "schema_version": 1,
          "solution": false
        },
        "id": "urP93Al5ugmu",
        "colab": {
          "base_uri": "https://localhost:8080/",
          "height": 34
        },
        "outputId": "b90257f6-d978-49c8-db8d-866ae545aa46"
      },
      "source": [
        "#This is an autograded cell, do not edit\n",
        "print(accuracy)"
      ],
      "execution_count": null,
      "outputs": [
        {
          "output_type": "stream",
          "text": [
            "0.8646881287726358\n"
          ],
          "name": "stdout"
        }
      ]
    },
    {
      "cell_type": "code",
      "metadata": {
        "id": "KeHog5iueh5R",
        "colab": {
          "base_uri": "https://localhost:8080/",
          "height": 85
        },
        "outputId": "2a2b7b04-3119-4262-ba63-2ebe3951b80d"
      },
      "source": [
        "df.columns"
      ],
      "execution_count": null,
      "outputs": [
        {
          "output_type": "execute_result",
          "data": {
            "text/plain": [
              "Index(['gender', 'age', 'year', 'eyecolor', 'height', 'miles', 'brothers',\n",
              "       'sisters', 'computertime', 'exercise', 'exercisehours', 'musiccds',\n",
              "       'playgames', 'watchtv'],\n",
              "      dtype='object')"
            ]
          },
          "metadata": {
            "tags": []
          },
          "execution_count": 42
        }
      ]
    },
    {
      "cell_type": "markdown",
      "metadata": {
        "deletable": false,
        "editable": false,
        "nbgrader": {
          "checksum": "f23e20cb9c25f2f8d674f98079625ff2",
          "grade": false,
          "grade_id": "cell-e321872a66519e2c",
          "locked": true,
          "schema_version": 1,
          "solution": false
        },
        "id": "MpU-3jviugm1"
      },
      "source": [
        "---\n",
        "**Question 14 (1 points, manually graded)**: Using the following code snippet, export your decision tree to graphviz and visualize it. In your write-up, write down the interpretation of the rule at each node which is used to perform the splitting.\n",
        "\n",
        "In order to install graphviz, you may need to download the tool from [this website](https://graphviz.gitlab.io), and then pip3/conda install the python libraries you do not have.\n",
        "\n",
        "Mac users can use ```brew install graphviz``` instead of following the link, and linux users can do the same using their favourite package manager (for example, Ubuntu users can use ```sudo apt-get install graphviz```, followed by the necessary pip3/conda installations."
      ]
    },
    {
      "cell_type": "code",
      "metadata": {
        "deletable": false,
        "editable": false,
        "nbgrader": {
          "checksum": "b43dac070b745305841e22382bc87bda",
          "grade": false,
          "grade_id": "cell-5aaab8332072d23e",
          "locked": true,
          "schema_version": 1,
          "solution": false
        },
        "id": "H80MNiT4ugm2",
        "colab": {
          "base_uri": "https://localhost:8080/",
          "height": 588
        },
        "outputId": "0613a5ef-d197-4814-da5f-d3f207009c00"
      },
      "source": [
        "from IPython.display import Image  \n",
        "import pydotplus \n",
        "import pydot\n",
        "from sklearn.externals.six import StringIO\n",
        "from sklearn import tree\n",
        "\n",
        "# clf = your classifier\n",
        "dotfile = StringIO() \n",
        "tree.export_graphviz(clf, out_file=dotfile,\n",
        "                      feature_names = vec.get_feature_names(),  \n",
        "                          class_names = ['Female', 'Male'],  \n",
        "                          filled=True, rounded=True,  \n",
        "                          special_characters=True)\n",
        "graph = pydotplus.graph_from_dot_data(dotfile.getvalue())\n",
        "Image(graph.create_png())\n",
        "\n",
        "\n",
        "#Ignore the cell below, but do not delete it. It is used to grade the image output of this cell."
      ],
      "execution_count": null,
      "outputs": [
        {
          "output_type": "stream",
          "text": [
            "/usr/local/lib/python3.6/dist-packages/sklearn/externals/six.py:31: FutureWarning: The module is deprecated in version 0.21 and will be removed in version 0.23 since we've dropped support for Python 2.7. Please rely on the official version of six (https://pypi.org/project/six/).\n",
            "  \"(https://pypi.org/project/six/).\", FutureWarning)\n"
          ],
          "name": "stderr"
        },
        {
          "output_type": "execute_result",
          "data": {
            "image/png": "[encoded data removed]",
            "text/plain": [
              "<IPython.core.display.Image object>"
            ]
          },
          "metadata": {
            "tags": []
          },
          "execution_count": 43
        }
      ]
    },
    {
      "cell_type": "code",
      "metadata": {
        "deletable": false,
        "nbgrader": {
          "checksum": "cd77be0d5dbdbf44dccc26ef3ee69512",
          "grade": true,
          "grade_id": "cell-ebde7100c67bf20c",
          "locked": false,
          "points": 1,
          "schema_version": 1,
          "solution": true
        },
        "id": "ty3tzOLVugm8"
      },
      "source": [
        "# YOUR CODE HERE\n",
        "# raise NotImplementedError()"
      ],
      "execution_count": null,
      "outputs": []
    },
    {
      "cell_type": "markdown",
      "metadata": {
        "deletable": false,
        "editable": false,
        "nbgrader": {
          "checksum": "29e84207b6e13109206f7ef78d0ff602",
          "grade": false,
          "grade_id": "cell-06714e6427b2d0d0",
          "locked": true,
          "schema_version": 1,
          "solution": false
        },
        "id": "gIOPTYuiugnF"
      },
      "source": [
        "---\n",
        "## Bonus Question (2 points, auto graded)\n",
        "For each of your leaf nodes, specify the percentage of 'female' rows in that node (out of the total number of rows at that node)\n"
      ]
    },
    {
      "cell_type": "code",
      "metadata": {
        "deletable": false,
        "nbgrader": {
          "checksum": "88cda91aeb11b6f96d6c2bacf4a4804e",
          "grade": false,
          "grade_id": "cell-650a81bc31e6f608",
          "locked": false,
          "schema_version": 1,
          "solution": true
        },
        "id": "co_iRKrUugnG",
        "colab": {
          "base_uri": "https://localhost:8080/",
          "height": 198
        },
        "outputId": "90898fe2-5077-4641-b66d-2c545ce46696"
      },
      "source": [
        "#The value set in the variable must be array\n",
        "ratios = [] #Replace 0 with the actual value\n",
        "\n",
        "# YOUR CODE HERE\n",
        "raise NotImplementedError()\n"
      ],
      "execution_count": null,
      "outputs": [
        {
          "output_type": "error",
          "ename": "NotImplementedError",
          "evalue": "ignored",
          "traceback": [
            "\u001b[0;31m---------------------------------------------------------------------------\u001b[0m",
            "\u001b[0;31mNotImplementedError\u001b[0m                       Traceback (most recent call last)",
            "\u001b[0;32m<ipython-input-45-0e306fcdeb63>\u001b[0m in \u001b[0;36m<module>\u001b[0;34m()\u001b[0m\n\u001b[1;32m      3\u001b[0m \u001b[0;34m\u001b[0m\u001b[0m\n\u001b[1;32m      4\u001b[0m \u001b[0;31m# YOUR CODE HERE\u001b[0m\u001b[0;34m\u001b[0m\u001b[0;34m\u001b[0m\u001b[0;34m\u001b[0m\u001b[0m\n\u001b[0;32m----> 5\u001b[0;31m \u001b[0;32mraise\u001b[0m \u001b[0mNotImplementedError\u001b[0m\u001b[0;34m(\u001b[0m\u001b[0;34m)\u001b[0m\u001b[0;34m\u001b[0m\u001b[0;34m\u001b[0m\u001b[0m\n\u001b[0m",
            "\u001b[0;31mNotImplementedError\u001b[0m: "
          ]
        }
      ]
    },
    {
      "cell_type": "code",
      "metadata": {
        "deletable": false,
        "editable": false,
        "nbgrader": {
          "checksum": "de18cf01eb62a9398145d3f1879681d5",
          "grade": true,
          "grade_id": "cell-2cc540aa430d101d",
          "locked": true,
          "points": 2,
          "schema_version": 1,
          "solution": false
        },
        "id": "Ugyn_t3lugnH"
      },
      "source": [
        "#This is an autograded cell, do not edit\n",
        "print(ratios)"
      ],
      "execution_count": null,
      "outputs": []
    },
    {
      "cell_type": "code",
      "metadata": {
        "id": "DIjVpr5ZugnU"
      },
      "source": [
        ""
      ],
      "execution_count": null,
      "outputs": []
    }
  ]
}