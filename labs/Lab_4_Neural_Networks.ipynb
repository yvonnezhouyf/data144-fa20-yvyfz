{
  "nbformat": 4,
  "nbformat_minor": 0,
  "metadata": {
    "colab": {
      "name": "Lab 4: Neural Networks",
      "provenance": [],
      "collapsed_sections": [
        "GTO2KMti07__",
        "YAnuY8Sv1DoO",
        "ZlDfGvy61EMS",
        "1foS74O01FfP",
        "2rFY8D4Q1GsZ"
      ]
    },
    "kernelspec": {
      "name": "python3",
      "display_name": "Python 3"
    }
  },
  "cells": [
    {
      "cell_type": "markdown",
      "metadata": {
        "id": "1xxMXNDF7ckw"
      },
      "source": [
        "\n",
        "\n",
        "```\n",
        "# This is formatted as code\n",
        "```\n",
        "\n",
        "# DMA Fall 20\n",
        "\n",
        "**Note** : This entire lab will be manually evaluated.\n",
        "\n",
        "Name : 'Yvonne Zhou'\n",
        "\n",
        "Collaborator : ''"
      ]
    },
    {
      "cell_type": "markdown",
      "metadata": {
        "id": "Oyb_RNpFreOr"
      },
      "source": [
        "# Lab 4: Neural Networks #\n"
      ]
    },
    {
      "cell_type": "code",
      "metadata": {
        "id": "yj9Uh79ereOs"
      },
      "source": [
        "import pandas as pd\n",
        "from sklearn.neural_network import MLPClassifier\n",
        "from sklearn.svm import SVC\n",
        "\n",
        "from sklearn.preprocessing import StandardScaler, MinMaxScaler\n",
        "from sklearn.preprocessing import LabelEncoder, OneHotEncoder\n",
        "from sklearn.feature_extraction import DictVectorizer\n",
        "\n",
        "from sklearn.pipeline import Pipeline\n",
        "from sklearn.metrics import accuracy_score\n",
        "from sklearn.model_selection import train_test_split\n",
        "from sklearn.model_selection import GridSearchCV, ParameterGrid\n",
        "\n",
        "import numpy as np\n",
        "\n",
        "import warnings\n",
        "warnings.filterwarnings(\"ignore\")"
      ],
      "execution_count": null,
      "outputs": []
    },
    {
      "cell_type": "code",
      "metadata": {
        "id": "n6SRFrhfreOt",
        "colab": {
          "base_uri": "https://localhost:8080/",
          "height": 612
        },
        "outputId": "1328e90a-b57f-44d3-fc6c-4d1a0189f37c"
      },
      "source": [
        "!wget http://people.ischool.berkeley.edu/~zp/course_datasets/lab_4_training.csv\n",
        "!wget http://people.ischool.berkeley.edu/~zp/course_datasets/lab_4_test.csv\n",
        "\n",
        "df_train = pd.read_csv('./lab_4_training.csv')\n",
        "df_test = pd.read_csv('./lab_4_test.csv')\n",
        "df_train.head()"
      ],
      "execution_count": null,
      "outputs": [
        {
          "output_type": "stream",
          "text": [
            "URL transformed to HTTPS due to an HSTS policy\n",
            "--2020-09-23 18:46:06--  https://people.ischool.berkeley.edu/~zp/course_datasets/lab_4_training.csv\n",
            "Resolving people.ischool.berkeley.edu (people.ischool.berkeley.edu)... 128.32.78.16\n",
            "Connecting to people.ischool.berkeley.edu (people.ischool.berkeley.edu)|128.32.78.16|:443... connected.\n",
            "HTTP request sent, awaiting response... 200 OK\n",
            "Length: 105581 (103K) [text/csv]\n",
            "Saving to: ‘lab_4_training.csv.12’\n",
            "\n",
            "lab_4_training.csv. 100%[===================>] 103.11K  --.-KB/s    in 0.06s   \n",
            "\n",
            "2020-09-23 18:46:06 (1.61 MB/s) - ‘lab_4_training.csv.12’ saved [105581/105581]\n",
            "\n",
            "URL transformed to HTTPS due to an HSTS policy\n",
            "--2020-09-23 18:46:06--  https://people.ischool.berkeley.edu/~zp/course_datasets/lab_4_test.csv\n",
            "Resolving people.ischool.berkeley.edu (people.ischool.berkeley.edu)... 128.32.78.16\n",
            "Connecting to people.ischool.berkeley.edu (people.ischool.berkeley.edu)|128.32.78.16|:443... connected.\n",
            "HTTP request sent, awaiting response... 200 OK\n",
            "Length: 26523 (26K) [text/csv]\n",
            "Saving to: ‘lab_4_test.csv.12’\n",
            "\n",
            "lab_4_test.csv.12   100%[===================>]  25.90K  --.-KB/s    in 0.02s   \n",
            "\n",
            "2020-09-23 18:46:06 (1.31 MB/s) - ‘lab_4_test.csv.12’ saved [26523/26523]\n",
            "\n"
          ],
          "name": "stdout"
        },
        {
          "output_type": "execute_result",
          "data": {
            "text/html": [
              "<div>\n",
              "<style scoped>\n",
              "    .dataframe tbody tr th:only-of-type {\n",
              "        vertical-align: middle;\n",
              "    }\n",
              "\n",
              "    .dataframe tbody tr th {\n",
              "        vertical-align: top;\n",
              "    }\n",
              "\n",
              "    .dataframe thead th {\n",
              "        text-align: right;\n",
              "    }\n",
              "</style>\n",
              "<table border=\"1\" class=\"dataframe\">\n",
              "  <thead>\n",
              "    <tr style=\"text-align: right;\">\n",
              "      <th></th>\n",
              "      <th>Unnamed: 0</th>\n",
              "      <th>gender</th>\n",
              "      <th>age</th>\n",
              "      <th>year</th>\n",
              "      <th>eyecolor</th>\n",
              "      <th>height</th>\n",
              "      <th>miles</th>\n",
              "      <th>brothers</th>\n",
              "      <th>sisters</th>\n",
              "      <th>computertime</th>\n",
              "      <th>exercise</th>\n",
              "      <th>exercisehours</th>\n",
              "      <th>musiccds</th>\n",
              "      <th>playgames</th>\n",
              "      <th>watchtv</th>\n",
              "    </tr>\n",
              "  </thead>\n",
              "  <tbody>\n",
              "    <tr>\n",
              "      <th>0</th>\n",
              "      <td>1303</td>\n",
              "      <td>male</td>\n",
              "      <td>20</td>\n",
              "      <td>second</td>\n",
              "      <td>green</td>\n",
              "      <td>73.0</td>\n",
              "      <td>210.0</td>\n",
              "      <td>0</td>\n",
              "      <td>1</td>\n",
              "      <td>10.0</td>\n",
              "      <td>Yes</td>\n",
              "      <td>5.0</td>\n",
              "      <td>50.0</td>\n",
              "      <td>1.0</td>\n",
              "      <td>15.0</td>\n",
              "    </tr>\n",
              "    <tr>\n",
              "      <th>1</th>\n",
              "      <td>36</td>\n",
              "      <td>male</td>\n",
              "      <td>20</td>\n",
              "      <td>third</td>\n",
              "      <td>other</td>\n",
              "      <td>71.0</td>\n",
              "      <td>90.0</td>\n",
              "      <td>1</td>\n",
              "      <td>0</td>\n",
              "      <td>15.0</td>\n",
              "      <td>Yes</td>\n",
              "      <td>4.0</td>\n",
              "      <td>10.0</td>\n",
              "      <td>0.0</td>\n",
              "      <td>1.0</td>\n",
              "    </tr>\n",
              "    <tr>\n",
              "      <th>2</th>\n",
              "      <td>489</td>\n",
              "      <td>male</td>\n",
              "      <td>22</td>\n",
              "      <td>fourth</td>\n",
              "      <td>hazel</td>\n",
              "      <td>75.0</td>\n",
              "      <td>200.0</td>\n",
              "      <td>0</td>\n",
              "      <td>1</td>\n",
              "      <td>1.0</td>\n",
              "      <td>Yes</td>\n",
              "      <td>2.0</td>\n",
              "      <td>150.0</td>\n",
              "      <td>1.0</td>\n",
              "      <td>10.0</td>\n",
              "    </tr>\n",
              "    <tr>\n",
              "      <th>3</th>\n",
              "      <td>1415</td>\n",
              "      <td>male</td>\n",
              "      <td>19</td>\n",
              "      <td>second</td>\n",
              "      <td>brown</td>\n",
              "      <td>72.0</td>\n",
              "      <td>35.0</td>\n",
              "      <td>2</td>\n",
              "      <td>2</td>\n",
              "      <td>20.0</td>\n",
              "      <td>Yes</td>\n",
              "      <td>5.0</td>\n",
              "      <td>100.0</td>\n",
              "      <td>0.0</td>\n",
              "      <td>7.0</td>\n",
              "    </tr>\n",
              "    <tr>\n",
              "      <th>4</th>\n",
              "      <td>616</td>\n",
              "      <td>male</td>\n",
              "      <td>22</td>\n",
              "      <td>fourth</td>\n",
              "      <td>hazel</td>\n",
              "      <td>71.0</td>\n",
              "      <td>15.0</td>\n",
              "      <td>2</td>\n",
              "      <td>1</td>\n",
              "      <td>10.0</td>\n",
              "      <td>Yes</td>\n",
              "      <td>7.0</td>\n",
              "      <td>10.0</td>\n",
              "      <td>0.0</td>\n",
              "      <td>5.0</td>\n",
              "    </tr>\n",
              "  </tbody>\n",
              "</table>\n",
              "</div>"
            ],
            "text/plain": [
              "   Unnamed: 0 gender  age    year  ... exercisehours  musiccds  playgames  watchtv\n",
              "0        1303   male   20  second  ...           5.0      50.0        1.0     15.0\n",
              "1          36   male   20   third  ...           4.0      10.0        0.0      1.0\n",
              "2         489   male   22  fourth  ...           2.0     150.0        1.0     10.0\n",
              "3        1415   male   19  second  ...           5.0     100.0        0.0      7.0\n",
              "4         616   male   22  fourth  ...           7.0      10.0        0.0      5.0\n",
              "\n",
              "[5 rows x 15 columns]"
            ]
          },
          "metadata": {
            "tags": []
          },
          "execution_count": 2
        }
      ]
    },
    {
      "cell_type": "markdown",
      "metadata": {
        "id": "RGt_10ZAreOv"
      },
      "source": [
        "***\n",
        "### Question 1###\n",
        "Calculate a baseline accuracy measure using the majority class, assuming a target variable of 'gender'. The majority class is the most common value of the target variable in a particular dataset. Accuracy is calculated as (true positives + true negatives) / (all negatives and positives)"
      ]
    },
    {
      "cell_type": "markdown",
      "metadata": {
        "id": "UZPiLgekreOw"
      },
      "source": [
        "**Question 1.a**  \n",
        "Find the majority class in the training set. If you always predicted this class in the training set, what would your accuracy be?"
      ]
    },
    {
      "cell_type": "code",
      "metadata": {
        "id": "iYjEFc1greOx",
        "colab": {
          "base_uri": "https://localhost:8080/",
          "height": 34
        },
        "outputId": "dc10f2a7-e318-400c-fb8c-1b24bc42d41d"
      },
      "source": [
        "# YOUR CODE HERE\n",
        "majority = df_train.groupby(\"gender\").count().reset_index().sort_values(by = \"Unnamed: 0\", ascending = False).iloc[0, 0]\n",
        "train_gender_with_prediction = df_train.copy()\n",
        "train_gender_with_prediction[\"all_majority\"] = majority\n",
        "train_gender_with_prediction = train_gender_with_prediction[[\"gender\", \"all_majority\"]]\n",
        "train_all_majority_accuracy = train_gender_with_prediction[train_gender_with_prediction[\"gender\"] == \n",
        "                                                           train_gender_with_prediction[\"all_majority\"]].shape[0] / train_gender_with_prediction.shape[0]\n",
        "print(\"Majority Class:\", majority, \"; Accuracy:\", train_all_majority_accuracy)"
      ],
      "execution_count": null,
      "outputs": [
        {
          "output_type": "stream",
          "text": [
            "Majority Class: female ; Accuracy: 0.5377358490566038\n"
          ],
          "name": "stdout"
        }
      ]
    },
    {
      "cell_type": "markdown",
      "metadata": {
        "id": "RtvFM-hM0y2o"
      },
      "source": [
        "###ANSWER: The majority class is female, and the accuracy of always predict this class in the training set is 0.5377358490566038."
      ]
    },
    {
      "cell_type": "markdown",
      "metadata": {
        "id": "ULPKW0IvreOy"
      },
      "source": [
        "**Question 1.b**   \n",
        "If you always predicted this same class (majority from the training set) in the test set, what would your accuracy be?"
      ]
    },
    {
      "cell_type": "code",
      "metadata": {
        "id": "dfU5mwh405vq",
        "colab": {
          "base_uri": "https://localhost:8080/",
          "height": 34
        },
        "outputId": "d63bcfa1-cd51-4e55-ceee-cef9ed6ba7e9"
      },
      "source": [
        "# YOUR CODE HERE\n",
        "test_gender_with_prediction = df_test.copy()\n",
        "test_gender_with_prediction[\"all_majority\"] = majority\n",
        "test_gender_with_prediction = test_gender_with_prediction[[\"gender\", \"all_majority\"]]\n",
        "test_all_majority_accuracy = test_gender_with_prediction[test_gender_with_prediction[\"gender\"] == \n",
        "                                                         test_gender_with_prediction[\"all_majority\"]].shape[0] / test_gender_with_prediction.shape[0]\n",
        "print(\"Accuracy:\", test_all_majority_accuracy)"
      ],
      "execution_count": null,
      "outputs": [
        {
          "output_type": "stream",
          "text": [
            "Accuracy: 0.5226130653266332\n"
          ],
          "name": "stdout"
        }
      ]
    },
    {
      "cell_type": "markdown",
      "metadata": {
        "id": "pINRUJxG05v4"
      },
      "source": [
        "###ANSWER: The accuracy of always predict this majority class in the test set is 0.5226130653266332."
      ]
    },
    {
      "cell_type": "markdown",
      "metadata": {
        "id": "GKb2Ju-GreO0"
      },
      "source": [
        "***\n",
        "### Question 2 ###\n",
        "Get started with Neural Networks."
      ]
    },
    {
      "cell_type": "markdown",
      "metadata": {
        "id": "UYI6e3F3reO0"
      },
      "source": [
        "   \n",
        "Choose a NN implementation (eg: scikit-learn) and specify which you choose. Be sure the implementation allows you to modify the number of hidden layers and hidden nodes per layer.  \n",
        "\n",
        "NOTE: When possible, specify the logsig (sigmoid/logistc) function as the transfer function (another word for activation function) and use Levenberg-Marquardt backpropagation (lbfgs). It is possible to specify logistic in Sklearn MLPclassifier (Neural net).  "
      ]
    },
    {
      "cell_type": "markdown",
      "metadata": {
        "id": "4am3sGc4reO1"
      },
      "source": [
        "**Question 2.a**   \n",
        "Train a neural network with a single 10 node hidden layer. Only use the Height feature of the dataset to predict the Gender. You will have to change Gender to a 0 and 1 class. After training, use your trained model to predict the class using the height feature from the training set. What was the accuracy of this prediction?"
      ]
    },
    {
      "cell_type": "code",
      "metadata": {
        "id": "jbAzltaw067l",
        "colab": {
          "base_uri": "https://localhost:8080/",
          "height": 34
        },
        "outputId": "3399ebbd-69a7-4ed9-87a2-9abbbd1567a8"
      },
      "source": [
        "# YOUR CODE HERE\n",
        "df_train_modified = df_train.copy()\n",
        "df_train_modified[\"gender\"] = df_train_modified[\"gender\"].replace(\"female\", 1)\n",
        "df_train_modified[\"gender\"] = df_train_modified[\"gender\"].replace(\"male\", 0)\n",
        "\n",
        "clf_2a = MLPClassifier(hidden_layer_sizes = (10, ), activation = \"logistic\", solver = 'lbfgs', random_state = 42)\n",
        "clf_2a.fit(df_train_modified[[\"height\"]], df_train_modified[\"gender\"])\n",
        "clf_2a.score(df_train_modified[[\"height\"]], df_train_modified[\"gender\"])"
      ],
      "execution_count": null,
      "outputs": [
        {
          "output_type": "execute_result",
          "data": {
            "text/plain": [
              "0.6440251572327044"
            ]
          },
          "metadata": {
            "tags": []
          },
          "execution_count": 5
        }
      ]
    },
    {
      "cell_type": "markdown",
      "metadata": {
        "id": "EuaCk0l0067q"
      },
      "source": [
        "###ANSWER: The accuracy of this prediction is 0.6440251572327044."
      ]
    },
    {
      "cell_type": "markdown",
      "metadata": {
        "id": "AkqzIeshreO2"
      },
      "source": [
        "**Question 2.b**  \n",
        "Take the trained model from question 2.a and use it to predict the test set. This can be accomplished by taking the trained model and giving it the Height feature values from the test set. What is the accuracy of this model on the test set?"
      ]
    },
    {
      "cell_type": "code",
      "metadata": {
        "id": "Tw25ezWp07hj",
        "colab": {
          "base_uri": "https://localhost:8080/",
          "height": 34
        },
        "outputId": "44f4a208-171a-4f7f-f6c8-bf3038b8fd7b"
      },
      "source": [
        "# YOUR CODE HERE\n",
        "df_test_modified = df_test.copy()\n",
        "df_test_modified[\"gender\"] = df_test_modified[\"gender\"].replace(\"female\", 1)\n",
        "df_test_modified[\"gender\"] = df_test_modified[\"gender\"].replace(\"male\", 0)\n",
        "clf_2a.score(df_test_modified[[\"height\"]], df_test_modified[\"gender\"])"
      ],
      "execution_count": null,
      "outputs": [
        {
          "output_type": "execute_result",
          "data": {
            "text/plain": [
              "0.6206030150753769"
            ]
          },
          "metadata": {
            "tags": []
          },
          "execution_count": 6
        }
      ]
    },
    {
      "cell_type": "markdown",
      "metadata": {
        "id": "HbHMAFvw07hm"
      },
      "source": [
        "###ANSWER: The accuracy of this model on the test set is 0.6206030150753769."
      ]
    },
    {
      "cell_type": "markdown",
      "metadata": {
        "id": "uMmIfsNEreO3"
      },
      "source": [
        "**Question 2.c**   \n",
        "Neural Networks tend to prefer smaller, normalized feature values. Try taking the log of the height feature in both training and testing sets or use a Standard Scalar operation in SKlearn to centre and normalize the data between 0-1 for continuous values. Repeat question 2.a and 2.b with the log version or the normalized and centered version of this feature"
      ]
    },
    {
      "cell_type": "code",
      "metadata": {
        "id": "wDhCZPaU07_8",
        "colab": {
          "base_uri": "https://localhost:8080/",
          "height": 34
        },
        "outputId": "de477834-e4fd-410f-8e8f-2d817f3a0069"
      },
      "source": [
        "# YOUR CODE HERE\n",
        "log_df_train = df_train.copy()\n",
        "log_df_train[\"height\"] = np.log(log_df_train[\"height\"])\n",
        "log_df_test = df_test.copy()\n",
        "log_df_test[\"height\"] = np.log(log_df_test[\"height\"])\n",
        "\n",
        "log_df_train[\"gender\"] = log_df_train[\"gender\"].replace(\"female\", 1)\n",
        "log_df_train[\"gender\"] = log_df_train[\"gender\"].replace(\"male\", 0)\n",
        "\n",
        "clf_2c = MLPClassifier(hidden_layer_sizes = (10, ), activation = \"logistic\", solver = 'lbfgs', random_state = 42)\n",
        "clf_2c.fit(log_df_train[[\"height\"]], log_df_train[\"gender\"])\n",
        "\n",
        "log_df_test[\"gender\"] = log_df_test[\"gender\"].replace(\"female\", 1)\n",
        "log_df_test[\"gender\"] = log_df_test[\"gender\"].replace(\"male\", 0)\n",
        "\n",
        "print(\"training accuracy:\", clf_2c.score(log_df_train[[\"height\"]], log_df_train[\"gender\"]), \n",
        "      \"; testing accuracy:\", clf_2c.score(log_df_test[[\"height\"]], log_df_test[\"gender\"]))"
      ],
      "execution_count": null,
      "outputs": [
        {
          "output_type": "stream",
          "text": [
            "training accuracy: 0.5389937106918239 ; testing accuracy: 0.5226130653266332\n"
          ],
          "name": "stdout"
        }
      ]
    },
    {
      "cell_type": "markdown",
      "metadata": {
        "id": "GTO2KMti07__"
      },
      "source": [
        "###ANSWER: The training accuracy using this logged height feature is 0.5389937106918239, and the testing accuracy using this logged is 0.5226130653266332."
      ]
    },
    {
      "cell_type": "markdown",
      "metadata": {
        "id": "2_SlOdcarePC"
      },
      "source": [
        "***\n",
        "\n",
        "### Question 3###\n",
        "The rest of features in this dataset barring a few are categorical. No ML method accepts categorical features, so transform year, eyecolor, exercise into a set of binary features, one feature per unique original feature value, and mark the binary feature as ‘1’ if the feature value matches the original value and ‘0’ otherwise. Using only these binary variable transformed features, train and predict the class of the test set. What was your accuracy using Neural Network with a single 10 node hidden layer? During training, use a maximum number of iterations of 50."
      ]
    },
    {
      "cell_type": "code",
      "metadata": {
        "id": "YjhzBFNV1Aip",
        "colab": {
          "base_uri": "https://localhost:8080/",
          "height": 34
        },
        "outputId": "c382cebc-38ce-4e66-c005-8764bfa8f810"
      },
      "source": [
        "# YOUR CODE HERE\n",
        "selected_3_train = df_train[[\"year\", \"eyecolor\", \"exercise\"]].replace({'first\"': \"first\"})\n",
        "selected_3_train_hot = pd.concat([pd.get_dummies(selected_3_train[[\"year\"]], prefix = \"year\"), \n",
        "                                  pd.get_dummies(selected_3_train[[\"eyecolor\"]], prefix = \"eyecolor\"),\n",
        "                                  pd.get_dummies(selected_3_train[[\"exercise\"]], prefix = \"exercise\")], axis = 1)\n",
        "\n",
        "selected_3_test = df_test[[\"year\", \"eyecolor\", \"exercise\"]].replace({'first\"': \"first\"})\n",
        "selected_3_test_hot = pd.concat([pd.get_dummies(selected_3_test[[\"year\"]], prefix = \"year\"), \n",
        "                                 pd.get_dummies(selected_3_test[[\"eyecolor\"]], prefix = \"eyecolor\"),\n",
        "                                 pd.get_dummies(selected_3_test[[\"exercise\"]], prefix = \"exercise\")], axis = 1)\n",
        "\"\"\"\n",
        "enc.fit(selected_3)\n",
        "one_hot_labeled = pd.DataFrame(enc.transform(selected_3).toarray())\n",
        "one_hot_labeled = one_hot_labeled.rename({0: 0, 1: 1, 2: \"year_fourth\", 3: 3, 4: \"year_second\", 5:, \"year_third\", \n",
        "                                          6: \"eyecolor_blue\", 7: \"eyecolor_brown\", 8: \"eyecolor_green\", 9: \"eyecolor_hazel\", 10: \"eyecolor_other\",\n",
        "                                          11: \"exercise_no\", 12: \"exercise_yes\"})\n",
        "\"\"\"\n",
        "clf_3 = MLPClassifier(hidden_layer_sizes = (10, ), activation = \"logistic\", solver = 'lbfgs', max_iter = 50, random_state = 42)\n",
        "clf_3.fit(selected_3_train_hot, df_train_modified[\"gender\"])\n",
        "\n",
        "print(\"training accuracy:\", clf_3.score(selected_3_train_hot, df_train_modified[\"gender\"]), \n",
        "      \"; testing accuracy:\", clf_3.score(selected_3_test_hot, df_test_modified[\"gender\"]))"
      ],
      "execution_count": null,
      "outputs": [
        {
          "output_type": "stream",
          "text": [
            "training accuracy: 0.5679245283018868 ; testing accuracy: 0.6030150753768844\n"
          ],
          "name": "stdout"
        }
      ]
    },
    {
      "cell_type": "markdown",
      "metadata": {
        "id": "PyQ1EvAY1Ait"
      },
      "source": [
        "###ANSWER: The training accuracy using Neural Network with the one hot coded features is 0.5679245283018868, and the testing accuracy is 0.6030150753768844."
      ]
    },
    {
      "cell_type": "markdown",
      "metadata": {
        "id": "dSSr9sBlrePG"
      },
      "source": [
        "***\n",
        "### Question 4###\n",
        "Using a NN, report the accuracy on  the test set of a model that trained only on the height and the eye color features of instances in the training set."
      ]
    },
    {
      "cell_type": "markdown",
      "metadata": {
        "id": "rMNSlOmJrePG"
      },
      "source": [
        "**Question 4.a**  \n",
        "What is the accuracy on the test set using the original height values (no pre-processing) and eye color as a one-hot?"
      ]
    },
    {
      "cell_type": "code",
      "metadata": {
        "id": "F_vN4tyv1Ckq",
        "colab": {
          "base_uri": "https://localhost:8080/",
          "height": 34
        },
        "outputId": "7f58d7e2-92a8-4baa-a82c-7f77e3a5ace8"
      },
      "source": [
        "# YOUR CODE HERE\n",
        "columns_4a = [\"eyecolor_blue\", \"eyecolor_brown\", \"eyecolor_green\", \"eyecolor_hazel\", \"eyecolor_other\"]\n",
        "\n",
        "train_height_and_eye = pd.concat([selected_3_train_hot[columns_4a], df_train_modified[\"height\"]], axis = 1)\n",
        "test_height_and_eye = pd.concat([selected_3_test_hot[columns_4a], df_test_modified[\"height\"]], axis = 1)\n",
        "\n",
        "clf_4a = MLPClassifier(hidden_layer_sizes = (10, ), activation = \"logistic\", solver = 'lbfgs', max_iter = 50, random_state = 42)\n",
        "clf_4a.fit(train_height_and_eye, df_train_modified[\"gender\"])\n",
        "\n",
        "print(\"training accuracy:\", clf_4a.score(train_height_and_eye, df_train_modified[\"gender\"]), \n",
        "      \"; testing accuracy:\", clf_4a.score(test_height_and_eye, df_test_modified[\"gender\"]))"
      ],
      "execution_count": null,
      "outputs": [
        {
          "output_type": "stream",
          "text": [
            "training accuracy: 0.5377358490566038 ; testing accuracy: 0.5226130653266332\n"
          ],
          "name": "stdout"
        }
      ]
    },
    {
      "cell_type": "markdown",
      "metadata": {
        "id": "CaL2o0TW1Cks"
      },
      "source": [
        "###ANSWER: The training accuracy using the original height values and eye color as a one-hot is 0.5377358490566038, and the testing accuracy is 0.5226130653266332."
      ]
    },
    {
      "cell_type": "markdown",
      "metadata": {
        "id": "NC8Ipx9QrePH"
      },
      "source": [
        "**Question 4.b**  \n",
        "What is the accuracy on the test set using the log of height values (applied to both training and testing sets) and eye color as a one-hot?"
      ]
    },
    {
      "cell_type": "code",
      "metadata": {
        "id": "cFvzNv6O1DG3",
        "colab": {
          "base_uri": "https://localhost:8080/",
          "height": 34
        },
        "outputId": "5b61bae3-c722-432b-cd3b-c37d88de4cbf"
      },
      "source": [
        "# YOUR CODE HERE\n",
        "train_log_height_and_eye = pd.concat([selected_3_train_hot[columns_4a], log_df_train[\"height\"]], axis = 1)\n",
        "test_log_height_and_eye = pd.concat([selected_3_test_hot[columns_4a], log_df_test[\"height\"]], axis = 1)\n",
        "\n",
        "clf_4b = MLPClassifier(hidden_layer_sizes = (10, ), activation = \"logistic\", solver = 'lbfgs', max_iter = 50, random_state = 42)\n",
        "clf_4b.fit(train_log_height_and_eye, log_df_train[\"gender\"])\n",
        "\n",
        "print(\"training accuracy:\", clf_4b.score(train_log_height_and_eye, log_df_train[\"gender\"]), \n",
        "      \"; testing accuracy:\", clf_4b.score(test_log_height_and_eye, log_df_test[\"gender\"]))"
      ],
      "execution_count": null,
      "outputs": [
        {
          "output_type": "stream",
          "text": [
            "training accuracy: 0.8232704402515724 ; testing accuracy: 0.8291457286432161\n"
          ],
          "name": "stdout"
        }
      ]
    },
    {
      "cell_type": "markdown",
      "metadata": {
        "id": "Pt3NMp1M1DG4"
      },
      "source": [
        "###ANSWER: The training accuracy using the logged height values and eye color as a one-hot is 0.8232704402515724, and the testing accuracy is 0.8291457286432161."
      ]
    },
    {
      "cell_type": "markdown",
      "metadata": {
        "id": "iYm2jqnprePI"
      },
      "source": [
        "**Question 4.c**  \n",
        "What is the accuracy on the test set using the Z-score of height values and eye color as a one-hot? \n",
        "\n",
        "Z-score is a normalization function. It is the value of a feature minus the average value for that feature (in the training set), divided by the standard deviation of that feature (in the training set). Remember that, whenever applying a function to a feature in the training set, it also has to be applied to that same feature in the test set."
      ]
    },
    {
      "cell_type": "code",
      "metadata": {
        "id": "P3mDjF6N1DoN",
        "colab": {
          "base_uri": "https://localhost:8080/",
          "height": 34
        },
        "outputId": "10333309-63e2-462d-d25b-c53e52ad6be7"
      },
      "source": [
        "# YOUR CODE HERE\n",
        "from scipy.stats import zscore\n",
        "\n",
        "train_z_height_and_eye = pd.concat([selected_3_train_hot[columns_4a], pd.Series(zscore(df_train_modified[\"height\"]))], axis = 1)\n",
        "test_z_height_and_eye = pd.concat([selected_3_test_hot[columns_4a], pd.Series(zscore(df_test_modified[\"height\"]))], axis = 1)\n",
        "\n",
        "clf_4c = MLPClassifier(hidden_layer_sizes = (10, ), activation = \"logistic\", solver = 'lbfgs', max_iter = 50, random_state = 42)\n",
        "clf_4c.fit(train_z_height_and_eye, df_train_modified[\"gender\"])\n",
        "\n",
        "print(\"training accuracy:\", clf_4c.score(train_z_height_and_eye, df_train_modified[\"gender\"]), \n",
        "      \"; testing accuracy:\", clf_4c.score(test_z_height_and_eye, df_test_modified[\"gender\"]))"
      ],
      "execution_count": null,
      "outputs": [
        {
          "output_type": "stream",
          "text": [
            "training accuracy: 0.8490566037735849 ; testing accuracy: 0.8567839195979899\n"
          ],
          "name": "stdout"
        }
      ]
    },
    {
      "cell_type": "markdown",
      "metadata": {
        "id": "YAnuY8Sv1DoO"
      },
      "source": [
        "###ANSWER: The training accuracy using the z-score height values and eye color as a one-hot is 0.8490566037735849, and the testing accuracy is 0.8567839195979899."
      ]
    },
    {
      "cell_type": "markdown",
      "metadata": {
        "id": "Fh9qwu_9rePJ"
      },
      "source": [
        "***\n",
        "### Question 5 ###\n",
        "Repeat question 4 for exercise hours + eye color"
      ]
    },
    {
      "cell_type": "code",
      "metadata": {
        "id": "JAgHz_r-1EMR",
        "colab": {
          "base_uri": "https://localhost:8080/",
          "height": 68
        },
        "outputId": "bf4bd94f-f614-4ef9-f156-085b6edc4183"
      },
      "source": [
        "# YOUR CODE HERE\n",
        "# no pre-processing\n",
        "columns_5 = [\"eyecolor_blue\", \"eyecolor_brown\", \"eyecolor_green\", \"eyecolor_hazel\", \"eyecolor_other\"]\n",
        "\n",
        "train_exercisehours_and_eye = pd.concat([selected_3_train_hot[columns_5], df_train_modified[\"exercisehours\"]], axis = 1)\n",
        "test_exercisehours_and_eye = pd.concat([selected_3_test_hot[columns_5], df_test_modified[\"exercisehours\"]], axis = 1)\n",
        "\n",
        "clf_5a = MLPClassifier(hidden_layer_sizes = (10, ), activation = \"logistic\", solver = 'lbfgs', max_iter = 50, random_state = 42)\n",
        "clf_5a.fit(train_exercisehours_and_eye, df_train_modified[\"gender\"])\n",
        "\n",
        "print(\"training accuracy for no pre-processing:\", clf_5a.score(train_exercisehours_and_eye, df_train_modified[\"gender\"]), \n",
        "      \"; testing accuracy for no pre-processing:\", clf_5a.score(test_exercisehours_and_eye, df_test_modified[\"gender\"]))\n",
        "\n",
        "# logged exercisehours\n",
        "train_log_exercisehours_and_eye = pd.concat([selected_3_train_hot[columns_5], np.log(df_train[\"exercisehours\"].replace({0: 0.000000001}))], axis = 1)\n",
        "test_log_exercisehours_and_eye = pd.concat([selected_3_test_hot[columns_5], np.log(df_test[\"exercisehours\"].replace({0: 0.000000001}))], axis = 1)\n",
        "\n",
        "clf_5b = MLPClassifier(hidden_layer_sizes = (10, ), activation = \"logistic\", solver = 'lbfgs', max_iter = 50, random_state = 42)\n",
        "clf_5b.fit(train_log_exercisehours_and_eye, df_train_modified[\"gender\"])\n",
        "\n",
        "print(\"training accuracy for logged exercisehours:\", clf_5b.score(train_log_exercisehours_and_eye, log_df_train[\"gender\"]), \n",
        "      \"; testing accuracy for logged exercisehours:\", clf_5b.score(test_log_exercisehours_and_eye, log_df_test[\"gender\"]))\n",
        "\n",
        "# z-scored exercisehours\n",
        "train_z_exercisehours_and_eye = pd.concat([selected_3_train_hot[columns_5], pd.Series(zscore(df_train_modified[\"exercisehours\"]))], axis = 1)\n",
        "test_z_exercisehours_and_eye = pd.concat([selected_3_test_hot[columns_5], pd.Series(zscore(df_test_modified[\"exercisehours\"]))], axis = 1)\n",
        "\n",
        "clf_5c = MLPClassifier(hidden_layer_sizes = (10, ), activation = \"logistic\", solver = 'lbfgs', max_iter = 50, random_state = 42)\n",
        "clf_5c.fit(train_z_exercisehours_and_eye, df_train_modified[\"gender\"])\n",
        "\n",
        "print(\"training accuracy for z-scored exercisehours:\", clf_5c.score(train_z_exercisehours_and_eye, df_train_modified[\"gender\"]), \n",
        "      \"; testing accuracy for z-scored exercisehours:\", clf_5c.score(test_z_exercisehours_and_eye, df_test_modified[\"gender\"]))"
      ],
      "execution_count": null,
      "outputs": [
        {
          "output_type": "stream",
          "text": [
            "training accuracy for no pre-processing: 0.5867924528301887 ; testing accuracy for no pre-processing: 0.5753768844221105\n",
            "training accuracy for logged exercisehours: 0.5823899371069182 ; testing accuracy for logged exercisehours: 0.5728643216080402\n",
            "training accuracy for z-scored exercisehours: 0.5874213836477987 ; testing accuracy for z-scored exercisehours: 0.5653266331658291\n"
          ],
          "name": "stdout"
        }
      ]
    },
    {
      "cell_type": "markdown",
      "metadata": {
        "id": "ZlDfGvy61EMS"
      },
      "source": [
        "###ANSWER: \n",
        "###The training accuracy using the no pre-processing exercisehours values and eye color as a one-hot is 0.5867924528301887, and the testing accuracy is 0.5753768844221105. \n",
        "###The training accuracy using the logged exercisehours values and eye color as a one-hot is 0.5823899371069182, and the testing accuracy is 0.5728643216080402. \n",
        "###The training accuracy using the z-scored exercisehours values and eye color as a one-hot is 0.5874213836477987, and the testing accuracy is 0.5653266331658291.\n"
      ]
    },
    {
      "cell_type": "markdown",
      "metadata": {
        "id": "JYVuaPWgrePL"
      },
      "source": [
        "***\n",
        "### Question 6###\n",
        "Combine the features from question 3, 4, and 5 (year, eyecolor, exercise, height, exercise hours). For numeric features use the best normalization method from questions 4 and 5."
      ]
    },
    {
      "cell_type": "markdown",
      "metadata": {
        "id": "1iAiFhlFrePM"
      },
      "source": [
        "**Question 6.a**  \n",
        "What was the NN accuracy on the test set using the single 10 node hidden layer?"
      ]
    },
    {
      "cell_type": "code",
      "metadata": {
        "id": "QuLJ6sTB1FfN",
        "colab": {
          "base_uri": "https://localhost:8080/",
          "height": 34
        },
        "outputId": "ad73e224-03a6-4258-eb71-384bd8899f65"
      },
      "source": [
        "# YOUR CODE HERE\n",
        "train_z_all = pd.concat([selected_3_train_hot, \n",
        "                         pd.Series(zscore(df_train_modified[\"height\"])), \n",
        "                         pd.Series(zscore(df_train_modified[\"exercisehours\"]))], axis = 1)\n",
        "test_z_all = pd.concat([selected_3_test_hot, \n",
        "                        pd.Series(zscore(df_test_modified[\"height\"])), \n",
        "                        pd.Series(zscore(df_test_modified[\"exercisehours\"]))], axis = 1)\n",
        "\n",
        "clf_6 = MLPClassifier(hidden_layer_sizes = (10, ), activation = \"logistic\", solver = 'lbfgs', max_iter = 50, random_state = 42)\n",
        "clf_6.fit(train_z_all, df_train_modified[\"gender\"])\n",
        "\n",
        "print(\"testing accuracy:\", clf_6.score(test_z_all, df_test_modified[\"gender\"]))"
      ],
      "execution_count": null,
      "outputs": [
        {
          "output_type": "stream",
          "text": [
            "testing accuracy: 0.8668341708542714\n"
          ],
          "name": "stdout"
        }
      ]
    },
    {
      "cell_type": "markdown",
      "metadata": {
        "id": "1foS74O01FfP"
      },
      "source": [
        "###ANSWER: The NN accuracy on the test set using the single 10 node hidden layer is 0.8668341708542714."
      ]
    },
    {
      "cell_type": "markdown",
      "metadata": {
        "id": "Jusc-kofrePP"
      },
      "source": [
        "***\n",
        "### Question 7- Bonus (10%)###\n",
        "Can you improve your test set prediction accuracy by 5% or more?  \n",
        "\n",
        "See how close to that milestone of improvement you can get by modifying the tuning parameters of  Neural Networks (the number of hidden layers, number of hidden nodes in each layer, the learning rate aka mu). A great guide to tuning parameters is explained in this guide: http://www.csie.ntu.edu.tw/~cjlin/papers/guide/guide.pdf. \n",
        "\n",
        "While the guide is specific to SVM and in particular the C and gamma parameters of the RBF kernel, the method applies to generally to any ML technique with tuning parameters.\n",
        "\n",
        "Please also write a paragraph in a markdown cell below with an explanation of your approach and evaluation metrics.\n"
      ]
    },
    {
      "cell_type": "code",
      "metadata": {
        "id": "qvpoUdeq1GsX",
        "colab": {
          "base_uri": "https://localhost:8080/",
          "height": 34
        },
        "outputId": "a9ef660e-930a-4bf0-883a-04961c5c9d1a"
      },
      "source": [
        "# YOUR CODE HERE\n",
        "train_z_all = pd.concat([selected_3_train_hot, \n",
        "                         pd.Series(zscore(df_train_modified[\"height\"])), \n",
        "                         pd.Series(zscore(df_train_modified[\"exercisehours\"]))], axis = 1)\n",
        "test_z_all = pd.concat([selected_3_test_hot, \n",
        "                        pd.Series(zscore(df_test_modified[\"height\"])), \n",
        "                        pd.Series(zscore(df_test_modified[\"exercisehours\"]))], axis = 1)\n",
        "\n",
        "clf_7 = MLPClassifier(hidden_layer_sizes = (100, ), activation = \"logistic\", solver = 'lbfgs', max_iter = 1000, random_state = 42)\n",
        "clf_7.fit(train_z_all, df_train_modified[\"gender\"])\n",
        "\n",
        "print(\"testing accuracy:\", clf_7.score(test_z_all, df_test_modified[\"gender\"]))"
      ],
      "execution_count": null,
      "outputs": [
        {
          "output_type": "stream",
          "text": [
            "testing accuracy: 0.9246231155778895\n"
          ],
          "name": "stdout"
        }
      ]
    },
    {
      "cell_type": "markdown",
      "metadata": {
        "id": "2rFY8D4Q1GsZ"
      },
      "source": [
        "###ANSWER: I increased the number of neurons in hidden layers and also the maximum number of iteration, and the accuracy improved about 6%. This is because as we are increasing the number of neurons and the number of iteration, we are increasing the possible complexity of our model. The model before I increased these two parameters are underfitting, so increasing the model's complexity would make the testing accuracy become higher."
      ]
    }
  ]
}