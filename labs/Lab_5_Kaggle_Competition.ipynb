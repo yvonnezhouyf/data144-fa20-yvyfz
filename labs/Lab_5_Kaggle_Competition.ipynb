{
  "nbformat": 4,
  "nbformat_minor": 0,
  "metadata": {
    "colab": {
      "name": "Lab 5: Kaggle Competition",
      "provenance": [],
      "collapsed_sections": []
    },
    "kernelspec": {
      "name": "python3",
      "display_name": "Python 3"
    }
  },
  "cells": [
    {
      "cell_type": "code",
      "metadata": {
        "id": "uMt2HqXDnCbW",
        "colab": {
          "base_uri": "https://localhost:8080/"
        },
        "outputId": "f0c3a452-6ba5-40b6-8f0c-0f3e4b190087"
      },
      "source": [
        "!git clone https://github.com/slyucheng/144-Kaggle.git\n",
        "!ls 144-Kaggle/"
      ],
      "execution_count": null,
      "outputs": [
        {
          "output_type": "stream",
          "text": [
            "Cloning into '144-Kaggle'...\n",
            "remote: Enumerating objects: 5, done.\u001b[K\n",
            "remote: Counting objects: 100% (5/5), done.\u001b[K\n",
            "remote: Compressing objects: 100% (5/5), done.\u001b[K\n",
            "remote: Total 5 (delta 0), reused 0 (delta 0), pack-reused 0\u001b[K\n",
            "Unpacking objects: 100% (5/5), done.\n",
            "gender_submission.csv  test.csv  train.csv\n"
          ],
          "name": "stdout"
        }
      ]
    },
    {
      "cell_type": "code",
      "metadata": {
        "id": "hSPHGLPunJd4"
      },
      "source": [
        "import pandas as pd\n",
        "import numpy as np\n",
        "from sklearn.preprocessing import StandardScaler\n",
        "\n",
        "from sklearn.neural_network import MLPClassifier\n",
        "from sklearn.metrics import accuracy_score\n",
        "from sklearn.tree import DecisionTreeClassifier\n",
        "from sklearn import tree\n",
        "from sklearn.linear_model import LogisticRegression\n",
        "from sklearn.model_selection import train_test_split\n",
        "import xgboost as xgb\n",
        "from sklearn.neighbors import KNeighborsClassifier\n",
        "from sklearn import svm\n",
        "from sklearn.model_selection import cross_validate\n",
        "from sklearn.model_selection import KFold\n",
        "from sklearn.model_selection import cross_val_score"
      ],
      "execution_count": null,
      "outputs": []
    },
    {
      "cell_type": "code",
      "metadata": {
        "id": "do1PB59onK-e"
      },
      "source": [
        "gender_submission = pd.read_csv('144-Kaggle/gender_submission.csv')\n",
        "train = pd.read_csv('144-Kaggle/train.csv')\n",
        "test = pd.read_csv('144-Kaggle/test.csv')"
      ],
      "execution_count": null,
      "outputs": []
    },
    {
      "cell_type": "code",
      "metadata": {
        "id": "T5YSAaNynMVt",
        "colab": {
          "base_uri": "https://localhost:8080/",
          "height": 204
        },
        "outputId": "8f4992f4-ab96-4f87-94aa-75f594d0ab7e"
      },
      "source": [
        "train.head()"
      ],
      "execution_count": null,
      "outputs": [
        {
          "output_type": "execute_result",
          "data": {
            "text/html": [
              "<div>\n",
              "<style scoped>\n",
              "    .dataframe tbody tr th:only-of-type {\n",
              "        vertical-align: middle;\n",
              "    }\n",
              "\n",
              "    .dataframe tbody tr th {\n",
              "        vertical-align: top;\n",
              "    }\n",
              "\n",
              "    .dataframe thead th {\n",
              "        text-align: right;\n",
              "    }\n",
              "</style>\n",
              "<table border=\"1\" class=\"dataframe\">\n",
              "  <thead>\n",
              "    <tr style=\"text-align: right;\">\n",
              "      <th></th>\n",
              "      <th>PassengerId</th>\n",
              "      <th>Survived</th>\n",
              "      <th>Pclass</th>\n",
              "      <th>Name</th>\n",
              "      <th>Sex</th>\n",
              "      <th>Age</th>\n",
              "      <th>SibSp</th>\n",
              "      <th>Parch</th>\n",
              "      <th>Ticket</th>\n",
              "      <th>Fare</th>\n",
              "      <th>Cabin</th>\n",
              "      <th>Embarked</th>\n",
              "    </tr>\n",
              "  </thead>\n",
              "  <tbody>\n",
              "    <tr>\n",
              "      <th>0</th>\n",
              "      <td>1</td>\n",
              "      <td>0</td>\n",
              "      <td>3</td>\n",
              "      <td>Braund, Mr. Owen Harris</td>\n",
              "      <td>male</td>\n",
              "      <td>22.0</td>\n",
              "      <td>1</td>\n",
              "      <td>0</td>\n",
              "      <td>A/5 21171</td>\n",
              "      <td>7.2500</td>\n",
              "      <td>NaN</td>\n",
              "      <td>S</td>\n",
              "    </tr>\n",
              "    <tr>\n",
              "      <th>1</th>\n",
              "      <td>2</td>\n",
              "      <td>1</td>\n",
              "      <td>1</td>\n",
              "      <td>Cumings, Mrs. John Bradley (Florence Briggs Th...</td>\n",
              "      <td>female</td>\n",
              "      <td>38.0</td>\n",
              "      <td>1</td>\n",
              "      <td>0</td>\n",
              "      <td>PC 17599</td>\n",
              "      <td>71.2833</td>\n",
              "      <td>C85</td>\n",
              "      <td>C</td>\n",
              "    </tr>\n",
              "    <tr>\n",
              "      <th>2</th>\n",
              "      <td>3</td>\n",
              "      <td>1</td>\n",
              "      <td>3</td>\n",
              "      <td>Heikkinen, Miss. Laina</td>\n",
              "      <td>female</td>\n",
              "      <td>26.0</td>\n",
              "      <td>0</td>\n",
              "      <td>0</td>\n",
              "      <td>STON/O2. 3101282</td>\n",
              "      <td>7.9250</td>\n",
              "      <td>NaN</td>\n",
              "      <td>S</td>\n",
              "    </tr>\n",
              "    <tr>\n",
              "      <th>3</th>\n",
              "      <td>4</td>\n",
              "      <td>1</td>\n",
              "      <td>1</td>\n",
              "      <td>Futrelle, Mrs. Jacques Heath (Lily May Peel)</td>\n",
              "      <td>female</td>\n",
              "      <td>35.0</td>\n",
              "      <td>1</td>\n",
              "      <td>0</td>\n",
              "      <td>113803</td>\n",
              "      <td>53.1000</td>\n",
              "      <td>C123</td>\n",
              "      <td>S</td>\n",
              "    </tr>\n",
              "    <tr>\n",
              "      <th>4</th>\n",
              "      <td>5</td>\n",
              "      <td>0</td>\n",
              "      <td>3</td>\n",
              "      <td>Allen, Mr. William Henry</td>\n",
              "      <td>male</td>\n",
              "      <td>35.0</td>\n",
              "      <td>0</td>\n",
              "      <td>0</td>\n",
              "      <td>373450</td>\n",
              "      <td>8.0500</td>\n",
              "      <td>NaN</td>\n",
              "      <td>S</td>\n",
              "    </tr>\n",
              "  </tbody>\n",
              "</table>\n",
              "</div>"
            ],
            "text/plain": [
              "   PassengerId  Survived  Pclass  ...     Fare Cabin  Embarked\n",
              "0            1         0       3  ...   7.2500   NaN         S\n",
              "1            2         1       1  ...  71.2833   C85         C\n",
              "2            3         1       3  ...   7.9250   NaN         S\n",
              "3            4         1       1  ...  53.1000  C123         S\n",
              "4            5         0       3  ...   8.0500   NaN         S\n",
              "\n",
              "[5 rows x 12 columns]"
            ]
          },
          "metadata": {
            "tags": []
          },
          "execution_count": 4
        }
      ]
    },
    {
      "cell_type": "code",
      "metadata": {
        "id": "SNZi46hcnNgj",
        "colab": {
          "base_uri": "https://localhost:8080/",
          "height": 204
        },
        "outputId": "a12d15cd-566b-4b1c-a275-98b17b4825fd"
      },
      "source": [
        "test.head()"
      ],
      "execution_count": null,
      "outputs": [
        {
          "output_type": "execute_result",
          "data": {
            "text/html": [
              "<div>\n",
              "<style scoped>\n",
              "    .dataframe tbody tr th:only-of-type {\n",
              "        vertical-align: middle;\n",
              "    }\n",
              "\n",
              "    .dataframe tbody tr th {\n",
              "        vertical-align: top;\n",
              "    }\n",
              "\n",
              "    .dataframe thead th {\n",
              "        text-align: right;\n",
              "    }\n",
              "</style>\n",
              "<table border=\"1\" class=\"dataframe\">\n",
              "  <thead>\n",
              "    <tr style=\"text-align: right;\">\n",
              "      <th></th>\n",
              "      <th>PassengerId</th>\n",
              "      <th>Pclass</th>\n",
              "      <th>Name</th>\n",
              "      <th>Sex</th>\n",
              "      <th>Age</th>\n",
              "      <th>SibSp</th>\n",
              "      <th>Parch</th>\n",
              "      <th>Ticket</th>\n",
              "      <th>Fare</th>\n",
              "      <th>Cabin</th>\n",
              "      <th>Embarked</th>\n",
              "    </tr>\n",
              "  </thead>\n",
              "  <tbody>\n",
              "    <tr>\n",
              "      <th>0</th>\n",
              "      <td>892</td>\n",
              "      <td>3</td>\n",
              "      <td>Kelly, Mr. James</td>\n",
              "      <td>male</td>\n",
              "      <td>34.5</td>\n",
              "      <td>0</td>\n",
              "      <td>0</td>\n",
              "      <td>330911</td>\n",
              "      <td>7.8292</td>\n",
              "      <td>NaN</td>\n",
              "      <td>Q</td>\n",
              "    </tr>\n",
              "    <tr>\n",
              "      <th>1</th>\n",
              "      <td>893</td>\n",
              "      <td>3</td>\n",
              "      <td>Wilkes, Mrs. James (Ellen Needs)</td>\n",
              "      <td>female</td>\n",
              "      <td>47.0</td>\n",
              "      <td>1</td>\n",
              "      <td>0</td>\n",
              "      <td>363272</td>\n",
              "      <td>7.0000</td>\n",
              "      <td>NaN</td>\n",
              "      <td>S</td>\n",
              "    </tr>\n",
              "    <tr>\n",
              "      <th>2</th>\n",
              "      <td>894</td>\n",
              "      <td>2</td>\n",
              "      <td>Myles, Mr. Thomas Francis</td>\n",
              "      <td>male</td>\n",
              "      <td>62.0</td>\n",
              "      <td>0</td>\n",
              "      <td>0</td>\n",
              "      <td>240276</td>\n",
              "      <td>9.6875</td>\n",
              "      <td>NaN</td>\n",
              "      <td>Q</td>\n",
              "    </tr>\n",
              "    <tr>\n",
              "      <th>3</th>\n",
              "      <td>895</td>\n",
              "      <td>3</td>\n",
              "      <td>Wirz, Mr. Albert</td>\n",
              "      <td>male</td>\n",
              "      <td>27.0</td>\n",
              "      <td>0</td>\n",
              "      <td>0</td>\n",
              "      <td>315154</td>\n",
              "      <td>8.6625</td>\n",
              "      <td>NaN</td>\n",
              "      <td>S</td>\n",
              "    </tr>\n",
              "    <tr>\n",
              "      <th>4</th>\n",
              "      <td>896</td>\n",
              "      <td>3</td>\n",
              "      <td>Hirvonen, Mrs. Alexander (Helga E Lindqvist)</td>\n",
              "      <td>female</td>\n",
              "      <td>22.0</td>\n",
              "      <td>1</td>\n",
              "      <td>1</td>\n",
              "      <td>3101298</td>\n",
              "      <td>12.2875</td>\n",
              "      <td>NaN</td>\n",
              "      <td>S</td>\n",
              "    </tr>\n",
              "  </tbody>\n",
              "</table>\n",
              "</div>"
            ],
            "text/plain": [
              "   PassengerId  Pclass  ... Cabin Embarked\n",
              "0          892       3  ...   NaN        Q\n",
              "1          893       3  ...   NaN        S\n",
              "2          894       2  ...   NaN        Q\n",
              "3          895       3  ...   NaN        S\n",
              "4          896       3  ...   NaN        S\n",
              "\n",
              "[5 rows x 11 columns]"
            ]
          },
          "metadata": {
            "tags": []
          },
          "execution_count": 5
        }
      ]
    },
    {
      "cell_type": "code",
      "metadata": {
        "id": "sj7jrXTLnQge",
        "colab": {
          "base_uri": "https://localhost:8080/",
          "height": 204
        },
        "outputId": "a8ce40a9-5f33-40a5-b8bb-a14675c85d3c"
      },
      "source": [
        "gender_submission.head()"
      ],
      "execution_count": null,
      "outputs": [
        {
          "output_type": "execute_result",
          "data": {
            "text/html": [
              "<div>\n",
              "<style scoped>\n",
              "    .dataframe tbody tr th:only-of-type {\n",
              "        vertical-align: middle;\n",
              "    }\n",
              "\n",
              "    .dataframe tbody tr th {\n",
              "        vertical-align: top;\n",
              "    }\n",
              "\n",
              "    .dataframe thead th {\n",
              "        text-align: right;\n",
              "    }\n",
              "</style>\n",
              "<table border=\"1\" class=\"dataframe\">\n",
              "  <thead>\n",
              "    <tr style=\"text-align: right;\">\n",
              "      <th></th>\n",
              "      <th>PassengerId</th>\n",
              "      <th>Survived</th>\n",
              "    </tr>\n",
              "  </thead>\n",
              "  <tbody>\n",
              "    <tr>\n",
              "      <th>0</th>\n",
              "      <td>892</td>\n",
              "      <td>0</td>\n",
              "    </tr>\n",
              "    <tr>\n",
              "      <th>1</th>\n",
              "      <td>893</td>\n",
              "      <td>1</td>\n",
              "    </tr>\n",
              "    <tr>\n",
              "      <th>2</th>\n",
              "      <td>894</td>\n",
              "      <td>0</td>\n",
              "    </tr>\n",
              "    <tr>\n",
              "      <th>3</th>\n",
              "      <td>895</td>\n",
              "      <td>0</td>\n",
              "    </tr>\n",
              "    <tr>\n",
              "      <th>4</th>\n",
              "      <td>896</td>\n",
              "      <td>1</td>\n",
              "    </tr>\n",
              "  </tbody>\n",
              "</table>\n",
              "</div>"
            ],
            "text/plain": [
              "   PassengerId  Survived\n",
              "0          892         0\n",
              "1          893         1\n",
              "2          894         0\n",
              "3          895         0\n",
              "4          896         1"
            ]
          },
          "metadata": {
            "tags": []
          },
          "execution_count": 7
        }
      ]
    },
    {
      "cell_type": "markdown",
      "metadata": {
        "id": "XTub6wa9yQw4"
      },
      "source": [
        "###Data Preprocessing"
      ]
    },
    {
      "cell_type": "code",
      "metadata": {
        "id": "QfLQl6GLo98m",
        "colab": {
          "base_uri": "https://localhost:8080/",
          "height": 387
        },
        "outputId": "8b628c8d-509e-4fd7-c8e5-b4af73792206"
      },
      "source": [
        "def preprocessing(df):\n",
        "  #First get rid of useless columns and perform one-hot.\n",
        "  sex = pd.get_dummies(df.Sex, prefix='sex')\n",
        "  df = pd.concat([df, sex], axis=1).drop(['Sex', 'Cabin', 'Ticket', 'Name'], axis=1)\n",
        "  Embarkation = pd.get_dummies(df.Embarked, prefix='embarked')\n",
        "  df = pd.concat([df, Embarkation], axis=1).drop('Embarked', axis=1)\n",
        "\n",
        "  #Normalization\n",
        "  scaler = StandardScaler()\n",
        "  temp = pd.DataFrame(scaler.fit_transform(df[['Pclass', 'Age', 'Fare']])).rename(columns={0: 'Pclass', 1: 'Age', 2: 'Fare'})\n",
        "  df = df.drop(['Pclass', 'Age', 'Fare'], axis=1)\n",
        "  df = pd.concat([df, temp], axis=1)\n",
        "  df = df.drop(['embarked_C', 'embarked_Q', 'embarked_S'], axis=1)\n",
        "  df = df.fillna(df.mean())\n",
        "  return df\n",
        "\n",
        "processed_train = preprocessing(train)\n",
        "processed_test = preprocessing(test)\n",
        "display(processed_train.head())\n",
        "display(processed_test.head())"
      ],
      "execution_count": null,
      "outputs": [
        {
          "output_type": "display_data",
          "data": {
            "text/html": [
              "<div>\n",
              "<style scoped>\n",
              "    .dataframe tbody tr th:only-of-type {\n",
              "        vertical-align: middle;\n",
              "    }\n",
              "\n",
              "    .dataframe tbody tr th {\n",
              "        vertical-align: top;\n",
              "    }\n",
              "\n",
              "    .dataframe thead th {\n",
              "        text-align: right;\n",
              "    }\n",
              "</style>\n",
              "<table border=\"1\" class=\"dataframe\">\n",
              "  <thead>\n",
              "    <tr style=\"text-align: right;\">\n",
              "      <th></th>\n",
              "      <th>PassengerId</th>\n",
              "      <th>Survived</th>\n",
              "      <th>SibSp</th>\n",
              "      <th>Parch</th>\n",
              "      <th>sex_female</th>\n",
              "      <th>sex_male</th>\n",
              "      <th>Pclass</th>\n",
              "      <th>Age</th>\n",
              "      <th>Fare</th>\n",
              "    </tr>\n",
              "  </thead>\n",
              "  <tbody>\n",
              "    <tr>\n",
              "      <th>0</th>\n",
              "      <td>1</td>\n",
              "      <td>0</td>\n",
              "      <td>1</td>\n",
              "      <td>0</td>\n",
              "      <td>0</td>\n",
              "      <td>1</td>\n",
              "      <td>0.827377</td>\n",
              "      <td>-0.530377</td>\n",
              "      <td>-0.502445</td>\n",
              "    </tr>\n",
              "    <tr>\n",
              "      <th>1</th>\n",
              "      <td>2</td>\n",
              "      <td>1</td>\n",
              "      <td>1</td>\n",
              "      <td>0</td>\n",
              "      <td>1</td>\n",
              "      <td>0</td>\n",
              "      <td>-1.566107</td>\n",
              "      <td>0.571831</td>\n",
              "      <td>0.786845</td>\n",
              "    </tr>\n",
              "    <tr>\n",
              "      <th>2</th>\n",
              "      <td>3</td>\n",
              "      <td>1</td>\n",
              "      <td>0</td>\n",
              "      <td>0</td>\n",
              "      <td>1</td>\n",
              "      <td>0</td>\n",
              "      <td>0.827377</td>\n",
              "      <td>-0.254825</td>\n",
              "      <td>-0.488854</td>\n",
              "    </tr>\n",
              "    <tr>\n",
              "      <th>3</th>\n",
              "      <td>4</td>\n",
              "      <td>1</td>\n",
              "      <td>1</td>\n",
              "      <td>0</td>\n",
              "      <td>1</td>\n",
              "      <td>0</td>\n",
              "      <td>-1.566107</td>\n",
              "      <td>0.365167</td>\n",
              "      <td>0.420730</td>\n",
              "    </tr>\n",
              "    <tr>\n",
              "      <th>4</th>\n",
              "      <td>5</td>\n",
              "      <td>0</td>\n",
              "      <td>0</td>\n",
              "      <td>0</td>\n",
              "      <td>0</td>\n",
              "      <td>1</td>\n",
              "      <td>0.827377</td>\n",
              "      <td>0.365167</td>\n",
              "      <td>-0.486337</td>\n",
              "    </tr>\n",
              "  </tbody>\n",
              "</table>\n",
              "</div>"
            ],
            "text/plain": [
              "   PassengerId  Survived  SibSp  Parch  ...  sex_male    Pclass       Age      Fare\n",
              "0            1         0      1      0  ...         1  0.827377 -0.530377 -0.502445\n",
              "1            2         1      1      0  ...         0 -1.566107  0.571831  0.786845\n",
              "2            3         1      0      0  ...         0  0.827377 -0.254825 -0.488854\n",
              "3            4         1      1      0  ...         0 -1.566107  0.365167  0.420730\n",
              "4            5         0      0      0  ...         1  0.827377  0.365167 -0.486337\n",
              "\n",
              "[5 rows x 9 columns]"
            ]
          },
          "metadata": {
            "tags": []
          }
        },
        {
          "output_type": "display_data",
          "data": {
            "text/html": [
              "<div>\n",
              "<style scoped>\n",
              "    .dataframe tbody tr th:only-of-type {\n",
              "        vertical-align: middle;\n",
              "    }\n",
              "\n",
              "    .dataframe tbody tr th {\n",
              "        vertical-align: top;\n",
              "    }\n",
              "\n",
              "    .dataframe thead th {\n",
              "        text-align: right;\n",
              "    }\n",
              "</style>\n",
              "<table border=\"1\" class=\"dataframe\">\n",
              "  <thead>\n",
              "    <tr style=\"text-align: right;\">\n",
              "      <th></th>\n",
              "      <th>PassengerId</th>\n",
              "      <th>SibSp</th>\n",
              "      <th>Parch</th>\n",
              "      <th>sex_female</th>\n",
              "      <th>sex_male</th>\n",
              "      <th>Pclass</th>\n",
              "      <th>Age</th>\n",
              "      <th>Fare</th>\n",
              "    </tr>\n",
              "  </thead>\n",
              "  <tbody>\n",
              "    <tr>\n",
              "      <th>0</th>\n",
              "      <td>892</td>\n",
              "      <td>0</td>\n",
              "      <td>0</td>\n",
              "      <td>0</td>\n",
              "      <td>1</td>\n",
              "      <td>0.873482</td>\n",
              "      <td>0.298549</td>\n",
              "      <td>-0.497811</td>\n",
              "    </tr>\n",
              "    <tr>\n",
              "      <th>1</th>\n",
              "      <td>893</td>\n",
              "      <td>1</td>\n",
              "      <td>0</td>\n",
              "      <td>1</td>\n",
              "      <td>0</td>\n",
              "      <td>0.873482</td>\n",
              "      <td>1.181328</td>\n",
              "      <td>-0.512660</td>\n",
              "    </tr>\n",
              "    <tr>\n",
              "      <th>2</th>\n",
              "      <td>894</td>\n",
              "      <td>0</td>\n",
              "      <td>0</td>\n",
              "      <td>0</td>\n",
              "      <td>1</td>\n",
              "      <td>-0.315819</td>\n",
              "      <td>2.240662</td>\n",
              "      <td>-0.464532</td>\n",
              "    </tr>\n",
              "    <tr>\n",
              "      <th>3</th>\n",
              "      <td>895</td>\n",
              "      <td>0</td>\n",
              "      <td>0</td>\n",
              "      <td>0</td>\n",
              "      <td>1</td>\n",
              "      <td>0.873482</td>\n",
              "      <td>-0.231118</td>\n",
              "      <td>-0.482888</td>\n",
              "    </tr>\n",
              "    <tr>\n",
              "      <th>4</th>\n",
              "      <td>896</td>\n",
              "      <td>1</td>\n",
              "      <td>1</td>\n",
              "      <td>1</td>\n",
              "      <td>0</td>\n",
              "      <td>0.873482</td>\n",
              "      <td>-0.584229</td>\n",
              "      <td>-0.417971</td>\n",
              "    </tr>\n",
              "  </tbody>\n",
              "</table>\n",
              "</div>"
            ],
            "text/plain": [
              "   PassengerId  SibSp  Parch  ...    Pclass       Age      Fare\n",
              "0          892      0      0  ...  0.873482  0.298549 -0.497811\n",
              "1          893      1      0  ...  0.873482  1.181328 -0.512660\n",
              "2          894      0      0  ... -0.315819  2.240662 -0.464532\n",
              "3          895      0      0  ...  0.873482 -0.231118 -0.482888\n",
              "4          896      1      1  ...  0.873482 -0.584229 -0.417971\n",
              "\n",
              "[5 rows x 8 columns]"
            ]
          },
          "metadata": {
            "tags": []
          }
        }
      ]
    },
    {
      "cell_type": "markdown",
      "metadata": {
        "id": "ebigGlHw47qt"
      },
      "source": [
        "###Model Fitting"
      ]
    },
    {
      "cell_type": "code",
      "metadata": {
        "id": "exQSX736_mms",
        "colab": {
          "base_uri": "https://localhost:8080/",
          "height": 415
        },
        "outputId": "2a350831-6748-4806-9bcb-c0d8cec1532d"
      },
      "source": [
        "y = processed_train['Survived']\n",
        "x = processed_train.drop(['PassengerId', 'Survived'], axis=1)\n",
        "x_train, x_test, y_train, y_test = train_test_split(x, y, test_size=0.3)\n",
        "x_train"
      ],
      "execution_count": null,
      "outputs": [
        {
          "output_type": "execute_result",
          "data": {
            "text/html": [
              "<div>\n",
              "<style scoped>\n",
              "    .dataframe tbody tr th:only-of-type {\n",
              "        vertical-align: middle;\n",
              "    }\n",
              "\n",
              "    .dataframe tbody tr th {\n",
              "        vertical-align: top;\n",
              "    }\n",
              "\n",
              "    .dataframe thead th {\n",
              "        text-align: right;\n",
              "    }\n",
              "</style>\n",
              "<table border=\"1\" class=\"dataframe\">\n",
              "  <thead>\n",
              "    <tr style=\"text-align: right;\">\n",
              "      <th></th>\n",
              "      <th>SibSp</th>\n",
              "      <th>Parch</th>\n",
              "      <th>sex_female</th>\n",
              "      <th>sex_male</th>\n",
              "      <th>Pclass</th>\n",
              "      <th>Age</th>\n",
              "      <th>Fare</th>\n",
              "    </tr>\n",
              "  </thead>\n",
              "  <tbody>\n",
              "    <tr>\n",
              "      <th>746</th>\n",
              "      <td>1</td>\n",
              "      <td>1</td>\n",
              "      <td>0</td>\n",
              "      <td>1</td>\n",
              "      <td>0.827377</td>\n",
              "      <td>-9.437045e-01</td>\n",
              "      <td>-0.240694</td>\n",
              "    </tr>\n",
              "    <tr>\n",
              "      <th>584</th>\n",
              "      <td>0</td>\n",
              "      <td>0</td>\n",
              "      <td>0</td>\n",
              "      <td>1</td>\n",
              "      <td>0.827377</td>\n",
              "      <td>2.174187e-16</td>\n",
              "      <td>-0.472998</td>\n",
              "    </tr>\n",
              "    <tr>\n",
              "      <th>471</th>\n",
              "      <td>0</td>\n",
              "      <td>0</td>\n",
              "      <td>0</td>\n",
              "      <td>1</td>\n",
              "      <td>0.827377</td>\n",
              "      <td>5.718310e-01</td>\n",
              "      <td>-0.474005</td>\n",
              "    </tr>\n",
              "    <tr>\n",
              "      <th>872</th>\n",
              "      <td>0</td>\n",
              "      <td>0</td>\n",
              "      <td>0</td>\n",
              "      <td>1</td>\n",
              "      <td>-1.566107</td>\n",
              "      <td>2.273911e-01</td>\n",
              "      <td>-0.547748</td>\n",
              "    </tr>\n",
              "    <tr>\n",
              "      <th>571</th>\n",
              "      <td>2</td>\n",
              "      <td>0</td>\n",
              "      <td>1</td>\n",
              "      <td>0</td>\n",
              "      <td>-1.566107</td>\n",
              "      <td>1.605151e+00</td>\n",
              "      <td>0.388096</td>\n",
              "    </tr>\n",
              "    <tr>\n",
              "      <th>...</th>\n",
              "      <td>...</td>\n",
              "      <td>...</td>\n",
              "      <td>...</td>\n",
              "      <td>...</td>\n",
              "      <td>...</td>\n",
              "      <td>...</td>\n",
              "      <td>...</td>\n",
              "    </tr>\n",
              "    <tr>\n",
              "      <th>763</th>\n",
              "      <td>1</td>\n",
              "      <td>2</td>\n",
              "      <td>1</td>\n",
              "      <td>0</td>\n",
              "      <td>-1.566107</td>\n",
              "      <td>4.340550e-01</td>\n",
              "      <td>1.767741</td>\n",
              "    </tr>\n",
              "    <tr>\n",
              "      <th>273</th>\n",
              "      <td>0</td>\n",
              "      <td>1</td>\n",
              "      <td>0</td>\n",
              "      <td>1</td>\n",
              "      <td>-1.566107</td>\n",
              "      <td>5.029430e-01</td>\n",
              "      <td>-0.050421</td>\n",
              "    </tr>\n",
              "    <tr>\n",
              "      <th>196</th>\n",
              "      <td>0</td>\n",
              "      <td>0</td>\n",
              "      <td>0</td>\n",
              "      <td>1</td>\n",
              "      <td>0.827377</td>\n",
              "      <td>2.174187e-16</td>\n",
              "      <td>-0.492378</td>\n",
              "    </tr>\n",
              "    <tr>\n",
              "      <th>500</th>\n",
              "      <td>0</td>\n",
              "      <td>0</td>\n",
              "      <td>0</td>\n",
              "      <td>1</td>\n",
              "      <td>0.827377</td>\n",
              "      <td>-8.748165e-01</td>\n",
              "      <td>-0.474005</td>\n",
              "    </tr>\n",
              "    <tr>\n",
              "      <th>850</th>\n",
              "      <td>4</td>\n",
              "      <td>2</td>\n",
              "      <td>0</td>\n",
              "      <td>1</td>\n",
              "      <td>0.827377</td>\n",
              "      <td>-1.770360e+00</td>\n",
              "      <td>-0.018709</td>\n",
              "    </tr>\n",
              "  </tbody>\n",
              "</table>\n",
              "<p>623 rows × 7 columns</p>\n",
              "</div>"
            ],
            "text/plain": [
              "     SibSp  Parch  sex_female  sex_male    Pclass           Age      Fare\n",
              "746      1      1           0         1  0.827377 -9.437045e-01 -0.240694\n",
              "584      0      0           0         1  0.827377  2.174187e-16 -0.472998\n",
              "471      0      0           0         1  0.827377  5.718310e-01 -0.474005\n",
              "872      0      0           0         1 -1.566107  2.273911e-01 -0.547748\n",
              "571      2      0           1         0 -1.566107  1.605151e+00  0.388096\n",
              "..     ...    ...         ...       ...       ...           ...       ...\n",
              "763      1      2           1         0 -1.566107  4.340550e-01  1.767741\n",
              "273      0      1           0         1 -1.566107  5.029430e-01 -0.050421\n",
              "196      0      0           0         1  0.827377  2.174187e-16 -0.492378\n",
              "500      0      0           0         1  0.827377 -8.748165e-01 -0.474005\n",
              "850      4      2           0         1  0.827377 -1.770360e+00 -0.018709\n",
              "\n",
              "[623 rows x 7 columns]"
            ]
          },
          "metadata": {
            "tags": []
          },
          "execution_count": 8
        }
      ]
    },
    {
      "cell_type": "code",
      "metadata": {
        "id": "-3zpdFWJBJVQ",
        "colab": {
          "base_uri": "https://localhost:8080/",
          "height": 52
        },
        "outputId": "a5ebb35e-ec72-4047-cbc0-6ffaa12e3e3c"
      },
      "source": [
        "clf = LogisticRegression(penalty='l2', max_iter=100)\n",
        "clf = clf.fit(x_train, y_train)\n",
        "y_pred_train = clf.predict(x_train)\n",
        "y_pred_test = clf.predict(x_test)\n",
        "print('Accuracy on training set using logistic regression: {}'.format(accuracy_score(y_train,y_pred_train)))\n",
        "print('Accuracy on test set using logistic regression: {}'.format(accuracy_score(y_test,y_pred_test)))"
      ],
      "execution_count": null,
      "outputs": [
        {
          "output_type": "stream",
          "text": [
            "Accuracy on training set using logistic regression: 0.8009630818619583\n",
            "Accuracy on test set using logistic regression: 0.8022388059701493\n"
          ],
          "name": "stdout"
        }
      ]
    },
    {
      "cell_type": "code",
      "metadata": {
        "id": "PSWB6Xsh_kKn",
        "colab": {
          "base_uri": "https://localhost:8080/",
          "height": 52
        },
        "outputId": "d2468b2f-52a2-41b9-bf43-869b78cd75ce"
      },
      "source": [
        "clf = tree.DecisionTreeClassifier(max_depth=6)\n",
        "clf = clf.fit(x_train, y_train)\n",
        "y_pred_train = clf.predict(x_train)\n",
        "y_pred_test = clf.predict(x_test)\n",
        "print('Accuracy on training set using decision tree: {}'.format(accuracy_score(y_train,y_pred_train)))\n",
        "print('Accuracy on test set using decision tree: {}'.format(accuracy_score(y_test,y_pred_test)))\n"
      ],
      "execution_count": null,
      "outputs": [
        {
          "output_type": "stream",
          "text": [
            "Accuracy on training set using decision tree: 0.85553772070626\n",
            "Accuracy on test set using decision tree: 0.8208955223880597\n"
          ],
          "name": "stdout"
        }
      ]
    },
    {
      "cell_type": "code",
      "metadata": {
        "id": "AilpWta6z2n2",
        "colab": {
          "base_uri": "https://localhost:8080/",
          "height": 52
        },
        "outputId": "d09c7297-1ac5-4942-c0a1-61d9e8abd1bd"
      },
      "source": [
        "clf = MLPClassifier(hidden_layer_sizes=(7, 21), max_iter=5000, \n",
        "                    solver='lbfgs', verbose=1)\n",
        "clf = clf.fit(x_train, y_train)\n",
        "y_pred_train = clf.predict(x_train)\n",
        "y_pred_test = clf.predict(x_test)\n",
        "print('Accuracy on training set using neural network: {}'.format(accuracy_score(y_train,y_pred_train)))\n",
        "print('Accuracy on test set using neural network: {}'.format(accuracy_score(y_test,y_pred_test)))"
      ],
      "execution_count": null,
      "outputs": [
        {
          "output_type": "stream",
          "text": [
            "Accuracy on training set using neural network: 0.9052969502407705\n",
            "Accuracy on test set using neural network: 0.7910447761194029\n"
          ],
          "name": "stdout"
        }
      ]
    },
    {
      "cell_type": "code",
      "metadata": {
        "id": "oJkZXyR_5dMt",
        "colab": {
          "base_uri": "https://localhost:8080/",
          "height": 52
        },
        "outputId": "e7152c68-599a-4bc6-dacd-f415d0943050"
      },
      "source": [
        "param = {'max_depth':3, \n",
        "         'eta':0.5, \n",
        "         'objective':'binary:logistic'}\n",
        "num_round = 100\n",
        "dtrain = xgb.DMatrix(x_train, label=pd.DataFrame(y_train))\n",
        "bst = xgb.train(param, dtrain, num_round)\n",
        "# make prediction\n",
        "#y_pred_train = bst.predict(dtrain)\n",
        "\n",
        "dtrain = xgb.DMatrix(x_train)\n",
        "y_pred_train = bst.predict(dtrain)\n",
        "y_pred_train = [0 if y <0.5 else 1 for y in y_pred_train]\n",
        "\n",
        "\n",
        "dtest = xgb.DMatrix(x_test)\n",
        "y_pred_test = bst.predict(dtest)\n",
        "y_pred_test = [0 if y <0.5 else 1 for y in y_pred_test]\n",
        "#y_pred_test = bst.predict(x_test)\n",
        "print('Accuracy on training set using XGboost: {}'.format(accuracy_score(y_train.tolist(),y_pred_train)))\n",
        "print('Accuracy on test set using XGboost: {}'.format(accuracy_score(y_test.tolist(),y_pred_test)))\n",
        "#print(ypred)\n",
        "\n",
        "\n"
      ],
      "execution_count": null,
      "outputs": [
        {
          "output_type": "stream",
          "text": [
            "Accuracy on training set using XGboost: 0.9406099518459069\n",
            "Accuracy on test set using XGboost: 0.8432835820895522\n"
          ],
          "name": "stdout"
        }
      ]
    },
    {
      "cell_type": "code",
      "metadata": {
        "id": "OZIv3HU19Z3p",
        "colab": {
          "base_uri": "https://localhost:8080/",
          "height": 35
        },
        "outputId": "59746187-df2f-407a-d42f-b6440f14d73b"
      },
      "source": [
        "model = xgb.XGBClassifier(max_depth=3,learning_rate=0.03,n_estimators=500,objective='binary:logistic')\n",
        "model.seed=42\n",
        "kfold = KFold(n_splits=5)\n",
        "results = cross_val_score(model, x, y, cv=kfold)\n",
        "print(\"Accuracy: %.2f%% (%.2f%%)\" % (results.mean()*100, results.std()*100))"
      ],
      "execution_count": null,
      "outputs": [
        {
          "output_type": "stream",
          "text": [
            "Accuracy: 82.94% (2.31%)\n"
          ],
          "name": "stdout"
        }
      ]
    },
    {
      "cell_type": "code",
      "metadata": {
        "id": "Q4HhXq2PzrVZ",
        "colab": {
          "base_uri": "https://localhost:8080/",
          "height": 52
        },
        "outputId": "52a397bc-1bd3-4860-8262-c6840a398aa5"
      },
      "source": [
        "neigh = KNeighborsClassifier(n_neighbors=5, algorithm='auto')\n",
        "neigh.fit(x_train, y_train)\n",
        "y_pred_train = neigh.predict(x_train)\n",
        "y_pred_test = neigh.predict(x_test)\n",
        "\n",
        "print('Accuracy on training set using KNN: {}'.format(accuracy_score(y_train,y_pred_train)))\n",
        "print('Accuracy on test set using KNN: {}'.format(accuracy_score(y_test,y_pred_test)))"
      ],
      "execution_count": null,
      "outputs": [
        {
          "output_type": "stream",
          "text": [
            "Accuracy on training set using KNN: 0.8603531300160514\n",
            "Accuracy on test set using KNN: 0.7947761194029851\n"
          ],
          "name": "stdout"
        }
      ]
    },
    {
      "cell_type": "code",
      "metadata": {
        "id": "dXM6EbiAmOqg",
        "colab": {
          "base_uri": "https://localhost:8080/",
          "height": 52
        },
        "outputId": "4c23ec86-9506-4097-8c6c-0f307875cb34"
      },
      "source": [
        "clf = svm.SVC(kernel='rbf')\n",
        "clf = clf.fit(x_train, y_train)\n",
        "y_pred_train = clf.predict(x_train)\n",
        "y_pred_test = clf.predict(x_test)\n",
        "print('Accuracy on training set using SVC: {}'.format(accuracy_score(y_train,y_pred_train)))\n",
        "print('Accuracy on test set using SVC: {}'.format(accuracy_score(y_test,y_pred_test)))"
      ],
      "execution_count": null,
      "outputs": [
        {
          "output_type": "stream",
          "text": [
            "Accuracy on training set using SVC: 0.8346709470304976\n",
            "Accuracy on test set using SVC: 0.8246268656716418\n"
          ],
          "name": "stdout"
        }
      ]
    },
    {
      "cell_type": "code",
      "metadata": {
        "id": "UOZlc77h2W0o",
        "colab": {
          "base_uri": "https://localhost:8080/",
          "height": 52
        },
        "outputId": "4022b208-99e1-4a98-c324-f829a9e18454"
      },
      "source": [
        "from sklearn.ensemble import BaggingClassifier\n",
        "from sklearn.neighbors import KNeighborsClassifier\n",
        "bagging = BaggingClassifier(KNeighborsClassifier(n_neighbors=5, algorithm='auto'),\n",
        "                             max_samples=0.5, max_features=0.5)\n",
        "bagging = bagging.fit(x_train, y_train)\n",
        "y_pred_train = bagging.predict(x_train)\n",
        "y_pred_test = bagging.predict(x_test)\n",
        "print('Accuracy on training set using bagging: {}'.format(accuracy_score(y_train,y_pred_train)))\n",
        "print('Accuracy on test set using bagging: {}'.format(accuracy_score(y_test,y_pred_test)))"
      ],
      "execution_count": null,
      "outputs": [
        {
          "output_type": "stream",
          "text": [
            "Accuracy on training set using bagging: 0.8282504012841091\n",
            "Accuracy on test set using bagging: 0.8134328358208955\n"
          ],
          "name": "stdout"
        }
      ]
    },
    {
      "cell_type": "code",
      "metadata": {
        "id": "-R6ciXgha7yL",
        "colab": {
          "base_uri": "https://localhost:8080/",
          "height": 52
        },
        "outputId": "d5e4c27c-5a82-4860-e064-9611802895a5"
      },
      "source": [
        "from sklearn.ensemble import RandomForestClassifier\n",
        "clf = BaggingClassifier(RandomForestClassifier(n_estimators=20, max_depth=5, random_state=42))\n",
        "clf = clf.fit(x_train, y_train)\n",
        "y_pred_train = clf.predict(x_train)\n",
        "y_pred_test = clf.predict(x_test)\n",
        "print('Accuracy on training set using RandomForest Ensemble: {}'.format(accuracy_score(y_train,y_pred_train)))\n",
        "print('Accuracy on test set using RandomForest Ensemble: {}'.format(accuracy_score(y_test,y_pred_test)))"
      ],
      "execution_count": null,
      "outputs": [
        {
          "output_type": "stream",
          "text": [
            "Accuracy on training set using RandomForest Ensemble: 0.8394863563402889\n",
            "Accuracy on test set using RandomForest Ensemble: 0.832089552238806\n"
          ],
          "name": "stdout"
        }
      ]
    },
    {
      "cell_type": "code",
      "metadata": {
        "id": "IM_cTVd6byM7"
      },
      "source": [
        ""
      ],
      "execution_count": null,
      "outputs": []
    }
  ]
}