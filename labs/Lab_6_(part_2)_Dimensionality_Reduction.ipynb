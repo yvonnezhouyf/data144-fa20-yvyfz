{
  "nbformat": 4,
  "nbformat_minor": 0,
  "metadata": {
    "kernelspec": {
      "display_name": "Python 3",
      "language": "python",
      "name": "python3"
    },
    "language_info": {
      "codemirror_mode": {
        "name": "ipython",
        "version": 3
      },
      "file_extension": ".py",
      "mimetype": "text/x-python",
      "name": "python",
      "nbconvert_exporter": "python",
      "pygments_lexer": "ipython3",
      "version": "3.6.9"
    },
    "colab": {
      "name": "Lab 6 (part 2): Dimensionality Reduction",
      "provenance": [],
      "collapsed_sections": []
    }
  },
  "cells": [
    {
      "cell_type": "code",
      "metadata": {
        "id": "IDlU-kLCKDVZ"
      },
      "source": [
        "NAME = \"Yvonne Zhou\""
      ],
      "execution_count": null,
      "outputs": []
    },
    {
      "cell_type": "code",
      "metadata": {
        "id": "PsLzQ8JFcpXX"
      },
      "source": [
        ""
      ],
      "execution_count": null,
      "outputs": []
    },
    {
      "cell_type": "markdown",
      "metadata": {
        "id": "kW9zL4V6KDVc"
      },
      "source": [
        "---"
      ]
    },
    {
      "cell_type": "markdown",
      "metadata": {
        "deletable": false,
        "editable": false,
        "nbgrader": {
          "checksum": "9a0ec075584699a44c46933457b0a8ba",
          "grade": false,
          "grade_id": "cell-a910b376742d04c0",
          "locked": true,
          "schema_version": 1,
          "solution": false
        },
        "id": "ECD5r2hFKDVd"
      },
      "source": [
        "# Lab 6: Skip Gram\n",
        "\n",
        "**Please read the following instructions very carefully**\n",
        "\n",
        "## Working on the assignment / FAQs\n",
        "- **Always use the seed/random_state as *42* wherever applicable** (This is to ensure repeatability in answers, across students and coding environments) \n",
        "- The type of question and the points they carry are indicated in each question cell\n",
        "- To avoid any ambiguity, each question also specifies what *value* must be set. Note that these are dummy values and not the answers\n",
        "- If an autograded question has multiple answers (due to differences in handling NaNs, zeros etc.), all answers will be considered.\n",
        "- You can delete the `raise NotImplementedError()`\n",
        "- **Submitting the assignment** : Download the '.ipynb' file from Colab and upload it to bcourses. Do not delete any outputs from cells before submitting.\n",
        "- That's about it. Happy coding!\n",
        "\n",
        "\n",
        "Available software:\n",
        " - Python's Gensim module: https://radimrehurek.com/gensim/ (install using pip)\n",
        " - Sklearn’s  TSNE module in case you use TSNE to reduce dimension (optional)\n",
        " - Python’s Matplotlib (optional)\n",
        "\n",
        "_Note: The most important hyper parameters of skip-gram/CBOW are vector size and windows size_\n"
      ]
    },
    {
      "cell_type": "code",
      "metadata": {
        "deletable": false,
        "editable": false,
        "nbgrader": {
          "checksum": "a09a0bf3042da711c4bf843e9b4a4189",
          "grade": false,
          "grade_id": "cell-bf780e597c0216c8",
          "locked": true,
          "schema_version": 1,
          "solution": false
        },
        "id": "Vsocwry-KDVe",
        "colab": {
          "base_uri": "https://localhost:8080/"
        },
        "outputId": "ae434862-3c95-4277-a6ea-71a783bfac24"
      },
      "source": [
        "!pip install gensim\n",
        "!wget -nc https://s3.amazonaws.com/dl4j-distribution/GoogleNews-vectors-negative300.bin.gz \n",
        "\n",
        "\n",
        "import pandas as pd\n",
        "import numpy as np \n",
        "import gensim\n",
        "\n"
      ],
      "execution_count": null,
      "outputs": [
        {
          "output_type": "stream",
          "text": [
            "Requirement already satisfied: gensim in /usr/local/lib/python3.6/dist-packages (3.6.0)\n",
            "Requirement already satisfied: smart-open>=1.2.1 in /usr/local/lib/python3.6/dist-packages (from gensim) (3.0.0)\n",
            "Requirement already satisfied: scipy>=0.18.1 in /usr/local/lib/python3.6/dist-packages (from gensim) (1.4.1)\n",
            "Requirement already satisfied: numpy>=1.11.3 in /usr/local/lib/python3.6/dist-packages (from gensim) (1.18.5)\n",
            "Requirement already satisfied: six>=1.5.0 in /usr/local/lib/python3.6/dist-packages (from gensim) (1.15.0)\n",
            "Requirement already satisfied: requests in /usr/local/lib/python3.6/dist-packages (from smart-open>=1.2.1->gensim) (2.23.0)\n",
            "Requirement already satisfied: idna<3,>=2.5 in /usr/local/lib/python3.6/dist-packages (from requests->smart-open>=1.2.1->gensim) (2.10)\n",
            "Requirement already satisfied: certifi>=2017.4.17 in /usr/local/lib/python3.6/dist-packages (from requests->smart-open>=1.2.1->gensim) (2020.6.20)\n",
            "Requirement already satisfied: chardet<4,>=3.0.2 in /usr/local/lib/python3.6/dist-packages (from requests->smart-open>=1.2.1->gensim) (3.0.4)\n",
            "Requirement already satisfied: urllib3!=1.25.0,!=1.25.1,<1.26,>=1.21.1 in /usr/local/lib/python3.6/dist-packages (from requests->smart-open>=1.2.1->gensim) (1.24.3)\n",
            "File ‘GoogleNews-vectors-negative300.bin.gz’ already there; not retrieving.\n",
            "\n"
          ],
          "name": "stdout"
        }
      ]
    },
    {
      "cell_type": "markdown",
      "metadata": {
        "deletable": false,
        "editable": false,
        "nbgrader": {
          "checksum": "47031c66b74746d23ccc5e8369446a4b",
          "grade": false,
          "grade_id": "cell-3f89500615a0096f",
          "locked": true,
          "schema_version": 1,
          "solution": false
        },
        "id": "ZF74G9bDKDVh"
      },
      "source": [
        "### **Q1 (1 point)** \n",
        "Find the cosine similarity between the following word pairs\n",
        "\n",
        "- (France, England)\n",
        "- (smaller, bigger)\n",
        "- (England, London)\n",
        "- (France, Rocket)\n",
        "- (big, bigger)"
      ]
    },
    {
      "cell_type": "code",
      "metadata": {
        "deletable": false,
        "nbgrader": {
          "checksum": "4d52dda406c3d8cd5e37d29755f0fb12",
          "grade": false,
          "grade_id": "cell-fbbe575f8f5a6368",
          "locked": false,
          "schema_version": 1,
          "solution": true
        },
        "id": "SZD5ZaMvKDVk",
        "colab": {
          "base_uri": "https://localhost:8080/"
        },
        "outputId": "4a1236d0-6f17-47dc-a0d9-52bac252e95b"
      },
      "source": [
        "#Replace 0 with the code / value; Do not delete this cell\n",
        "from gensim.models import KeyedVectors\n",
        "\n",
        "model = KeyedVectors.load_word2vec_format('GoogleNews-vectors-negative300.bin.gz', binary=True)\n",
        "\n",
        "similarity_pair1 = model.similarity(\"France\", \"England\")\n",
        "similarity_pair2 = model.similarity(\"smaller\", \"bigger\")\n",
        "similarity_pair3 = model.similarity(\"England\", \"London\")\n",
        "similarity_pair4 = model.similarity(\"France\", \"Rocket\")\n",
        "similarity_pair5 = model.similarity(\"big\", \"bigger\")\n",
        "\n"
      ],
      "execution_count": null,
      "outputs": [
        {
          "output_type": "stream",
          "text": [
            "/usr/local/lib/python3.6/dist-packages/gensim/matutils.py:737: FutureWarning: Conversion of the second argument of issubdtype from `int` to `np.signedinteger` is deprecated. In future, it will be treated as `np.int64 == np.dtype(int).type`.\n",
            "  if np.issubdtype(vec.dtype, np.int):\n"
          ],
          "name": "stderr"
        }
      ]
    },
    {
      "cell_type": "code",
      "metadata": {
        "deletable": false,
        "editable": false,
        "nbgrader": {
          "checksum": "569aa8b664a41d901bf7b0a5e23e9930",
          "grade": true,
          "grade_id": "cell-929d59ed5d67f618",
          "locked": true,
          "points": 1,
          "schema_version": 1,
          "solution": false
        },
        "id": "tFUPLSK7KDVp",
        "colab": {
          "base_uri": "https://localhost:8080/"
        },
        "outputId": "5a7381c7-ea44-4ab6-c551-7fd7561b0dfa"
      },
      "source": [
        "#This is an autograded cell, do not edit/delete\n",
        "print(similarity_pair1, similarity_pair2, similarity_pair3, similarity_pair4, similarity_pair5)"
      ],
      "execution_count": null,
      "outputs": [
        {
          "output_type": "stream",
          "text": [
            "0.39804944 0.7302272 0.43992856 0.07114174 0.68423855\n"
          ],
          "name": "stdout"
        }
      ]
    },
    {
      "cell_type": "markdown",
      "metadata": {
        "deletable": false,
        "editable": false,
        "nbgrader": {
          "checksum": "a7f270405ddf9ecbffde36e6c096b818",
          "grade": false,
          "grade_id": "cell-ccd6618b4fac3715",
          "locked": true,
          "schema_version": 1,
          "solution": false
        },
        "id": "ZcqpWCjJKDVs"
      },
      "source": [
        "### **Q2 (1 point)** \n",
        "Write an expression to extract the vector representations of the words: \n",
        "\n",
        "- France\n",
        "- England\n",
        "- smaller\n",
        "- bigger\n",
        "- rocket\n",
        "- big\n",
        "\n",
        "Get only the first 5 elements for each vector representation."
      ]
    },
    {
      "cell_type": "code",
      "metadata": {
        "deletable": false,
        "nbgrader": {
          "checksum": "6b3cecb268eb9440c446cd3de984b7f6",
          "grade": false,
          "grade_id": "cell-00f3d05abb28aa23",
          "locked": false,
          "schema_version": 1,
          "solution": true
        },
        "id": "6pzKlLyjKDVt",
        "colab": {
          "base_uri": "https://localhost:8080/"
        },
        "outputId": "caf59e10-b42e-42d6-d256-b52022392016"
      },
      "source": [
        "#Replace 0 with the code / value to get the first 5 elements of each vector; Do not delete this cell\n",
        "vector_1 = model.most_similar(positive = [\"France\"])[:5]\n",
        "vector_2 = model.most_similar(positive = [\"England\"])[:5]\n",
        "vector_3 = model.most_similar(positive = [\"smaller\"])[:5]\n",
        "vector_4 = model.most_similar(positive = [\"bigger\"])[:5]\n",
        "vector_5 = model.most_similar(positive = [\"rocket\"])[:5]\n",
        "vector_6 = model.most_similar(positive = [\"big\"])[:5]\n",
        "\n"
      ],
      "execution_count": null,
      "outputs": [
        {
          "output_type": "stream",
          "text": [
            "/usr/local/lib/python3.6/dist-packages/gensim/matutils.py:737: FutureWarning: Conversion of the second argument of issubdtype from `int` to `np.signedinteger` is deprecated. In future, it will be treated as `np.int64 == np.dtype(int).type`.\n",
            "  if np.issubdtype(vec.dtype, np.int):\n"
          ],
          "name": "stderr"
        }
      ]
    },
    {
      "cell_type": "code",
      "metadata": {
        "deletable": false,
        "editable": false,
        "nbgrader": {
          "checksum": "401940f859774b3c1ec48338fa15682e",
          "grade": true,
          "grade_id": "cell-6f34229370fa873f",
          "locked": true,
          "points": 1,
          "schema_version": 1,
          "solution": false
        },
        "id": "Hkj2ROGTKDVv",
        "colab": {
          "base_uri": "https://localhost:8080/"
        },
        "outputId": "6a797ac1-8bdd-43a9-af02-c69dec59545a"
      },
      "source": [
        "#This is an autograded cell, do not edit/delete\n",
        "print(vector_1)\n",
        "print(vector_2)\n",
        "print(vector_3)\n",
        "print(vector_4)\n",
        "print(vector_5)\n",
        "print(vector_6)\n"
      ],
      "execution_count": null,
      "outputs": [
        {
          "output_type": "stream",
          "text": [
            "[('French', 0.7000749707221985), ('extradites_Noriega', 0.6946742534637451), ('Belgium', 0.6933180689811707), ('Villebon_Sur_Yvette', 0.6776412725448608), ('PARIS_AFX_Gaz_de', 0.6628001928329468)]\n",
            "[('stock_symbol_BNK', 0.7334469556808472), ('ticker_symbol_BNK', 0.7256011962890625), ('Engand', 0.6351369619369507), ('Wales', 0.6337509155273438), ('Engalnd', 0.6287516355514526)]\n",
            "[('larger', 0.8521074652671814), ('bigger', 0.7302271723747253), ('Smaller', 0.7003331184387207), ('Larger', 0.6532962322235107), ('similarly_sized', 0.6253994703292847)]\n",
            "[('larger', 0.797631025314331), ('smaller', 0.7302272319793701), ('big', 0.6842385530471802), ('Bigger', 0.6754683256149292), ('grander', 0.5635557770729065)]\n",
            "[('rockets', 0.8199313879013062), ('missile', 0.6771038770675659), ('Qassam_rocket', 0.6176819801330566), ('Katyusha_rocket', 0.614285945892334), ('Kassam_rocket', 0.600078821182251)]\n",
            "[('huge', 0.7809855937957764), ('bigger', 0.6842385530471802), ('biggest', 0.6336528658866882), ('major', 0.6057686805725098), ('gigantic', 0.5822017192840576)]\n"
          ],
          "name": "stdout"
        }
      ]
    },
    {
      "cell_type": "markdown",
      "metadata": {
        "deletable": false,
        "editable": false,
        "nbgrader": {
          "checksum": "ac8b42811c924e7988f17b9dbd3f71ef",
          "grade": false,
          "grade_id": "cell-4ad44071d3785409",
          "locked": true,
          "schema_version": 1,
          "solution": false
        },
        "id": "2UBnMwiXKDVy"
      },
      "source": [
        "### **Q3 (1 point)** \n",
        "Find the euclidean distances between the word pairs : \n",
        "\n",
        "- (France, England)\n",
        "- (smaller, bigger)\n",
        "- (England, London)\n",
        "- (France, Rocket)\n",
        "- (big, bigger)\n"
      ]
    },
    {
      "cell_type": "code",
      "metadata": {
        "deletable": false,
        "nbgrader": {
          "checksum": "a771483fbb59086604eb84bcc7c7f0ad",
          "grade": false,
          "grade_id": "cell-3aba86afc0ebd8a8",
          "locked": false,
          "schema_version": 1,
          "solution": true
        },
        "id": "zQGd-YVoKDV3",
        "colab": {
          "base_uri": "https://localhost:8080/"
        },
        "outputId": "6825fe7e-4d31-47a0-a090-373b81628fab"
      },
      "source": [
        "#Replace 0 with the code / value; Do not delete this cell\n",
        "def eu_distance(vec1, vec2):\n",
        "  val_1 = [x[1] for x in vec1]\n",
        "  val_2 = [x[1] for x in vec2]\n",
        "  return np.sqrt(sum((np.array(val_1) - np.array(val_2)) ** 2))\n",
        "\n",
        "eu_dist1 = eu_distance(model.most_similar(positive = [\"France\"]), model.most_similar(positive = [\"England\"]))\n",
        "eu_dist2 = eu_distance(model.most_similar(positive = [\"smaller\"]), model.most_similar(positive = [\"bigger\"]))\n",
        "eu_dist3 = eu_distance(model.most_similar(positive = [\"England\"]), model.most_similar(positive = [\"London\"]))\n",
        "eu_dist4 = eu_distance(model.most_similar(positive = [\"France\"]), model.most_similar(positive = [\"Rocket\"]))\n",
        "eu_dist5 = eu_distance(model.most_similar(positive = [\"big\"]), model.most_similar(positive = [\"bigger\"]))\n",
        "\n"
      ],
      "execution_count": null,
      "outputs": [
        {
          "output_type": "stream",
          "text": [
            "/usr/local/lib/python3.6/dist-packages/gensim/matutils.py:737: FutureWarning: Conversion of the second argument of issubdtype from `int` to `np.signedinteger` is deprecated. In future, it will be treated as `np.int64 == np.dtype(int).type`.\n",
            "  if np.issubdtype(vec.dtype, np.int):\n"
          ],
          "name": "stderr"
        }
      ]
    },
    {
      "cell_type": "code",
      "metadata": {
        "deletable": false,
        "editable": false,
        "nbgrader": {
          "checksum": "17796eb5de342e8f8e841aa137a2c41c",
          "grade": true,
          "grade_id": "cell-15ffa50b82de21ad",
          "locked": true,
          "points": 1,
          "schema_version": 1,
          "solution": false
        },
        "id": "HsSg0l2UKDV6",
        "colab": {
          "base_uri": "https://localhost:8080/"
        },
        "outputId": "12a57376-853f-4e66-efc1-65c1a5a35246"
      },
      "source": [
        "#This is an autograded cell, do not edit / delete\n",
        "print(eu_dist1)\n",
        "print(eu_dist2)\n",
        "print(eu_dist3)\n",
        "print(eu_dist4)\n",
        "print(eu_dist5)\n"
      ],
      "execution_count": null,
      "outputs": [
        {
          "output_type": "stream",
          "text": [
            "0.12828817998325734\n",
            "0.11647111404575597\n",
            "0.0973762136865938\n",
            "0.6504391948027279\n",
            "0.10105091666495802\n"
          ],
          "name": "stdout"
        }
      ]
    },
    {
      "cell_type": "markdown",
      "metadata": {
        "deletable": false,
        "editable": false,
        "nbgrader": {
          "checksum": "afc0e843c7545e2df83448feda9f28f5",
          "grade": false,
          "grade_id": "cell-7cd8b9b67386376d",
          "locked": true,
          "schema_version": 1,
          "solution": false
        },
        "id": "XvO2iU7QKDWA"
      },
      "source": [
        "### **Q4 (1 point)**\n",
        "Time to dabble with the power of Word2Vec. Find the 2 closest words  for the following conditions:  \n",
        "- (King - Man + Queen)\n",
        "- (bigger - big + small)\n",
        "- (man + programmer - woman)\n",
        "- (waiting - wait + run)\n",
        "- (Texas + Milwaukee – Wisconsin)"
      ]
    },
    {
      "cell_type": "code",
      "metadata": {
        "deletable": false,
        "nbgrader": {
          "checksum": "50ef096feb166865434fe2fca3d41f99",
          "grade": false,
          "grade_id": "cell-b72201968c5fd1ec",
          "locked": false,
          "schema_version": 1,
          "solution": true
        },
        "id": "jCxWmA1eKDWB",
        "colab": {
          "base_uri": "https://localhost:8080/"
        },
        "outputId": "8d1c6e06-10fc-471b-e543-88ccbd517a94"
      },
      "source": [
        "#Replace 0 with the code / value; Do not delete this cell\n",
        "closest1 = model.most_similar(positive = [\"King\", \"Queen\"], negative = [\"Man\"])[:2]\n",
        "closest2 = model.most_similar(positive = [\"bigger\", \"small\"], negative = [\"big\"])[:2]\n",
        "closest3 = model.most_similar(positive = [\"Man\", \"programmer\"], negative = [\"woman\"])[:2]\n",
        "closest4 = model.most_similar(positive = [\"waiting\", \"run\"], negative = [\"wait\"])[:2]\n",
        "closest5 = model.most_similar(positive = [\"Texas\", \"Milwaukee\"], negative = [\"Wisconsin\"])[:2]\n",
        "\n",
        "\n",
        "\n",
        "\n"
      ],
      "execution_count": null,
      "outputs": [
        {
          "output_type": "stream",
          "text": [
            "/usr/local/lib/python3.6/dist-packages/gensim/matutils.py:737: FutureWarning: Conversion of the second argument of issubdtype from `int` to `np.signedinteger` is deprecated. In future, it will be treated as `np.int64 == np.dtype(int).type`.\n",
            "  if np.issubdtype(vec.dtype, np.int):\n"
          ],
          "name": "stderr"
        }
      ]
    },
    {
      "cell_type": "code",
      "metadata": {
        "deletable": false,
        "editable": false,
        "nbgrader": {
          "checksum": "f9c5ff502264f29d2632c6387f92686a",
          "grade": true,
          "grade_id": "cell-b69718ab0e1470bc",
          "locked": true,
          "points": 1,
          "schema_version": 1,
          "solution": false
        },
        "id": "io9elfD8KDWE",
        "colab": {
          "base_uri": "https://localhost:8080/"
        },
        "outputId": "7d683902-642f-4206-ef0b-c40aa8eb6349"
      },
      "source": [
        "#This is an autograded cell, do not edit/delete\n",
        "print(closest1)\n",
        "print(closest2)\n",
        "print(closest3)\n",
        "print(closest4)\n",
        "print(closest5)\n"
      ],
      "execution_count": null,
      "outputs": [
        {
          "output_type": "stream",
          "text": [
            "[('Queen_Elizabeth', 0.5257916450500488), ('monarch', 0.5004087090492249)]\n",
            "[('larger', 0.7402471899986267), ('smaller', 0.732999324798584)]\n",
            "[('Programmer', 0.488858163356781), ('Lead_Programmer', 0.43627363443374634)]\n",
            "[('running', 0.5654535889625549), ('runs', 0.49640005826950073)]\n",
            "[('Houston', 0.7767744064331055), ('Fort_Worth', 0.7270511388778687)]\n"
          ],
          "name": "stdout"
        }
      ]
    },
    {
      "cell_type": "markdown",
      "metadata": {
        "deletable": false,
        "editable": false,
        "nbgrader": {
          "checksum": "6432058d78f4fa52224c48a3b3e71d0d",
          "grade": false,
          "grade_id": "cell-73dca0e2072fef91",
          "locked": true,
          "schema_version": 1,
          "solution": false
        },
        "id": "erUu4u71KDWJ"
      },
      "source": [
        "### **Q5 (3 points)**\n",
        "Using the vectors for the words in the Google News dataset, explore the semantic representation of these words through K-means clustering and explain your findings.\n",
        "\n",
        "*Note : Since there are ~3Mil words in the vocabulary, you can downsample it to ~20-30k randomly selected words*\n",
        "\n",
        "**Do not delete the below cell**"
      ]
    },
    {
      "cell_type": "code",
      "metadata": {
        "deletable": false,
        "nbgrader": {
          "checksum": "7ecef46689f11d4d0a6fed72e049235f",
          "grade": true,
          "grade_id": "cell-80b177848b8b0212",
          "locked": false,
          "points": 3,
          "schema_version": 1,
          "solution": true
        },
        "id": "M3jN02fOKDWK",
        "colab": {
          "base_uri": "https://localhost:8080/"
        },
        "outputId": "9edabbaa-b140-4005-e2b0-fcc1f617de2f"
      },
      "source": [
        "# YOUR CODE HERE\n",
        "from sklearn.cluster import KMeans\n",
        "from random import sample\n",
        "\n",
        "sampled = sample(list(model.wv.vocab), 20000)\n",
        "\n",
        "sample_with_vector = {}\n",
        "for s in sampled:\n",
        "  sample_with_vector[s] = model.word_vec(s)\n",
        "\n",
        "model_k = KMeans(n_clusters = 50, random_state = 42)\n",
        "model_k = model_k.fit(list(sample_with_vector.values()))\n",
        "\n",
        "word_with_lable = pd.DataFrame(data = {\"words\": sample_with_vector.keys(), \"cluster_id\": model_k.labels_})\n",
        "word_with_lable.groupby(\"cluster_id\")[\"words\"].apply(np.array).head()\n",
        "\n",
        "# From the output, we can see that there are some relationships between the words that are clustered into the same group, like the group that contains\n",
        "# words like McVities, Pateley, Royal_Horticultural_Halls and etc. From Google, I see that McVities is a British snack food brand. Pateley is a bridge\n",
        "# that is in North Yorkshire, England. And Royal Horticultural Halls is an event venue in London, England. The code did successfully capture that \n",
        "# these three words are somehow related as they are all from UK."
      ],
      "execution_count": null,
      "outputs": [
        {
          "output_type": "stream",
          "text": [
            "/usr/local/lib/python3.6/dist-packages/ipykernel_launcher.py:5: DeprecationWarning: Call to deprecated `wv` (Attribute will be removed in 4.0.0, use self instead).\n",
            "  \"\"\"\n"
          ],
          "name": "stderr"
        },
        {
          "output_type": "execute_result",
          "data": {
            "text/plain": [
              "cluster_id\n",
              "0    [Zabrocki_Plaza, Lee_Chong_hwi, Consequently, ...\n",
              "1    [Sheets_MFLI_announced, Dan_Campsall, Securita...\n",
              "2    [fly_tyers, shallow_bays, greeting_card, midse...\n",
              "3    [McVities, Pateley, Royal_Horticultural_Halls,...\n",
              "4    [kbb.com, SULEV, Kenworths, GMC_pickup, Plymou...\n",
              "Name: words, dtype: object"
            ]
          },
          "metadata": {
            "tags": []
          },
          "execution_count": 15
        }
      ]
    },
    {
      "cell_type": "markdown",
      "metadata": {
        "deletable": false,
        "editable": false,
        "nbgrader": {
          "checksum": "0467b27a0f59504cbb62b851a002386f",
          "grade": false,
          "grade_id": "cell-5b2a5e8ff6c74323",
          "locked": true,
          "schema_version": 1,
          "solution": false
        },
        "id": "rmdtLoHkKDWR"
      },
      "source": [
        "### **Q6 (1 point)**\n",
        "What loss function does the skipgram model use and briefly describe what this function is minimizing.\n",
        "\n",
        "**Do not delete the below cell**"
      ]
    },
    {
      "cell_type": "code",
      "metadata": {
        "deletable": false,
        "nbgrader": {
          "checksum": "774aef2c5bf8ef9d92e3489d1cd80390",
          "grade": true,
          "grade_id": "cell-90cc4b2c0ae8e2c2",
          "locked": false,
          "points": 1,
          "schema_version": 1,
          "solution": true
        },
        "id": "SyOASYXOKDWS"
      },
      "source": [
        "# YOUR CODE HERE\n",
        "# Cross Entropy function is the loss function that the skipgram model is using. Cross Entropy function is a loss function that minimizes the negative\n",
        "# log likelihood of the training set, which measures of our model's predict ability."
      ],
      "execution_count": null,
      "outputs": []
    },
    {
      "cell_type": "markdown",
      "metadata": {
        "deletable": false,
        "editable": false,
        "nbgrader": {
          "checksum": "c14f6069f64cc86ab6e384d28df270d8",
          "grade": false,
          "grade_id": "cell-74a177caaabb5009",
          "locked": true,
          "schema_version": 1,
          "solution": false
        },
        "id": "dbpuJx9CKDWV"
      },
      "source": [
        "### **Bonus Question (1 point)** \n",
        "Find at least 2 interesting word vec combinations like the ones given in Q4\n",
        "\n",
        "**Do not delete the below cell**"
      ]
    },
    {
      "cell_type": "code",
      "metadata": {
        "deletable": false,
        "nbgrader": {
          "checksum": "c2d42b5327f4b020c7e1706506dd5ce9",
          "grade": true,
          "grade_id": "cell-7351297993d72e83",
          "locked": false,
          "points": 1,
          "schema_version": 1,
          "solution": true
        },
        "id": "pQM8C_T7KDWW",
        "colab": {
          "base_uri": "https://localhost:8080/"
        },
        "outputId": "411a5f97-8ad5-466e-fbce-e518194096c6"
      },
      "source": [
        "# YOUR CODE HERE\n",
        "print(model.most_similar(positive = [\"college\", \"earnings\"], negative = [\"men\"])[:2])\n",
        "print(model.most_similar(positive = [\"family\", \"woman\"], negative = [\"men\"])[:2])"
      ],
      "execution_count": null,
      "outputs": [
        {
          "output_type": "stream",
          "text": [
            "/usr/local/lib/python3.6/dist-packages/gensim/matutils.py:737: FutureWarning: Conversion of the second argument of issubdtype from `int` to `np.signedinteger` is deprecated. In future, it will be treated as `np.int64 == np.dtype(int).type`.\n",
            "  if np.issubdtype(vec.dtype, np.int):\n"
          ],
          "name": "stderr"
        },
        {
          "output_type": "stream",
          "text": [
            "[('Earnings', 0.46749138832092285), ('Bridgepoint_Education_Inc', 0.43606287240982056)]\n",
            "[('mother', 0.6418260335922241), ('aunt', 0.5917495489120483)]\n"
          ],
          "name": "stdout"
        }
      ]
    },
    {
      "cell_type": "markdown",
      "metadata": {
        "id": "fGNxuSptcmIG"
      },
      "source": [
        "# Lab 6 (part 2)\n"
      ]
    },
    {
      "cell_type": "code",
      "metadata": {
        "id": "t1FSBaUYdGMt"
      },
      "source": [
        "import os\n",
        "import string\n",
        "import pandas as pd\n",
        "import numpy as np\n",
        "import re\n",
        "import pprint\n",
        "from urllib.request import urlopen\n",
        "\n",
        "import gensim\n",
        "from gensim import corpora, models, similarities\n",
        "import nltk\n",
        "from nltk import word_tokenize, tokenize"
      ],
      "execution_count": null,
      "outputs": []
    },
    {
      "cell_type": "markdown",
      "metadata": {
        "id": "jz1BPzJ-d4BH"
      },
      "source": [
        "#### Preprocessing data"
      ]
    },
    {
      "cell_type": "code",
      "metadata": {
        "id": "IfTAFGA-d5Z9"
      },
      "source": [
        "url = \"https://dev.gutenberg.org/files/11/11-0.txt\"\n",
        "resp = urlopen(url)\n",
        "raw = resp.read().decode('utf8')\n",
        "firstlook = tokenize.sent_tokenize(raw)"
      ],
      "execution_count": null,
      "outputs": []
    },
    {
      "cell_type": "code",
      "metadata": {
        "id": "1hC57sY4j2RL",
        "colab": {
          "base_uri": "https://localhost:8080/"
        },
        "outputId": "87da2830-8688-4953-b0c2-893046419d95"
      },
      "source": [
        "firstlook[0:10]"
      ],
      "execution_count": null,
      "outputs": [
        {
          "output_type": "execute_result",
          "data": {
            "text/plain": [
              "['\\ufeffThe Project Gutenberg EBook of Alice’s Adventures in Wonderland, by Lewis Carroll\\r\\n\\r\\nThis eBook is for the use of anyone anywhere in the United States and most\\r\\nother parts of the world at no cost and with almost no restrictions\\r\\nwhatsoever.',\n",
              " 'You may copy it, give it away or re-use it under the terms of\\r\\nthe Project Gutenberg License included with this eBook or online at\\r\\nwww.gutenberg.org.',\n",
              " \"If you are not located in the United States, you'll have\\r\\nto check the laws of the country where you are located before using this ebook.\",\n",
              " 'Title: Alice’s Adventures in Wonderland\\r\\n\\r\\nAuthor: Lewis Carroll\\r\\n\\r\\nRelease Date: June 25, 2008 [EBook #11]\\r\\n[Most recently updated: October 12, 2020]\\r\\n\\r\\nLanguage: English\\r\\n\\r\\nCharacter set encoding: UTF-8\\r\\n\\r\\n*** START OF THIS PROJECT GUTENBERG EBOOK ALICE’S ADVENTURES IN WONDERLAND ***\\r\\n\\r\\n\\r\\n\\r\\nProduced by Arthur DiBianca and David Widger\\r\\n\\r\\n[Illustration]\\r\\n\\r\\n\\r\\n\\r\\n\\r\\nAlice’s Adventures in Wonderland\\r\\n\\r\\nby Lewis Carroll\\r\\n\\r\\nTHE MILLENNIUM FULCRUM EDITION 3.0\\r\\n\\r\\nContents\\r\\n\\r\\n CHAPTER I.',\n",
              " 'Down the Rabbit-Hole\\r\\n CHAPTER II.',\n",
              " 'The Pool of Tears\\r\\n CHAPTER III.',\n",
              " 'A Caucus-Race and a Long Tale\\r\\n CHAPTER IV.',\n",
              " 'The Rabbit Sends in a Little Bill\\r\\n CHAPTER V.     Advice from a Caterpillar\\r\\n CHAPTER VI.',\n",
              " 'Pig and Pepper\\r\\n CHAPTER VII.',\n",
              " 'A Mad Tea-Party\\r\\n CHAPTER VIII.']"
            ]
          },
          "metadata": {
            "tags": []
          },
          "execution_count": 3
        }
      ]
    },
    {
      "cell_type": "markdown",
      "metadata": {
        "id": "pXrfwKUgj8Xf"
      },
      "source": [
        "##### Regex"
      ]
    },
    {
      "cell_type": "code",
      "metadata": {
        "id": "44IBqb1Fj2wA"
      },
      "source": [
        "pattern = r'''(?x)  # set flag to allow verbose regexps\n",
        "(?:[A-Z]\\.)+        # abbreviations, e.g. U.S.A.\n",
        "|\\w+(?:[-']\\w+)*    # words with optional internal hyphens\n",
        "|\\$?\\d+(?:\\.\\d+)?   # currency, e.g. $12.80 \n",
        "|\\.\\.\\.             # elipses\n",
        "|[.,;\"'?()-_`]      # these are separate tokens\n",
        "'''\n",
        "tokenized_raw = \" \".join(nltk.regexp_tokenize(raw, pattern))\n",
        "tokenized_raw = tokenize.sent_tokenize(tokenized_raw)"
      ],
      "execution_count": null,
      "outputs": []
    },
    {
      "cell_type": "code",
      "metadata": {
        "id": "oqd2tfLnkEw6",
        "colab": {
          "base_uri": "https://localhost:8080/"
        },
        "outputId": "b2c96b9b-b8fd-4e5d-86bf-2f5ed3739cc4"
      },
      "source": [
        "tokenized_raw[:10]"
      ],
      "execution_count": null,
      "outputs": [
        {
          "output_type": "execute_result",
          "data": {
            "text/plain": [
              "['The Project Gutenberg EBook of Alice s Adventures in Wonderland , by Lewis Carroll This eBook is for the use of anyone anywhere in the United States and most other parts of the world at no cost and with almost no restrictions whatsoever .',\n",
              " 'You may copy it , give it away or re-use it under the terms of the Project Gutenberg License included with this eBook or online at www .',\n",
              " 'gutenberg .',\n",
              " 'org .',\n",
              " \"If you are not located in the United States , you'll have to check the laws of the country where you are located before using this ebook .\",\n",
              " 'Title : Alice s Adventures in Wonderland Author : Lewis Carroll Release Date : June 25 , 2008 [ EBook 11 ] [ Most recently updated : October 12 , 2020 ] Language : English Character set encoding : UTF-8 * * * START OF THIS PROJECT GUTENBERG EBOOK ALICE S ADVENTURES IN WONDERLAND * * * Produced by Arthur DiBianca and David Widger [ Illustration ] Alice s Adventures in Wonderland by Lewis Carroll THE MILLENNIUM FULCRUM EDITION 3 .',\n",
              " '0 Contents CHAPTER I.',\n",
              " 'Down the Rabbit-Hole CHAPTER II .',\n",
              " 'The Pool of Tears CHAPTER III .',\n",
              " 'A Caucus-Race and a Long Tale CHAPTER IV .']"
            ]
          },
          "metadata": {
            "tags": []
          },
          "execution_count": 5
        }
      ]
    },
    {
      "cell_type": "markdown",
      "metadata": {
        "id": "F23cvjLMkZyt"
      },
      "source": [
        "##### Normalization"
      ]
    },
    {
      "cell_type": "code",
      "metadata": {
        "id": "1G_7sjUvksfw"
      },
      "source": [
        "# Remove punctuations\n",
        "nopunct = []\n",
        "for sent in tokenized_raw:\n",
        "    a = [w for w in sent.split() if w not in string.punctuation]\n",
        "    nopunct.append(\" \".join(a))"
      ],
      "execution_count": null,
      "outputs": []
    },
    {
      "cell_type": "code",
      "metadata": {
        "id": "h84QbTO7kxCT",
        "colab": {
          "base_uri": "https://localhost:8080/"
        },
        "outputId": "a69d1ac2-c818-4ede-cea2-1ceee75ecf5a"
      },
      "source": [
        "# Word tokenize\n",
        "tok_corp = [nltk.word_tokenize(sent) for sent in nopunct]\n",
        "tok_corp[:1]"
      ],
      "execution_count": null,
      "outputs": [
        {
          "output_type": "execute_result",
          "data": {
            "text/plain": [
              "[['The',\n",
              "  'Project',\n",
              "  'Gutenberg',\n",
              "  'EBook',\n",
              "  'of',\n",
              "  'Alice',\n",
              "  's',\n",
              "  'Adventures',\n",
              "  'in',\n",
              "  'Wonderland',\n",
              "  'by',\n",
              "  'Lewis',\n",
              "  'Carroll',\n",
              "  'This',\n",
              "  'eBook',\n",
              "  'is',\n",
              "  'for',\n",
              "  'the',\n",
              "  'use',\n",
              "  'of',\n",
              "  'anyone',\n",
              "  'anywhere',\n",
              "  'in',\n",
              "  'the',\n",
              "  'United',\n",
              "  'States',\n",
              "  'and',\n",
              "  'most',\n",
              "  'other',\n",
              "  'parts',\n",
              "  'of',\n",
              "  'the',\n",
              "  'world',\n",
              "  'at',\n",
              "  'no',\n",
              "  'cost',\n",
              "  'and',\n",
              "  'with',\n",
              "  'almost',\n",
              "  'no',\n",
              "  'restrictions',\n",
              "  'whatsoever']]"
            ]
          },
          "metadata": {
            "tags": []
          },
          "execution_count": 7
        }
      ]
    },
    {
      "cell_type": "code",
      "metadata": {
        "id": "etyKvLs_k3Su",
        "colab": {
          "base_uri": "https://localhost:8080/"
        },
        "outputId": "490a1121-e0bb-48b6-8216-bb2593058c13"
      },
      "source": [
        "### Creating a list of unique words \n",
        "unique_words = list(set([item for sublist in tok_corp for item in sublist]))\n",
        "len(unique_words)"
      ],
      "execution_count": null,
      "outputs": [
        {
          "output_type": "execute_result",
          "data": {
            "text/plain": [
              "3595"
            ]
          },
          "metadata": {
            "tags": []
          },
          "execution_count": 8
        }
      ]
    },
    {
      "cell_type": "markdown",
      "metadata": {
        "id": "76ocHl_DlNbC"
      },
      "source": [
        "##### Training"
      ]
    },
    {
      "cell_type": "code",
      "metadata": {
        "id": "AxiYP05rk5Qe"
      },
      "source": [
        "model = gensim.models.Word2Vec(tok_corp, min_count = 1, size = 15, window = 5)"
      ],
      "execution_count": null,
      "outputs": []
    },
    {
      "cell_type": "code",
      "metadata": {
        "id": "ph87imQxqv5l",
        "colab": {
          "base_uri": "https://localhost:8080/"
        },
        "outputId": "e857492e-d7a2-4177-db96-c2a8fc007f27"
      },
      "source": [
        "vector_list = model[unique_words]"
      ],
      "execution_count": null,
      "outputs": [
        {
          "output_type": "stream",
          "text": [
            "/usr/local/lib/python3.6/dist-packages/ipykernel_launcher.py:1: DeprecationWarning: Call to deprecated `__getitem__` (Method will be removed in 4.0.0, use self.wv.__getitem__() instead).\n",
            "  \"\"\"Entry point for launching an IPython kernel.\n"
          ],
          "name": "stderr"
        }
      ]
    },
    {
      "cell_type": "code",
      "metadata": {
        "id": "-VCRzAbwtWWG",
        "colab": {
          "base_uri": "https://localhost:8080/"
        },
        "outputId": "991816e1-7695-4cf6-e22c-7713a5a79252"
      },
      "source": [
        "np.array(vector_list).shape"
      ],
      "execution_count": null,
      "outputs": [
        {
          "output_type": "execute_result",
          "data": {
            "text/plain": [
              "(3595, 15)"
            ]
          },
          "metadata": {
            "tags": []
          },
          "execution_count": 19
        }
      ]
    },
    {
      "cell_type": "code",
      "metadata": {
        "id": "bEVJNcMntWOO",
        "colab": {
          "base_uri": "https://localhost:8080/"
        },
        "outputId": "5fc45b0c-bee1-4a56-a727-edd568fdbcac"
      },
      "source": [
        "for i in range(5):\n",
        "    print(unique_words[i], vector_list[i])"
      ],
      "execution_count": null,
      "outputs": [
        {
          "output_type": "stream",
          "text": [
            "_all_ [-0.06785063  0.01856182 -0.00272001 -0.00437701  0.01584373  0.03362476\n",
            "  0.02775068 -0.02085341 -0.04670361  0.03768485 -0.04293537  0.03255289\n",
            "  0.05203997 -0.0146002   0.03838179]\n",
            "cheeks [-0.02820543  0.01885873  0.01094419  0.01186758  0.00928213  0.01500871\n",
            "  0.01035967  0.01697095 -0.03253364  0.01232097 -0.03055898  0.005302\n",
            "  0.01970799 -0.00098713 -0.01275722]\n",
            "_yet_ [-0.00098518 -0.01441624 -0.01809305 -0.01107158 -0.02058658 -0.02187783\n",
            "  0.01346856  0.02828576 -0.0315191   0.03513798  0.01571488  0.01401459\n",
            " -0.00928603  0.0175964  -0.00645857]\n",
            "laws [-0.3759006   0.27996948 -0.23463906  0.09842293 -0.09138867  0.0314021\n",
            "  0.02034728 -0.08994777 -0.1869196   0.4187927  -0.11177525  0.08918759\n",
            "  0.42638183 -0.17883408  0.02809813]\n",
            "heads [-0.2962223   0.18514025 -0.17869598  0.07362805 -0.05830074  0.04484998\n",
            " -0.02494403 -0.04310333 -0.1488859   0.3356943  -0.13042504  0.03189184\n",
            "  0.3393822  -0.12272425  0.03153782]\n"
          ],
          "name": "stdout"
        }
      ]
    },
    {
      "cell_type": "code",
      "metadata": {
        "id": "R2oES41AuwXu",
        "colab": {
          "base_uri": "https://localhost:8080/"
        },
        "outputId": "2a5e6987-7709-4a67-d5f1-a0ef297e43ff"
      },
      "source": [
        "print(model.similarity(\"Rabbit\", \"watch\"))\n",
        "print(model.similarity(\"Queen\", \"head\"))\n",
        "print(model.similarity(\"Rabbit\", \"Hatter\"))"
      ],
      "execution_count": null,
      "outputs": [
        {
          "output_type": "stream",
          "text": [
            "0.9854669\n",
            "0.9993681\n",
            "0.99870265\n"
          ],
          "name": "stdout"
        },
        {
          "output_type": "stream",
          "text": [
            "/usr/local/lib/python3.6/dist-packages/ipykernel_launcher.py:1: DeprecationWarning: Call to deprecated `similarity` (Method will be removed in 4.0.0, use self.wv.similarity() instead).\n",
            "  \"\"\"Entry point for launching an IPython kernel.\n",
            "/usr/local/lib/python3.6/dist-packages/gensim/matutils.py:737: FutureWarning: Conversion of the second argument of issubdtype from `int` to `np.signedinteger` is deprecated. In future, it will be treated as `np.int64 == np.dtype(int).type`.\n",
            "  if np.issubdtype(vec.dtype, np.int):\n",
            "/usr/local/lib/python3.6/dist-packages/ipykernel_launcher.py:2: DeprecationWarning: Call to deprecated `similarity` (Method will be removed in 4.0.0, use self.wv.similarity() instead).\n",
            "  \n",
            "/usr/local/lib/python3.6/dist-packages/ipykernel_launcher.py:3: DeprecationWarning: Call to deprecated `similarity` (Method will be removed in 4.0.0, use self.wv.similarity() instead).\n",
            "  This is separate from the ipykernel package so we can avoid doing imports until\n"
          ],
          "name": "stderr"
        }
      ]
    },
    {
      "cell_type": "markdown",
      "metadata": {
        "id": "4-3b1Rtl6ZkJ"
      },
      "source": [
        "From the similarity shown above, we can see that there are some relationships between some words. Based on the background knowledge, we know that in this book there is a rabbit always carrying a watch. The Queen of Hearts in the book has \"Off with his/her head!\" / \"Off with their heads!\" as her signature line. And the rabbit in the book also have a close relationship with the Mad Hatter. These kind of background knowledge are all shown in the similarity above. The words all have really high similarities."
      ]
    },
    {
      "cell_type": "markdown",
      "metadata": {
        "id": "aFsmDkwxApc1"
      },
      "source": [
        "### Dimension redcution using TSNE"
      ]
    },
    {
      "cell_type": "code",
      "metadata": {
        "id": "EIZcYbn_8Qy3",
        "colab": {
          "base_uri": "https://localhost:8080/"
        },
        "outputId": "1683545e-5a58-45a4-d03a-f14c4b8be65c"
      },
      "source": [
        "from sklearn.manifold import TSNE\n",
        "\n",
        "data_embed = TSNE(n_components = 2, perplexity = 50, verbose = 2, method = \"barnes_hut\").fit_transform(vector_list)"
      ],
      "execution_count": null,
      "outputs": [
        {
          "output_type": "stream",
          "text": [
            "[t-SNE] Computing 151 nearest neighbors...\n",
            "[t-SNE] Indexed 3595 samples in 0.009s...\n",
            "[t-SNE] Computed neighbors for 3595 samples in 0.347s...\n",
            "[t-SNE] Computed conditional probabilities for sample 1000 / 3595\n",
            "[t-SNE] Computed conditional probabilities for sample 2000 / 3595\n",
            "[t-SNE] Computed conditional probabilities for sample 3000 / 3595\n",
            "[t-SNE] Computed conditional probabilities for sample 3595 / 3595\n",
            "[t-SNE] Mean sigma: 0.032887\n",
            "[t-SNE] Computed conditional probabilities in 0.462s\n",
            "[t-SNE] Iteration 50: error = 76.5793762, gradient norm = 0.0485449 (50 iterations in 3.754s)\n",
            "[t-SNE] Iteration 100: error = 71.4266891, gradient norm = 0.0122844 (50 iterations in 1.753s)\n",
            "[t-SNE] Iteration 150: error = 71.0127792, gradient norm = 0.0111406 (50 iterations in 1.431s)\n",
            "[t-SNE] Iteration 200: error = 70.7857208, gradient norm = 0.0060591 (50 iterations in 1.284s)\n",
            "[t-SNE] Iteration 250: error = 70.6781158, gradient norm = 0.0086347 (50 iterations in 1.282s)\n",
            "[t-SNE] KL divergence after 250 iterations with early exaggeration: 70.678116\n",
            "[t-SNE] Iteration 300: error = 2.1504533, gradient norm = 0.0009223 (50 iterations in 1.455s)\n",
            "[t-SNE] Iteration 350: error = 1.9860507, gradient norm = 0.0003819 (50 iterations in 1.591s)\n",
            "[t-SNE] Iteration 400: error = 1.9196492, gradient norm = 0.0002027 (50 iterations in 1.601s)\n",
            "[t-SNE] Iteration 450: error = 1.8859534, gradient norm = 0.0001295 (50 iterations in 1.627s)\n",
            "[t-SNE] Iteration 500: error = 1.8666945, gradient norm = 0.0000957 (50 iterations in 1.605s)\n",
            "[t-SNE] Iteration 550: error = 1.8551373, gradient norm = 0.0001017 (50 iterations in 1.590s)\n",
            "[t-SNE] Iteration 600: error = 1.8482697, gradient norm = 0.0000725 (50 iterations in 1.575s)\n",
            "[t-SNE] Iteration 650: error = 1.8439124, gradient norm = 0.0000691 (50 iterations in 1.567s)\n",
            "[t-SNE] Iteration 700: error = 1.8412325, gradient norm = 0.0000585 (50 iterations in 1.541s)\n",
            "[t-SNE] Iteration 750: error = 1.8389525, gradient norm = 0.0000513 (50 iterations in 1.558s)\n",
            "[t-SNE] Iteration 800: error = 1.8367128, gradient norm = 0.0000543 (50 iterations in 1.564s)\n",
            "[t-SNE] Iteration 850: error = 1.8348265, gradient norm = 0.0000517 (50 iterations in 1.521s)\n",
            "[t-SNE] Iteration 900: error = 1.8334906, gradient norm = 0.0000453 (50 iterations in 1.526s)\n",
            "[t-SNE] Iteration 950: error = 1.8322258, gradient norm = 0.0000411 (50 iterations in 1.530s)\n",
            "[t-SNE] Iteration 1000: error = 1.8311541, gradient norm = 0.0000469 (50 iterations in 1.536s)\n",
            "[t-SNE] KL divergence after 1000 iterations: 1.831154\n"
          ],
          "name": "stdout"
        }
      ]
    },
    {
      "cell_type": "code",
      "metadata": {
        "id": "Ytl6EZhKBh-B",
        "colab": {
          "base_uri": "https://localhost:8080/",
          "height": 838
        },
        "outputId": "bf56e01f-dc1c-470c-c490-cc36630ef265"
      },
      "source": [
        "from google.colab.output import eval_js\n",
        "from IPython.display import Javascript\n",
        "\n",
        "!git clone https://github.com/CAHLR/d3-scatterplot.git\n",
        "\n",
        "def show_port(port, data_file, width=600, height=800):\n",
        "  display(Javascript(\"\"\"\n",
        "  (async ()=>{\n",
        "    fm = document.createElement('iframe')\n",
        "    fm.src = await google.colab.kernel.proxyPort(%d) + '/index.html?dataset=%s'\n",
        "    fm.width = '90%%'\n",
        "    fm.height = '%d'\n",
        "    fm.frameBorder = 0\n",
        "    document.body.append(fm)\n",
        "  })();\n",
        "  \"\"\" % (port, data_file, height)))\n",
        "\n",
        "port = 8000\n",
        "data_file = 'example.tsv'\n",
        "height = 1600\n",
        "\n",
        "get_ipython().system_raw('cd d3-scatterplot && python3 -m http.server %d &' % port) \n",
        "show_port(port, data_file, height)"
      ],
      "execution_count": null,
      "outputs": [
        {
          "output_type": "stream",
          "text": [
            "fatal: destination path 'd3-scatterplot' already exists and is not an empty directory.\n"
          ],
          "name": "stdout"
        },
        {
          "output_type": "display_data",
          "data": {
            "application/javascript": [
              "\n",
              "  (async ()=>{\n",
              "    fm = document.createElement('iframe')\n",
              "    fm.src = await google.colab.kernel.proxyPort(8000) + '/index.html?dataset=example.tsv'\n",
              "    fm.width = '90%'\n",
              "    fm.height = '800'\n",
              "    fm.frameBorder = 0\n",
              "    document.body.append(fm)\n",
              "  })();\n",
              "  "
            ],
            "text/plain": [
              "<IPython.core.display.Javascript object>"
            ]
          },
          "metadata": {
            "tags": []
          }
        }
      ]
    },
    {
      "cell_type": "code",
      "metadata": {
        "id": "zwQJpkZwBoCe",
        "colab": {
          "base_uri": "https://localhost:8080/",
          "height": 265
        },
        "outputId": "ed95ff26-072c-4f73-a3bd-b0fb2d162df9"
      },
      "source": [
        ""
      ],
      "execution_count": null,
      "outputs": [
        {
          "output_type": "display_data",
          "data": {
            "image/png": "[encoded data removed]",
            "text/plain": [
              "<Figure size 432x288 with 1 Axes>"
            ]
          },
          "metadata": {
            "tags": [],
            "needs_background": "light"
          }
        }
      ]
    }
  ]
}