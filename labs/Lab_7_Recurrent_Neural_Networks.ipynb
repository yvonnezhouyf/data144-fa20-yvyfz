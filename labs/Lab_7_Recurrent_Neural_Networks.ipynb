{
  "nbformat": 4,
  "nbformat_minor": 0,
  "metadata": {
    "colab": {
      "name": "Lab 7: Recurrent Neural Networks",
      "provenance": [],
      "collapsed_sections": [],
      "toc_visible": true
    },
    "kernelspec": {
      "name": "python3",
      "display_name": "Python 3"
    }
  },
  "cells": [
    {
      "cell_type": "markdown",
      "metadata": {
        "id": "9kTKaVK47knP"
      },
      "source": [
        "# Lab 7 Neural Language Model\n",
        "A language model predicts the next word in the sequence based on the specific words that have come before it in the sequence.\n",
        "\n",
        "It is also possible to develop language models at the character level using neural networks. The benefit of character-based language models is their small vocabulary and flexibility in handling any words, punctuation, and other document structure. This comes at the cost of requiring larger models that are slower to train.\n",
        "\n",
        "Nevertheless, in the field of neural language models, character-based models offer a lot of promise for a general, flexible and powerful approach to language modeling."
      ]
    },
    {
      "cell_type": "markdown",
      "metadata": {
        "id": "QK2Ew8_C7knQ"
      },
      "source": [
        "As a prerequisite for the lab, make sure to pip install:\n",
        "- keras\n",
        "- tensorflow\n",
        "- h5py"
      ]
    },
    {
      "cell_type": "markdown",
      "metadata": {
        "id": "xIs5eFI97knR"
      },
      "source": [
        "# Source Text Creation"
      ]
    },
    {
      "cell_type": "markdown",
      "metadata": {
        "id": "zQku8-L97knT"
      },
      "source": [
        "To start out with, we'll be using a simple nursery rhyme. It's quite short so we can actually train something on your CPU and see relatively interesting results. Please copy and paste the following text in a text file and save it as \"rhyme.txt\". Place this in the same directory as this jupyter notebook:"
      ]
    },
    {
      "cell_type": "code",
      "metadata": {
        "id": "6wl1ZLGG7wii",
        "colab": {
          "base_uri": "https://localhost:8080/"
        },
        "outputId": "691053a1-effb-41be-a8f6-6d20ba4c0a3b"
      },
      "source": [
        "!pip install tensorflow\n",
        "!pip install keras\n",
        "!pip install h5py"
      ],
      "execution_count": null,
      "outputs": [
        {
          "output_type": "stream",
          "text": [
            "Requirement already satisfied: tensorflow in /usr/local/lib/python3.6/dist-packages (2.3.0)\n",
            "Requirement already satisfied: tensorflow-estimator<2.4.0,>=2.3.0 in /usr/local/lib/python3.6/dist-packages (from tensorflow) (2.3.0)\n",
            "Requirement already satisfied: termcolor>=1.1.0 in /usr/local/lib/python3.6/dist-packages (from tensorflow) (1.1.0)\n",
            "Requirement already satisfied: protobuf>=3.9.2 in /usr/local/lib/python3.6/dist-packages (from tensorflow) (3.12.4)\n",
            "Requirement already satisfied: scipy==1.4.1 in /usr/local/lib/python3.6/dist-packages (from tensorflow) (1.4.1)\n",
            "Requirement already satisfied: google-pasta>=0.1.8 in /usr/local/lib/python3.6/dist-packages (from tensorflow) (0.2.0)\n",
            "Requirement already satisfied: opt-einsum>=2.3.2 in /usr/local/lib/python3.6/dist-packages (from tensorflow) (3.3.0)\n",
            "Requirement already satisfied: gast==0.3.3 in /usr/local/lib/python3.6/dist-packages (from tensorflow) (0.3.3)\n",
            "Requirement already satisfied: numpy<1.19.0,>=1.16.0 in /usr/local/lib/python3.6/dist-packages (from tensorflow) (1.18.5)\n",
            "Requirement already satisfied: h5py<2.11.0,>=2.10.0 in /usr/local/lib/python3.6/dist-packages (from tensorflow) (2.10.0)\n",
            "Requirement already satisfied: wheel>=0.26 in /usr/local/lib/python3.6/dist-packages (from tensorflow) (0.35.1)\n",
            "Requirement already satisfied: six>=1.12.0 in /usr/local/lib/python3.6/dist-packages (from tensorflow) (1.15.0)\n",
            "Requirement already satisfied: tensorboard<3,>=2.3.0 in /usr/local/lib/python3.6/dist-packages (from tensorflow) (2.3.0)\n",
            "Requirement already satisfied: grpcio>=1.8.6 in /usr/local/lib/python3.6/dist-packages (from tensorflow) (1.33.2)\n",
            "Requirement already satisfied: astunparse==1.6.3 in /usr/local/lib/python3.6/dist-packages (from tensorflow) (1.6.3)\n",
            "Requirement already satisfied: wrapt>=1.11.1 in /usr/local/lib/python3.6/dist-packages (from tensorflow) (1.12.1)\n",
            "Requirement already satisfied: keras-preprocessing<1.2,>=1.1.1 in /usr/local/lib/python3.6/dist-packages (from tensorflow) (1.1.2)\n",
            "Requirement already satisfied: absl-py>=0.7.0 in /usr/local/lib/python3.6/dist-packages (from tensorflow) (0.10.0)\n",
            "Requirement already satisfied: setuptools in /usr/local/lib/python3.6/dist-packages (from protobuf>=3.9.2->tensorflow) (50.3.2)\n",
            "Requirement already satisfied: requests<3,>=2.21.0 in /usr/local/lib/python3.6/dist-packages (from tensorboard<3,>=2.3.0->tensorflow) (2.23.0)\n",
            "Requirement already satisfied: google-auth-oauthlib<0.5,>=0.4.1 in /usr/local/lib/python3.6/dist-packages (from tensorboard<3,>=2.3.0->tensorflow) (0.4.2)\n",
            "Requirement already satisfied: markdown>=2.6.8 in /usr/local/lib/python3.6/dist-packages (from tensorboard<3,>=2.3.0->tensorflow) (3.3.3)\n",
            "Requirement already satisfied: werkzeug>=0.11.15 in /usr/local/lib/python3.6/dist-packages (from tensorboard<3,>=2.3.0->tensorflow) (1.0.1)\n",
            "Requirement already satisfied: google-auth<2,>=1.6.3 in /usr/local/lib/python3.6/dist-packages (from tensorboard<3,>=2.3.0->tensorflow) (1.17.2)\n",
            "Requirement already satisfied: tensorboard-plugin-wit>=1.6.0 in /usr/local/lib/python3.6/dist-packages (from tensorboard<3,>=2.3.0->tensorflow) (1.7.0)\n",
            "Requirement already satisfied: certifi>=2017.4.17 in /usr/local/lib/python3.6/dist-packages (from requests<3,>=2.21.0->tensorboard<3,>=2.3.0->tensorflow) (2020.6.20)\n",
            "Requirement already satisfied: idna<3,>=2.5 in /usr/local/lib/python3.6/dist-packages (from requests<3,>=2.21.0->tensorboard<3,>=2.3.0->tensorflow) (2.10)\n",
            "Requirement already satisfied: urllib3!=1.25.0,!=1.25.1,<1.26,>=1.21.1 in /usr/local/lib/python3.6/dist-packages (from requests<3,>=2.21.0->tensorboard<3,>=2.3.0->tensorflow) (1.24.3)\n",
            "Requirement already satisfied: chardet<4,>=3.0.2 in /usr/local/lib/python3.6/dist-packages (from requests<3,>=2.21.0->tensorboard<3,>=2.3.0->tensorflow) (3.0.4)\n",
            "Requirement already satisfied: requests-oauthlib>=0.7.0 in /usr/local/lib/python3.6/dist-packages (from google-auth-oauthlib<0.5,>=0.4.1->tensorboard<3,>=2.3.0->tensorflow) (1.3.0)\n",
            "Requirement already satisfied: importlib-metadata; python_version < \"3.8\" in /usr/local/lib/python3.6/dist-packages (from markdown>=2.6.8->tensorboard<3,>=2.3.0->tensorflow) (2.0.0)\n",
            "Requirement already satisfied: cachetools<5.0,>=2.0.0 in /usr/local/lib/python3.6/dist-packages (from google-auth<2,>=1.6.3->tensorboard<3,>=2.3.0->tensorflow) (4.1.1)\n",
            "Requirement already satisfied: rsa<5,>=3.1.4; python_version >= \"3\" in /usr/local/lib/python3.6/dist-packages (from google-auth<2,>=1.6.3->tensorboard<3,>=2.3.0->tensorflow) (4.6)\n",
            "Requirement already satisfied: pyasn1-modules>=0.2.1 in /usr/local/lib/python3.6/dist-packages (from google-auth<2,>=1.6.3->tensorboard<3,>=2.3.0->tensorflow) (0.2.8)\n",
            "Requirement already satisfied: oauthlib>=3.0.0 in /usr/local/lib/python3.6/dist-packages (from requests-oauthlib>=0.7.0->google-auth-oauthlib<0.5,>=0.4.1->tensorboard<3,>=2.3.0->tensorflow) (3.1.0)\n",
            "Requirement already satisfied: zipp>=0.5 in /usr/local/lib/python3.6/dist-packages (from importlib-metadata; python_version < \"3.8\"->markdown>=2.6.8->tensorboard<3,>=2.3.0->tensorflow) (3.4.0)\n",
            "Requirement already satisfied: pyasn1>=0.1.3 in /usr/local/lib/python3.6/dist-packages (from rsa<5,>=3.1.4; python_version >= \"3\"->google-auth<2,>=1.6.3->tensorboard<3,>=2.3.0->tensorflow) (0.4.8)\n",
            "Requirement already satisfied: keras in /usr/local/lib/python3.6/dist-packages (2.4.3)\n",
            "Requirement already satisfied: h5py in /usr/local/lib/python3.6/dist-packages (from keras) (2.10.0)\n",
            "Requirement already satisfied: numpy>=1.9.1 in /usr/local/lib/python3.6/dist-packages (from keras) (1.18.5)\n",
            "Requirement already satisfied: scipy>=0.14 in /usr/local/lib/python3.6/dist-packages (from keras) (1.4.1)\n",
            "Requirement already satisfied: pyyaml in /usr/local/lib/python3.6/dist-packages (from keras) (3.13)\n",
            "Requirement already satisfied: six in /usr/local/lib/python3.6/dist-packages (from h5py->keras) (1.15.0)\n",
            "Requirement already satisfied: h5py in /usr/local/lib/python3.6/dist-packages (2.10.0)\n",
            "Requirement already satisfied: numpy>=1.7 in /usr/local/lib/python3.6/dist-packages (from h5py) (1.18.5)\n",
            "Requirement already satisfied: six in /usr/local/lib/python3.6/dist-packages (from h5py) (1.15.0)\n"
          ],
          "name": "stdout"
        }
      ]
    },
    {
      "cell_type": "code",
      "metadata": {
        "id": "iqQdG7M68HVt"
      },
      "source": [
        "s='Sing a song of sixpence,\\\n",
        "A pocket full of rye.\\\n",
        "Four and twenty blackbirds,\\\n",
        "Baked in a pie.\\\n",
        "When the pie was opened\\\n",
        "The birds began to sing;\\\n",
        "Wasn’t that a dainty dish,\\\n",
        "To set before the king.\\\n",
        "The king was in his counting house,\\\n",
        "Counting out his money;\\\n",
        "The queen was in the parlour,\\\n",
        "Eating bread and honey.\\\n",
        "The maid was in the garden,\\\n",
        "Hanging out the clothes,\\\n",
        "When down came a blackbird\\\n",
        "And pecked off her nose.'\n",
        "\n",
        "with open('rhymes.txt','w') as f:\n",
        "  f.write(s)"
      ],
      "execution_count": null,
      "outputs": []
    },
    {
      "cell_type": "markdown",
      "metadata": {
        "id": "Gq7wq3fF7knV"
      },
      "source": [
        "    Sing a song of sixpence,\n",
        "    A pocket full of rye.\n",
        "    Four and twenty blackbirds,\n",
        "    Baked in a pie.\n",
        "\n",
        "    When the pie was opened\n",
        "    The birds began to sing;\n",
        "    Wasn’t that a dainty dish,\n",
        "    To set before the king.\n",
        "\n",
        "    The king was in his counting house,\n",
        "    Counting out his money;\n",
        "    The queen was in the parlour,\n",
        "    Eating bread and honey.\n",
        "\n",
        "    The maid was in the garden,\n",
        "    Hanging out the clothes,\n",
        "    When down came a blackbird\n",
        "    And pecked off her nose."
      ]
    },
    {
      "cell_type": "markdown",
      "metadata": {
        "id": "tdOJmdjU7knW"
      },
      "source": [
        "# Sequence Generation\n",
        "\n",
        "A language model must be trained on the text, and in the case of a character-based language model, the input and output sequences must be characters.\n",
        "\n",
        "The number of characters used as input will also define the number of characters that will need to be provided to the model in order to elicit the first predicted character.\n",
        "\n",
        "After the first character has been generated, it can be appended to the input sequence and used as input for the model to generate the next character.\n",
        "\n",
        "Longer sequences offer more context for the model to learn what character to output next but take longer to train and impose more burden on seeding the model when generating text.\n",
        "\n",
        "We will use an arbitrary length of 10 characters for this model.\n",
        "\n",
        "There is not a lot of text, and 10 characters is a few words.\n",
        "\n",
        "We can now transform the raw text into a form that our model can learn; specifically, input and output sequences of characters."
      ]
    },
    {
      "cell_type": "code",
      "metadata": {
        "id": "JjJfvv1U7knY"
      },
      "source": [
        "#load doc into memory\n",
        "def load_doc(filename):\n",
        "    # open the file as read only\n",
        "    file = open(filename, 'r')\n",
        "    # read all text\n",
        "    text = file.read()\n",
        "    # close the file\n",
        "    file.close()\n",
        "    return text\n",
        "# save tokens to file, one dialog per line\n",
        "def save_doc(lines, filename):\n",
        "    data = '\\n'.join(lines)\n",
        "    file = open(filename, 'w')\n",
        "    file.write(data)\n",
        "    file.close()"
      ],
      "execution_count": null,
      "outputs": []
    },
    {
      "cell_type": "code",
      "metadata": {
        "id": "F6GbMmMs7knb",
        "colab": {
          "base_uri": "https://localhost:8080/"
        },
        "outputId": "dc0c51cb-d681-4113-e1fa-491c362e9ea3"
      },
      "source": [
        "#load text\n",
        "raw_text = load_doc('rhymes.txt')\n",
        "print(raw_text)\n",
        "\n",
        "# clean\n",
        "tokens = raw_text.split()\n",
        "raw_text = ' '.join(tokens)\n",
        "\n",
        "# organize into sequences of characters\n",
        "length = 10\n",
        "sequences = list()\n",
        "for i in range(length, len(raw_text)):\n",
        "    # select sequence of tokens\n",
        "    seq = raw_text[i-length:i+1]\n",
        "    # store\n",
        "    sequences.append(seq)\n",
        "print('Total Sequences: %d' % len(sequences))"
      ],
      "execution_count": null,
      "outputs": [
        {
          "output_type": "stream",
          "text": [
            "Sing a song of sixpence,A pocket full of rye.Four and twenty blackbirds,Baked in a pie.When the pie was openedThe birds began to sing;Wasn’t that a dainty dish,To set before the king.The king was in his counting house,Counting out his money;The queen was in the parlour,Eating bread and honey.The maid was in the garden,Hanging out the clothes,When down came a blackbirdAnd pecked off her nose.\n",
            "Total Sequences: 384\n"
          ],
          "name": "stdout"
        }
      ]
    },
    {
      "cell_type": "code",
      "metadata": {
        "id": "iBepEyDn7kne"
      },
      "source": [
        "# save sequences to file\n",
        "out_filename = 'char_sequences.txt'\n",
        "save_doc(sequences, out_filename)"
      ],
      "execution_count": null,
      "outputs": []
    },
    {
      "cell_type": "markdown",
      "metadata": {
        "id": "ohjVbv1l7kng"
      },
      "source": [
        "# Train a Model\n",
        "In this section, we will develop a neural language model for the prepared sequence data.\n",
        "\n",
        "The model will read encoded characters and predict the next character in the sequence. A Long Short-Term Memory recurrent neural network hidden layer will be used to learn the context from the input sequence in order to make the predictions."
      ]
    },
    {
      "cell_type": "code",
      "metadata": {
        "id": "7HBgtQvY7knh"
      },
      "source": [
        "from numpy import array\n",
        "from pickle import dump\n",
        "from keras.utils import to_categorical\n",
        "from keras.models import Sequential\n",
        "from keras.layers import Dense\n",
        "from keras.layers import LSTM\n",
        "\n",
        "# load doc into memory\n",
        "def load_doc(filename):\n",
        "    # open the file as read only\n",
        "    file = open(filename, 'r')\n",
        "    # read all text\n",
        "    text = file.read()\n",
        "    # close the file\n",
        "    file.close()\n",
        "    return text"
      ],
      "execution_count": null,
      "outputs": []
    },
    {
      "cell_type": "code",
      "metadata": {
        "id": "r8ruXoPS7knl"
      },
      "source": [
        "# load\n",
        "\n",
        "in_filename = 'char_sequences.txt'\n",
        "raw_text = load_doc(in_filename)\n",
        "lines = raw_text.split('\\n')"
      ],
      "execution_count": null,
      "outputs": []
    },
    {
      "cell_type": "markdown",
      "metadata": {
        "id": "uTnvoY-f7kno"
      },
      "source": [
        "The sequences of characters must be encoded as integers.This means that each unique character will be assigned a specific integer value and each sequence of characters will be encoded as a sequence of integers. We can create the mapping given a sorted set of unique characters in the raw input data. The mapping is a dictionary of character values to integer values.\n",
        "\n",
        "Next, we can process each sequence of characters one at a time and use the dictionary mapping to look up the integer value for each character. The result is a list of integer lists.\n",
        "\n",
        "We need to know the size of the vocabulary later. We can retrieve this as the size of the dictionary mapping."
      ]
    },
    {
      "cell_type": "code",
      "metadata": {
        "id": "kMndzt5v7kno",
        "colab": {
          "base_uri": "https://localhost:8080/"
        },
        "outputId": "d37b7f0c-11f9-4b09-955c-f0475ad531c9"
      },
      "source": [
        "# integer encode sequences of characters\n",
        "chars = sorted(list(set(raw_text)))\n",
        "mapping = dict((c, i) for i, c in enumerate(chars))\n",
        "sequences = list()\n",
        "for line in lines:\n",
        "    # integer encode line\n",
        "    encoded_seq = [mapping[char] for char in line]\n",
        "    # store\n",
        "    sequences.append(encoded_seq)\n",
        "\n",
        "# vocabulary size\n",
        "vocab_size = len(mapping)\n",
        "print('Vocabulary Size: %d' % vocab_size)\n",
        "\n",
        "# separate into input and output\n",
        "sequences = array(sequences)\n",
        "X, y = sequences[:,:-1], sequences[:,-1]\n",
        "sequences = [to_categorical(x, num_classes=vocab_size) for x in X]\n",
        "X = array(sequences)\n",
        "y = to_categorical(y, num_classes=vocab_size)"
      ],
      "execution_count": null,
      "outputs": [
        {
          "output_type": "stream",
          "text": [
            "Vocabulary Size: 38\n"
          ],
          "name": "stdout"
        }
      ]
    },
    {
      "cell_type": "markdown",
      "metadata": {
        "id": "0qyCICfV7knx"
      },
      "source": [
        "The model is defined with an input layer that takes sequences that have 10 time steps and 38 features for the one hot encoded input sequences. Rather than specify these numbers, we use the second and third dimensions on the X input data. This is so that if we change the length of the sequences or size of the vocabulary, we do not need to change the model definition.\n",
        "\n",
        "The model has a single LSTM hidden layer with 75 memory cells. The model has a fully connected output layer that outputs one vector with a probability distribution across all characters in the vocabulary. A softmax activation function is used on the output layer to ensure the output has the properties of a probability distribution.\n",
        "\n",
        "The model is learning a multi-class classification problem, therefore we use the categorical log loss intended for this type of problem. The efficient Adam implementation of gradient descent is used to optimize the model and accuracy is reported at the end of each batch update. The model is fit for 50 training epochs.\n",
        "\n",
        "# To Do:\n",
        "- Try different numbers of memory cells\n",
        "- Try different types and amounts of recurrent and fully connected layers\n",
        "- Try different lengths of training epochs\n",
        "- Try different sequence lengths and pre-processing of data\n",
        "- Try regularization techniques such as Dropout"
      ]
    },
    {
      "cell_type": "code",
      "metadata": {
        "scrolled": false,
        "id": "K1jO9lYX7kny",
        "colab": {
          "base_uri": "https://localhost:8080/"
        },
        "outputId": "e73184a3-0a05-49fb-c82b-a64e13acadd6"
      },
      "source": [
        "# define model\n",
        "model = Sequential()\n",
        "model.add(LSTM(200, input_shape=(X.shape[1], X.shape[2])))\n",
        "model.add(Dense(vocab_size, activation='softmax'))\n",
        "print(model.summary())\n",
        "# compile model\n",
        "model.compile(loss='categorical_crossentropy', optimizer='adam', metrics=['accuracy'])\n",
        "# fit model\n",
        "history=model.fit(X, y, epochs = 100)"
      ],
      "execution_count": null,
      "outputs": [
        {
          "output_type": "stream",
          "text": [
            "Model: \"sequential\"\n",
            "_________________________________________________________________\n",
            "Layer (type)                 Output Shape              Param #   \n",
            "=================================================================\n",
            "lstm (LSTM)                  (None, 200)               191200    \n",
            "_________________________________________________________________\n",
            "dense (Dense)                (None, 38)                7638      \n",
            "=================================================================\n",
            "Total params: 198,838\n",
            "Trainable params: 198,838\n",
            "Non-trainable params: 0\n",
            "_________________________________________________________________\n",
            "None\n",
            "Epoch 1/100\n",
            "12/12 [==============================] - 0s 18ms/step - loss: 3.5689 - accuracy: 0.1276\n",
            "Epoch 2/100\n",
            "12/12 [==============================] - 0s 18ms/step - loss: 3.2152 - accuracy: 0.1589\n",
            "Epoch 3/100\n",
            "12/12 [==============================] - 0s 16ms/step - loss: 3.0991 - accuracy: 0.1198\n",
            "Epoch 4/100\n",
            "12/12 [==============================] - 0s 18ms/step - loss: 3.0413 - accuracy: 0.1589\n",
            "Epoch 5/100\n",
            "12/12 [==============================] - 0s 17ms/step - loss: 3.0176 - accuracy: 0.1589\n",
            "Epoch 6/100\n",
            "12/12 [==============================] - 0s 17ms/step - loss: 3.0007 - accuracy: 0.1979\n",
            "Epoch 7/100\n",
            "12/12 [==============================] - 0s 16ms/step - loss: 2.9746 - accuracy: 0.1589\n",
            "Epoch 8/100\n",
            "12/12 [==============================] - 0s 17ms/step - loss: 2.9400 - accuracy: 0.1771\n",
            "Epoch 9/100\n",
            "12/12 [==============================] - 0s 17ms/step - loss: 2.8926 - accuracy: 0.1927\n",
            "Epoch 10/100\n",
            "12/12 [==============================] - 0s 18ms/step - loss: 2.8753 - accuracy: 0.1719\n",
            "Epoch 11/100\n",
            "12/12 [==============================] - 0s 17ms/step - loss: 2.8246 - accuracy: 0.1771\n",
            "Epoch 12/100\n",
            "12/12 [==============================] - 0s 17ms/step - loss: 2.7733 - accuracy: 0.2344\n",
            "Epoch 13/100\n",
            "12/12 [==============================] - 0s 17ms/step - loss: 2.7326 - accuracy: 0.2240\n",
            "Epoch 14/100\n",
            "12/12 [==============================] - 0s 17ms/step - loss: 2.6404 - accuracy: 0.2786\n",
            "Epoch 15/100\n",
            "12/12 [==============================] - 0s 17ms/step - loss: 2.6005 - accuracy: 0.2630\n",
            "Epoch 16/100\n",
            "12/12 [==============================] - 0s 17ms/step - loss: 2.5381 - accuracy: 0.2656\n",
            "Epoch 17/100\n",
            "12/12 [==============================] - 0s 16ms/step - loss: 2.4466 - accuracy: 0.2969\n",
            "Epoch 18/100\n",
            "12/12 [==============================] - 0s 16ms/step - loss: 2.3920 - accuracy: 0.2917\n",
            "Epoch 19/100\n",
            "12/12 [==============================] - 0s 17ms/step - loss: 2.3362 - accuracy: 0.3073\n",
            "Epoch 20/100\n",
            "12/12 [==============================] - 0s 17ms/step - loss: 2.2519 - accuracy: 0.3411\n",
            "Epoch 21/100\n",
            "12/12 [==============================] - 0s 16ms/step - loss: 2.1497 - accuracy: 0.3594\n",
            "Epoch 22/100\n",
            "12/12 [==============================] - 0s 17ms/step - loss: 2.0468 - accuracy: 0.3932\n",
            "Epoch 23/100\n",
            "12/12 [==============================] - 0s 17ms/step - loss: 1.9527 - accuracy: 0.4115\n",
            "Epoch 24/100\n",
            "12/12 [==============================] - 0s 17ms/step - loss: 1.9035 - accuracy: 0.4193\n",
            "Epoch 25/100\n",
            "12/12 [==============================] - 0s 18ms/step - loss: 1.7660 - accuracy: 0.4740\n",
            "Epoch 26/100\n",
            "12/12 [==============================] - 0s 17ms/step - loss: 1.7049 - accuracy: 0.4688\n",
            "Epoch 27/100\n",
            "12/12 [==============================] - 0s 18ms/step - loss: 1.5613 - accuracy: 0.5208\n",
            "Epoch 28/100\n",
            "12/12 [==============================] - 0s 17ms/step - loss: 1.4711 - accuracy: 0.5521\n",
            "Epoch 29/100\n",
            "12/12 [==============================] - 0s 18ms/step - loss: 1.4234 - accuracy: 0.5625\n",
            "Epoch 30/100\n",
            "12/12 [==============================] - 0s 17ms/step - loss: 1.3394 - accuracy: 0.6094\n",
            "Epoch 31/100\n",
            "12/12 [==============================] - 0s 17ms/step - loss: 1.2456 - accuracy: 0.6693\n",
            "Epoch 32/100\n",
            "12/12 [==============================] - 0s 18ms/step - loss: 1.1101 - accuracy: 0.7240\n",
            "Epoch 33/100\n",
            "12/12 [==============================] - 0s 17ms/step - loss: 1.0415 - accuracy: 0.7656\n",
            "Epoch 34/100\n",
            "12/12 [==============================] - 0s 16ms/step - loss: 0.9403 - accuracy: 0.7891\n",
            "Epoch 35/100\n",
            "12/12 [==============================] - 0s 17ms/step - loss: 0.8784 - accuracy: 0.8177\n",
            "Epoch 36/100\n",
            "12/12 [==============================] - 0s 17ms/step - loss: 0.8301 - accuracy: 0.8125\n",
            "Epoch 37/100\n",
            "12/12 [==============================] - 0s 17ms/step - loss: 0.7433 - accuracy: 0.8464\n",
            "Epoch 38/100\n",
            "12/12 [==============================] - 0s 18ms/step - loss: 0.6582 - accuracy: 0.9010\n",
            "Epoch 39/100\n",
            "12/12 [==============================] - 0s 17ms/step - loss: 0.5554 - accuracy: 0.9141\n",
            "Epoch 40/100\n",
            "12/12 [==============================] - 0s 17ms/step - loss: 0.5006 - accuracy: 0.9401\n",
            "Epoch 41/100\n",
            "12/12 [==============================] - 0s 17ms/step - loss: 0.4784 - accuracy: 0.9193\n",
            "Epoch 42/100\n",
            "12/12 [==============================] - 0s 16ms/step - loss: 0.4580 - accuracy: 0.9375\n",
            "Epoch 43/100\n",
            "12/12 [==============================] - 0s 17ms/step - loss: 0.3948 - accuracy: 0.9583\n",
            "Epoch 44/100\n",
            "12/12 [==============================] - 0s 17ms/step - loss: 0.3424 - accuracy: 0.9714\n",
            "Epoch 45/100\n",
            "12/12 [==============================] - 0s 17ms/step - loss: 0.3106 - accuracy: 0.9714\n",
            "Epoch 46/100\n",
            "12/12 [==============================] - 0s 17ms/step - loss: 0.2738 - accuracy: 0.9766\n",
            "Epoch 47/100\n",
            "12/12 [==============================] - 0s 17ms/step - loss: 0.2453 - accuracy: 0.9870\n",
            "Epoch 48/100\n",
            "12/12 [==============================] - 0s 17ms/step - loss: 0.2180 - accuracy: 0.9818\n",
            "Epoch 49/100\n",
            "12/12 [==============================] - 0s 17ms/step - loss: 0.2028 - accuracy: 0.9844\n",
            "Epoch 50/100\n",
            "12/12 [==============================] - 0s 17ms/step - loss: 0.2007 - accuracy: 0.9818\n",
            "Epoch 51/100\n",
            "12/12 [==============================] - 0s 17ms/step - loss: 0.1702 - accuracy: 0.9922\n",
            "Epoch 52/100\n",
            "12/12 [==============================] - 0s 17ms/step - loss: 0.1652 - accuracy: 0.9818\n",
            "Epoch 53/100\n",
            "12/12 [==============================] - 0s 17ms/step - loss: 0.1546 - accuracy: 0.9896\n",
            "Epoch 54/100\n",
            "12/12 [==============================] - 0s 17ms/step - loss: 0.1477 - accuracy: 0.9896\n",
            "Epoch 55/100\n",
            "12/12 [==============================] - 0s 17ms/step - loss: 0.1304 - accuracy: 0.9948\n",
            "Epoch 56/100\n",
            "12/12 [==============================] - 0s 17ms/step - loss: 0.1164 - accuracy: 0.9896\n",
            "Epoch 57/100\n",
            "12/12 [==============================] - 0s 17ms/step - loss: 0.1101 - accuracy: 0.9870\n",
            "Epoch 58/100\n",
            "12/12 [==============================] - 0s 17ms/step - loss: 0.1109 - accuracy: 0.9870\n",
            "Epoch 59/100\n",
            "12/12 [==============================] - 0s 18ms/step - loss: 0.1096 - accuracy: 0.9896\n",
            "Epoch 60/100\n",
            "12/12 [==============================] - 0s 17ms/step - loss: 0.1053 - accuracy: 0.9870\n",
            "Epoch 61/100\n",
            "12/12 [==============================] - 0s 17ms/step - loss: 0.0945 - accuracy: 0.9896\n",
            "Epoch 62/100\n",
            "12/12 [==============================] - 0s 17ms/step - loss: 0.0913 - accuracy: 0.9870\n",
            "Epoch 63/100\n",
            "12/12 [==============================] - 0s 17ms/step - loss: 0.0877 - accuracy: 0.9870\n",
            "Epoch 64/100\n",
            "12/12 [==============================] - 0s 17ms/step - loss: 0.0789 - accuracy: 0.9870\n",
            "Epoch 65/100\n",
            "12/12 [==============================] - 0s 17ms/step - loss: 0.0802 - accuracy: 0.9896\n",
            "Epoch 66/100\n",
            "12/12 [==============================] - 0s 17ms/step - loss: 0.0742 - accuracy: 0.9896\n",
            "Epoch 67/100\n",
            "12/12 [==============================] - 0s 18ms/step - loss: 0.0743 - accuracy: 0.9870\n",
            "Epoch 68/100\n",
            "12/12 [==============================] - 0s 18ms/step - loss: 0.0757 - accuracy: 0.9896\n",
            "Epoch 69/100\n",
            "12/12 [==============================] - 0s 17ms/step - loss: 0.0721 - accuracy: 0.9870\n",
            "Epoch 70/100\n",
            "12/12 [==============================] - 0s 17ms/step - loss: 0.0684 - accuracy: 0.9896\n",
            "Epoch 71/100\n",
            "12/12 [==============================] - 0s 17ms/step - loss: 0.0665 - accuracy: 0.9896\n",
            "Epoch 72/100\n",
            "12/12 [==============================] - 0s 17ms/step - loss: 0.0617 - accuracy: 0.9922\n",
            "Epoch 73/100\n",
            "12/12 [==============================] - 0s 17ms/step - loss: 0.0564 - accuracy: 0.9896\n",
            "Epoch 74/100\n",
            "12/12 [==============================] - 0s 17ms/step - loss: 0.0522 - accuracy: 0.9948\n",
            "Epoch 75/100\n",
            "12/12 [==============================] - 0s 17ms/step - loss: 0.0536 - accuracy: 0.9870\n",
            "Epoch 76/100\n",
            "12/12 [==============================] - 0s 17ms/step - loss: 0.0543 - accuracy: 0.9896\n",
            "Epoch 77/100\n",
            "12/12 [==============================] - 0s 17ms/step - loss: 0.0545 - accuracy: 0.9870\n",
            "Epoch 78/100\n",
            "12/12 [==============================] - 0s 17ms/step - loss: 0.0557 - accuracy: 0.9844\n",
            "Epoch 79/100\n",
            "12/12 [==============================] - 0s 17ms/step - loss: 0.0530 - accuracy: 0.9870\n",
            "Epoch 80/100\n",
            "12/12 [==============================] - 0s 17ms/step - loss: 0.0502 - accuracy: 0.9896\n",
            "Epoch 81/100\n",
            "12/12 [==============================] - 0s 18ms/step - loss: 0.0458 - accuracy: 0.9896\n",
            "Epoch 82/100\n",
            "12/12 [==============================] - 0s 18ms/step - loss: 0.0458 - accuracy: 0.9922\n",
            "Epoch 83/100\n",
            "12/12 [==============================] - 0s 17ms/step - loss: 0.0463 - accuracy: 0.9922\n",
            "Epoch 84/100\n",
            "12/12 [==============================] - 0s 17ms/step - loss: 0.0450 - accuracy: 0.9948\n",
            "Epoch 85/100\n",
            "12/12 [==============================] - 0s 17ms/step - loss: 0.0400 - accuracy: 0.9922\n",
            "Epoch 86/100\n",
            "12/12 [==============================] - 0s 17ms/step - loss: 0.0371 - accuracy: 0.9948\n",
            "Epoch 87/100\n",
            "12/12 [==============================] - 0s 17ms/step - loss: 0.0374 - accuracy: 0.9922\n",
            "Epoch 88/100\n",
            "12/12 [==============================] - 0s 18ms/step - loss: 0.0378 - accuracy: 0.9948\n",
            "Epoch 89/100\n",
            "12/12 [==============================] - 0s 17ms/step - loss: 0.0342 - accuracy: 0.9948\n",
            "Epoch 90/100\n",
            "12/12 [==============================] - 0s 17ms/step - loss: 0.0350 - accuracy: 0.9896\n",
            "Epoch 91/100\n",
            "12/12 [==============================] - 0s 17ms/step - loss: 0.0317 - accuracy: 0.9922\n",
            "Epoch 92/100\n",
            "12/12 [==============================] - 0s 18ms/step - loss: 0.0315 - accuracy: 0.9948\n",
            "Epoch 93/100\n",
            "12/12 [==============================] - 0s 17ms/step - loss: 0.0338 - accuracy: 0.9922\n",
            "Epoch 94/100\n",
            "12/12 [==============================] - 0s 18ms/step - loss: 0.0356 - accuracy: 0.9922\n",
            "Epoch 95/100\n",
            "12/12 [==============================] - 0s 17ms/step - loss: 0.0477 - accuracy: 0.9896\n",
            "Epoch 96/100\n",
            "12/12 [==============================] - 0s 17ms/step - loss: 0.0342 - accuracy: 0.9948\n",
            "Epoch 97/100\n",
            "12/12 [==============================] - 0s 17ms/step - loss: 0.0311 - accuracy: 0.9896\n",
            "Epoch 98/100\n",
            "12/12 [==============================] - 0s 17ms/step - loss: 0.0299 - accuracy: 0.9922\n",
            "Epoch 99/100\n",
            "12/12 [==============================] - 0s 17ms/step - loss: 0.0275 - accuracy: 0.9896\n",
            "Epoch 100/100\n",
            "12/12 [==============================] - 0s 17ms/step - loss: 0.0262 - accuracy: 0.9948\n"
          ],
          "name": "stdout"
        }
      ]
    },
    {
      "cell_type": "code",
      "metadata": {
        "id": "raAPR9Qp7kn1"
      },
      "source": [
        "# save the model to file\n",
        "model.save('model.h5')\n",
        "# save the mapping\n",
        "dump(mapping, open('mapping.pkl', 'wb'))"
      ],
      "execution_count": null,
      "outputs": []
    },
    {
      "cell_type": "markdown",
      "metadata": {
        "id": "vv4Q4Rkf7kn4"
      },
      "source": [
        "# Generating Text"
      ]
    },
    {
      "cell_type": "markdown",
      "metadata": {
        "id": "EigunCf57kn6"
      },
      "source": [
        "We must provide sequences of 10 characters as input to the model in order to start the generation process. We will pick these manually. A given input sequence will need to be prepared in the same way as preparing the training data for the model. "
      ]
    },
    {
      "cell_type": "code",
      "metadata": {
        "id": "6UCWctow7kn-"
      },
      "source": [
        "from pickle import load\n",
        "from keras.models import load_model\n",
        "from keras.utils import to_categorical\n",
        "from keras.preprocessing.sequence import pad_sequences\n",
        "\n",
        "# generate a sequence of characters with a language model\n",
        "def generate_seq(model, mapping, seq_length, seed_text, n_chars):\n",
        "    in_text = seed_text\n",
        "    # generate a fixed number of characters\n",
        "    for _ in range(n_chars):\n",
        "        # encode the characters as integers\n",
        "        encoded = [mapping[char] for char in in_text]\n",
        "        # truncate sequences to a fixed length\n",
        "        encoded = pad_sequences([encoded], maxlen=seq_length, truncating='pre')\n",
        "        # one hot encode\n",
        "        encoded = to_categorical(encoded, num_classes=len(mapping))\n",
        "        # predict character\n",
        "        yhat = model.predict_classes(encoded, verbose=0)\n",
        "        # reverse map integer to character\n",
        "        out_char = ''\n",
        "        for char, index in mapping.items():\n",
        "            if index == yhat:\n",
        "                out_char = char\n",
        "                break\n",
        "        # append to input\n",
        "        in_text += char\n",
        "    return in_text\n",
        "\n",
        "# load the model\n",
        "model = load_model('model.h5')\n",
        "# load the mapping\n",
        "mapping = load(open('mapping.pkl', 'rb'))"
      ],
      "execution_count": null,
      "outputs": []
    },
    {
      "cell_type": "markdown",
      "metadata": {
        "id": "PXn18EY57koA"
      },
      "source": [
        "Running the example generates three sequences of text.\n",
        "\n",
        "The first is a test to see how the model does at starting from the beginning of the rhyme. The second is a test to see how well it does at beginning in the middle of a line. The final example is a test to see how well it does with a sequence of characters never seen before."
      ]
    },
    {
      "cell_type": "code",
      "metadata": {
        "id": "5UhgrJYh7koB",
        "colab": {
          "base_uri": "https://localhost:8080/"
        },
        "outputId": "019897eb-7e97-4690-93c5-f1c7d81bf03d"
      },
      "source": [
        "# test start of rhyme\n",
        "print(generate_seq(model, mapping, 10, 'Sing a son', 20))\n",
        "# test mid-line\n",
        "print(generate_seq(model, mapping, 10, 'king was i', 20))\n",
        "# test not in original\n",
        "print(generate_seq(model, mapping, 10, 'hello worl', 20))"
      ],
      "execution_count": null,
      "outputs": [
        {
          "output_type": "stream",
          "text": [
            "WARNING:tensorflow:From <ipython-input-11-46a51600fe21>:18: Sequential.predict_classes (from tensorflow.python.keras.engine.sequential) is deprecated and will be removed after 2021-01-01.\n",
            "Instructions for updating:\n",
            "Please use instead:* `np.argmax(model.predict(x), axis=-1)`,   if your model does multi-class classification   (e.g. if it uses a `softmax` last-layer activation).* `(model.predict(x) > 0.5).astype(\"int32\")`,   if your model does binary classification   (e.g. if it uses a `sigmoid` last-layer activation).\n",
            "Sing a song of sixpence,A pock\n",
            "king was in his counting house\n",
            "hello worl,.Furaangwwnn hi  ia\n"
          ],
          "name": "stdout"
        }
      ]
    },
    {
      "cell_type": "markdown",
      "metadata": {
        "id": "UXhN-xhG7koE"
      },
      "source": [
        "If the results aren't satisfactory, try out the suggestions above or these below:\n",
        "- Padding. Update the example to provides sequences line by line only and use padding to fill out each sequence to the maximum line length.\n",
        "- Sequence Length. Experiment with different sequence lengths and see how they impact the behavior of the model.\n",
        "- Tune Model. Experiment with different model configurations, such as the number of memory cells and epochs, and try to develop a better model for fewer resources.\n"
      ]
    },
    {
      "cell_type": "markdown",
      "metadata": {
        "id": "7kyXdm-f7koF"
      },
      "source": [
        "# Deliverables to receive credit\n",
        "\n",
        "1. (4 points) Optimize the cells above to tune the model so that it generates text that closely resembles the orginal line from the rhyme, or at least generates sensible words. It's okay if the third example using unseen text still looks somewhat strange  though. Again, this is a toy problem, as language models require a lot of computation. This toy problem is great for rapid experimentation to explore different aspects of deep learning language models.\n",
        "2. (3 points) Write a function to split the text corpus file into training and validation and pipe the validation data into the model.fit() function to be able to track validation error per epoch. Lookup Keras documentation to see how this is handled.\n",
        "3. (3 points) Write a summary (methods and results) in the cells below of the different things you applied. You must include your intuitions behind what did work and what did not work well.\n",
        "4. (Extra Credit 2.5 points) Do something even more interesting. Try a different source text. Train a word-level model. We'll leave it up to your creativity to explore and write a summary of your methods and results.\n"
      ]
    },
    {
      "cell_type": "markdown",
      "metadata": {
        "id": "xkYiKsmNlciO"
      },
      "source": [
        "##### 1.\n",
        "I did changes to the definition and fit part for the model. I tried to change the number of memory cells and lengths of training epochs and found the result to be satisfactory."
      ]
    },
    {
      "cell_type": "markdown",
      "metadata": {
        "id": "S3-3s3ogloBg"
      },
      "source": [
        "##### 2."
      ]
    },
    {
      "cell_type": "code",
      "metadata": {
        "id": "njvIURzq7koG",
        "colab": {
          "base_uri": "https://localhost:8080/"
        },
        "outputId": "35f8764a-9618-4637-bb2a-bc79b74fadd7"
      },
      "source": [
        "def model_fit_with_train_val_split(X, y, split = 0):\n",
        "    return model.fit(X, y, epochs = 100, validation_split = split)\n",
        "\n",
        "# an example of applying this function with 0.25 as the training-validation ratio:\n",
        "model_fit_with_train_val_split(X, y, split = 0.25)"
      ],
      "execution_count": null,
      "outputs": [
        {
          "output_type": "stream",
          "text": [
            "Epoch 1/100\n",
            "9/9 [==============================] - 1s 71ms/step - loss: 0.0236 - accuracy: 0.9931 - val_loss: 0.0368 - val_accuracy: 0.9792\n",
            "Epoch 2/100\n",
            "9/9 [==============================] - 0s 20ms/step - loss: 0.0202 - accuracy: 1.0000 - val_loss: 0.0623 - val_accuracy: 0.9792\n",
            "Epoch 3/100\n",
            "9/9 [==============================] - 0s 19ms/step - loss: 0.0163 - accuracy: 1.0000 - val_loss: 0.0772 - val_accuracy: 0.9688\n",
            "Epoch 4/100\n",
            "9/9 [==============================] - 0s 20ms/step - loss: 0.0154 - accuracy: 1.0000 - val_loss: 0.0878 - val_accuracy: 0.9688\n",
            "Epoch 5/100\n",
            "9/9 [==============================] - 0s 20ms/step - loss: 0.0144 - accuracy: 1.0000 - val_loss: 0.0936 - val_accuracy: 0.9688\n",
            "Epoch 6/100\n",
            "9/9 [==============================] - 0s 21ms/step - loss: 0.0136 - accuracy: 1.0000 - val_loss: 0.0988 - val_accuracy: 0.9688\n",
            "Epoch 7/100\n",
            "9/9 [==============================] - 0s 19ms/step - loss: 0.0134 - accuracy: 1.0000 - val_loss: 0.1041 - val_accuracy: 0.9688\n",
            "Epoch 8/100\n",
            "9/9 [==============================] - 0s 22ms/step - loss: 0.0130 - accuracy: 1.0000 - val_loss: 0.1091 - val_accuracy: 0.9688\n",
            "Epoch 9/100\n",
            "9/9 [==============================] - 0s 19ms/step - loss: 0.0127 - accuracy: 1.0000 - val_loss: 0.1137 - val_accuracy: 0.9688\n",
            "Epoch 10/100\n",
            "9/9 [==============================] - 0s 20ms/step - loss: 0.0121 - accuracy: 1.0000 - val_loss: 0.1173 - val_accuracy: 0.9583\n",
            "Epoch 11/100\n",
            "9/9 [==============================] - 0s 19ms/step - loss: 0.0118 - accuracy: 1.0000 - val_loss: 0.1186 - val_accuracy: 0.9688\n",
            "Epoch 12/100\n",
            "9/9 [==============================] - 0s 20ms/step - loss: 0.0115 - accuracy: 1.0000 - val_loss: 0.1238 - val_accuracy: 0.9583\n",
            "Epoch 13/100\n",
            "9/9 [==============================] - 0s 20ms/step - loss: 0.0113 - accuracy: 1.0000 - val_loss: 0.1267 - val_accuracy: 0.9583\n",
            "Epoch 14/100\n",
            "9/9 [==============================] - 0s 19ms/step - loss: 0.0111 - accuracy: 1.0000 - val_loss: 0.1272 - val_accuracy: 0.9583\n",
            "Epoch 15/100\n",
            "9/9 [==============================] - 0s 20ms/step - loss: 0.0107 - accuracy: 1.0000 - val_loss: 0.1329 - val_accuracy: 0.9583\n",
            "Epoch 16/100\n",
            "9/9 [==============================] - 0s 19ms/step - loss: 0.0107 - accuracy: 1.0000 - val_loss: 0.1327 - val_accuracy: 0.9583\n",
            "Epoch 17/100\n",
            "9/9 [==============================] - 0s 21ms/step - loss: 0.0102 - accuracy: 1.0000 - val_loss: 0.1353 - val_accuracy: 0.9688\n",
            "Epoch 18/100\n",
            "9/9 [==============================] - 0s 21ms/step - loss: 0.0100 - accuracy: 1.0000 - val_loss: 0.1415 - val_accuracy: 0.9583\n",
            "Epoch 19/100\n",
            "9/9 [==============================] - 0s 19ms/step - loss: 0.0098 - accuracy: 1.0000 - val_loss: 0.1429 - val_accuracy: 0.9583\n",
            "Epoch 20/100\n",
            "9/9 [==============================] - 0s 20ms/step - loss: 0.0097 - accuracy: 1.0000 - val_loss: 0.1425 - val_accuracy: 0.9583\n",
            "Epoch 21/100\n",
            "9/9 [==============================] - 0s 20ms/step - loss: 0.0094 - accuracy: 1.0000 - val_loss: 0.1456 - val_accuracy: 0.9583\n",
            "Epoch 22/100\n",
            "9/9 [==============================] - 0s 21ms/step - loss: 0.0093 - accuracy: 1.0000 - val_loss: 0.1494 - val_accuracy: 0.9583\n",
            "Epoch 23/100\n",
            "9/9 [==============================] - 0s 19ms/step - loss: 0.0092 - accuracy: 1.0000 - val_loss: 0.1512 - val_accuracy: 0.9583\n",
            "Epoch 24/100\n",
            "9/9 [==============================] - 0s 20ms/step - loss: 0.0089 - accuracy: 1.0000 - val_loss: 0.1550 - val_accuracy: 0.9583\n",
            "Epoch 25/100\n",
            "9/9 [==============================] - 0s 20ms/step - loss: 0.0088 - accuracy: 1.0000 - val_loss: 0.1556 - val_accuracy: 0.9583\n",
            "Epoch 26/100\n",
            "9/9 [==============================] - 0s 20ms/step - loss: 0.0087 - accuracy: 1.0000 - val_loss: 0.1560 - val_accuracy: 0.9583\n",
            "Epoch 27/100\n",
            "9/9 [==============================] - 0s 21ms/step - loss: 0.0085 - accuracy: 1.0000 - val_loss: 0.1596 - val_accuracy: 0.9583\n",
            "Epoch 28/100\n",
            "9/9 [==============================] - 0s 19ms/step - loss: 0.0082 - accuracy: 1.0000 - val_loss: 0.1601 - val_accuracy: 0.9583\n",
            "Epoch 29/100\n",
            "9/9 [==============================] - 0s 20ms/step - loss: 0.0081 - accuracy: 1.0000 - val_loss: 0.1630 - val_accuracy: 0.9479\n",
            "Epoch 30/100\n",
            "9/9 [==============================] - 0s 20ms/step - loss: 0.0080 - accuracy: 1.0000 - val_loss: 0.1666 - val_accuracy: 0.9479\n",
            "Epoch 31/100\n",
            "9/9 [==============================] - 0s 20ms/step - loss: 0.0078 - accuracy: 1.0000 - val_loss: 0.1664 - val_accuracy: 0.9479\n",
            "Epoch 32/100\n",
            "9/9 [==============================] - 0s 21ms/step - loss: 0.0076 - accuracy: 1.0000 - val_loss: 0.1683 - val_accuracy: 0.9479\n",
            "Epoch 33/100\n",
            "9/9 [==============================] - 0s 20ms/step - loss: 0.0075 - accuracy: 1.0000 - val_loss: 0.1699 - val_accuracy: 0.9479\n",
            "Epoch 34/100\n",
            "9/9 [==============================] - 0s 21ms/step - loss: 0.0075 - accuracy: 1.0000 - val_loss: 0.1731 - val_accuracy: 0.9479\n",
            "Epoch 35/100\n",
            "9/9 [==============================] - 0s 20ms/step - loss: 0.0073 - accuracy: 1.0000 - val_loss: 0.1741 - val_accuracy: 0.9479\n",
            "Epoch 36/100\n",
            "9/9 [==============================] - 0s 20ms/step - loss: 0.0073 - accuracy: 1.0000 - val_loss: 0.1776 - val_accuracy: 0.9479\n",
            "Epoch 37/100\n",
            "9/9 [==============================] - 0s 21ms/step - loss: 0.0072 - accuracy: 1.0000 - val_loss: 0.1751 - val_accuracy: 0.9479\n",
            "Epoch 38/100\n",
            "9/9 [==============================] - 0s 21ms/step - loss: 0.0070 - accuracy: 1.0000 - val_loss: 0.1787 - val_accuracy: 0.9479\n",
            "Epoch 39/100\n",
            "9/9 [==============================] - 0s 20ms/step - loss: 0.0069 - accuracy: 1.0000 - val_loss: 0.1829 - val_accuracy: 0.9479\n",
            "Epoch 40/100\n",
            "9/9 [==============================] - 0s 20ms/step - loss: 0.0067 - accuracy: 1.0000 - val_loss: 0.1808 - val_accuracy: 0.9479\n",
            "Epoch 41/100\n",
            "9/9 [==============================] - 0s 20ms/step - loss: 0.0067 - accuracy: 1.0000 - val_loss: 0.1855 - val_accuracy: 0.9479\n",
            "Epoch 42/100\n",
            "9/9 [==============================] - 0s 21ms/step - loss: 0.0065 - accuracy: 1.0000 - val_loss: 0.1875 - val_accuracy: 0.9479\n",
            "Epoch 43/100\n",
            "9/9 [==============================] - 0s 20ms/step - loss: 0.0064 - accuracy: 1.0000 - val_loss: 0.1881 - val_accuracy: 0.9479\n",
            "Epoch 44/100\n",
            "9/9 [==============================] - 0s 20ms/step - loss: 0.0063 - accuracy: 1.0000 - val_loss: 0.1886 - val_accuracy: 0.9479\n",
            "Epoch 45/100\n",
            "9/9 [==============================] - 0s 20ms/step - loss: 0.0063 - accuracy: 1.0000 - val_loss: 0.1917 - val_accuracy: 0.9479\n",
            "Epoch 46/100\n",
            "9/9 [==============================] - 0s 20ms/step - loss: 0.0063 - accuracy: 1.0000 - val_loss: 0.1945 - val_accuracy: 0.9479\n",
            "Epoch 47/100\n",
            "9/9 [==============================] - 0s 20ms/step - loss: 0.0061 - accuracy: 1.0000 - val_loss: 0.1947 - val_accuracy: 0.9479\n",
            "Epoch 48/100\n",
            "9/9 [==============================] - 0s 20ms/step - loss: 0.0061 - accuracy: 1.0000 - val_loss: 0.1940 - val_accuracy: 0.9479\n",
            "Epoch 49/100\n",
            "9/9 [==============================] - 0s 20ms/step - loss: 0.0058 - accuracy: 1.0000 - val_loss: 0.1971 - val_accuracy: 0.9479\n",
            "Epoch 50/100\n",
            "9/9 [==============================] - 0s 20ms/step - loss: 0.0059 - accuracy: 1.0000 - val_loss: 0.1989 - val_accuracy: 0.9479\n",
            "Epoch 51/100\n",
            "9/9 [==============================] - 0s 20ms/step - loss: 0.0057 - accuracy: 1.0000 - val_loss: 0.2019 - val_accuracy: 0.9479\n",
            "Epoch 52/100\n",
            "9/9 [==============================] - 0s 21ms/step - loss: 0.0056 - accuracy: 1.0000 - val_loss: 0.2015 - val_accuracy: 0.9479\n",
            "Epoch 53/100\n",
            "9/9 [==============================] - 0s 21ms/step - loss: 0.0056 - accuracy: 1.0000 - val_loss: 0.2030 - val_accuracy: 0.9479\n",
            "Epoch 54/100\n",
            "9/9 [==============================] - 0s 20ms/step - loss: 0.0055 - accuracy: 1.0000 - val_loss: 0.2068 - val_accuracy: 0.9479\n",
            "Epoch 55/100\n",
            "9/9 [==============================] - 0s 21ms/step - loss: 0.0055 - accuracy: 1.0000 - val_loss: 0.2086 - val_accuracy: 0.9479\n",
            "Epoch 56/100\n",
            "9/9 [==============================] - 0s 20ms/step - loss: 0.0053 - accuracy: 1.0000 - val_loss: 0.2084 - val_accuracy: 0.9479\n",
            "Epoch 57/100\n",
            "9/9 [==============================] - 0s 21ms/step - loss: 0.0052 - accuracy: 1.0000 - val_loss: 0.2110 - val_accuracy: 0.9479\n",
            "Epoch 58/100\n",
            "9/9 [==============================] - 0s 21ms/step - loss: 0.0053 - accuracy: 1.0000 - val_loss: 0.2119 - val_accuracy: 0.9375\n",
            "Epoch 59/100\n",
            "9/9 [==============================] - 0s 20ms/step - loss: 0.0051 - accuracy: 1.0000 - val_loss: 0.2121 - val_accuracy: 0.9479\n",
            "Epoch 60/100\n",
            "9/9 [==============================] - 0s 22ms/step - loss: 0.0050 - accuracy: 1.0000 - val_loss: 0.2143 - val_accuracy: 0.9479\n",
            "Epoch 61/100\n",
            "9/9 [==============================] - 0s 21ms/step - loss: 0.0050 - accuracy: 1.0000 - val_loss: 0.2167 - val_accuracy: 0.9479\n",
            "Epoch 62/100\n",
            "9/9 [==============================] - 0s 20ms/step - loss: 0.0049 - accuracy: 1.0000 - val_loss: 0.2172 - val_accuracy: 0.9479\n",
            "Epoch 63/100\n",
            "9/9 [==============================] - 0s 20ms/step - loss: 0.0049 - accuracy: 1.0000 - val_loss: 0.2181 - val_accuracy: 0.9479\n",
            "Epoch 64/100\n",
            "9/9 [==============================] - 0s 20ms/step - loss: 0.0047 - accuracy: 1.0000 - val_loss: 0.2214 - val_accuracy: 0.9479\n",
            "Epoch 65/100\n",
            "9/9 [==============================] - 0s 22ms/step - loss: 0.0047 - accuracy: 1.0000 - val_loss: 0.2245 - val_accuracy: 0.9375\n",
            "Epoch 66/100\n",
            "9/9 [==============================] - 0s 21ms/step - loss: 0.0046 - accuracy: 1.0000 - val_loss: 0.2236 - val_accuracy: 0.9375\n",
            "Epoch 67/100\n",
            "9/9 [==============================] - 0s 21ms/step - loss: 0.0046 - accuracy: 1.0000 - val_loss: 0.2247 - val_accuracy: 0.9375\n",
            "Epoch 68/100\n",
            "9/9 [==============================] - 0s 20ms/step - loss: 0.0044 - accuracy: 1.0000 - val_loss: 0.2280 - val_accuracy: 0.9375\n",
            "Epoch 69/100\n",
            "9/9 [==============================] - 0s 20ms/step - loss: 0.0045 - accuracy: 1.0000 - val_loss: 0.2292 - val_accuracy: 0.9375\n",
            "Epoch 70/100\n",
            "9/9 [==============================] - 0s 20ms/step - loss: 0.0044 - accuracy: 1.0000 - val_loss: 0.2265 - val_accuracy: 0.9375\n",
            "Epoch 71/100\n",
            "9/9 [==============================] - 0s 23ms/step - loss: 0.0043 - accuracy: 1.0000 - val_loss: 0.2329 - val_accuracy: 0.9375\n",
            "Epoch 72/100\n",
            "9/9 [==============================] - 0s 20ms/step - loss: 0.0044 - accuracy: 1.0000 - val_loss: 0.2323 - val_accuracy: 0.9375\n",
            "Epoch 73/100\n",
            "9/9 [==============================] - 0s 20ms/step - loss: 0.0042 - accuracy: 1.0000 - val_loss: 0.2329 - val_accuracy: 0.9375\n",
            "Epoch 74/100\n",
            "9/9 [==============================] - 0s 20ms/step - loss: 0.0043 - accuracy: 1.0000 - val_loss: 0.2356 - val_accuracy: 0.9375\n",
            "Epoch 75/100\n",
            "9/9 [==============================] - 0s 21ms/step - loss: 0.0041 - accuracy: 1.0000 - val_loss: 0.2394 - val_accuracy: 0.9375\n",
            "Epoch 76/100\n",
            "9/9 [==============================] - 0s 22ms/step - loss: 0.0041 - accuracy: 1.0000 - val_loss: 0.2368 - val_accuracy: 0.9375\n",
            "Epoch 77/100\n",
            "9/9 [==============================] - 0s 20ms/step - loss: 0.0041 - accuracy: 1.0000 - val_loss: 0.2391 - val_accuracy: 0.9375\n",
            "Epoch 78/100\n",
            "9/9 [==============================] - 0s 21ms/step - loss: 0.0040 - accuracy: 1.0000 - val_loss: 0.2440 - val_accuracy: 0.9375\n",
            "Epoch 79/100\n",
            "9/9 [==============================] - 0s 20ms/step - loss: 0.0040 - accuracy: 1.0000 - val_loss: 0.2407 - val_accuracy: 0.9375\n",
            "Epoch 80/100\n",
            "9/9 [==============================] - 0s 21ms/step - loss: 0.0039 - accuracy: 1.0000 - val_loss: 0.2433 - val_accuracy: 0.9375\n",
            "Epoch 81/100\n",
            "9/9 [==============================] - 0s 21ms/step - loss: 0.0039 - accuracy: 1.0000 - val_loss: 0.2464 - val_accuracy: 0.9375\n",
            "Epoch 82/100\n",
            "9/9 [==============================] - 0s 21ms/step - loss: 0.0038 - accuracy: 1.0000 - val_loss: 0.2466 - val_accuracy: 0.9375\n",
            "Epoch 83/100\n",
            "9/9 [==============================] - 0s 20ms/step - loss: 0.0038 - accuracy: 1.0000 - val_loss: 0.2502 - val_accuracy: 0.9375\n",
            "Epoch 84/100\n",
            "9/9 [==============================] - 0s 20ms/step - loss: 0.0037 - accuracy: 1.0000 - val_loss: 0.2486 - val_accuracy: 0.9375\n",
            "Epoch 85/100\n",
            "9/9 [==============================] - 0s 21ms/step - loss: 0.0037 - accuracy: 1.0000 - val_loss: 0.2528 - val_accuracy: 0.9375\n",
            "Epoch 86/100\n",
            "9/9 [==============================] - 0s 21ms/step - loss: 0.0036 - accuracy: 1.0000 - val_loss: 0.2488 - val_accuracy: 0.9375\n",
            "Epoch 87/100\n",
            "9/9 [==============================] - 0s 20ms/step - loss: 0.0036 - accuracy: 1.0000 - val_loss: 0.2552 - val_accuracy: 0.9375\n",
            "Epoch 88/100\n",
            "9/9 [==============================] - 0s 21ms/step - loss: 0.0036 - accuracy: 1.0000 - val_loss: 0.2555 - val_accuracy: 0.9375\n",
            "Epoch 89/100\n",
            "9/9 [==============================] - 0s 20ms/step - loss: 0.0035 - accuracy: 1.0000 - val_loss: 0.2568 - val_accuracy: 0.9375\n",
            "Epoch 90/100\n",
            "9/9 [==============================] - 0s 22ms/step - loss: 0.0035 - accuracy: 1.0000 - val_loss: 0.2566 - val_accuracy: 0.9375\n",
            "Epoch 91/100\n",
            "9/9 [==============================] - 0s 20ms/step - loss: 0.0034 - accuracy: 1.0000 - val_loss: 0.2596 - val_accuracy: 0.9375\n",
            "Epoch 92/100\n",
            "9/9 [==============================] - 0s 21ms/step - loss: 0.0034 - accuracy: 1.0000 - val_loss: 0.2615 - val_accuracy: 0.9375\n",
            "Epoch 93/100\n",
            "9/9 [==============================] - 0s 21ms/step - loss: 0.0033 - accuracy: 1.0000 - val_loss: 0.2611 - val_accuracy: 0.9375\n",
            "Epoch 94/100\n",
            "9/9 [==============================] - 0s 21ms/step - loss: 0.0033 - accuracy: 1.0000 - val_loss: 0.2635 - val_accuracy: 0.9375\n",
            "Epoch 95/100\n",
            "9/9 [==============================] - 0s 21ms/step - loss: 0.0033 - accuracy: 1.0000 - val_loss: 0.2661 - val_accuracy: 0.9375\n",
            "Epoch 96/100\n",
            "9/9 [==============================] - 0s 21ms/step - loss: 0.0033 - accuracy: 1.0000 - val_loss: 0.2690 - val_accuracy: 0.9375\n",
            "Epoch 97/100\n",
            "9/9 [==============================] - 0s 21ms/step - loss: 0.0032 - accuracy: 1.0000 - val_loss: 0.2683 - val_accuracy: 0.9375\n",
            "Epoch 98/100\n",
            "9/9 [==============================] - 0s 20ms/step - loss: 0.0032 - accuracy: 1.0000 - val_loss: 0.2646 - val_accuracy: 0.9375\n",
            "Epoch 99/100\n",
            "9/9 [==============================] - 0s 21ms/step - loss: 0.0032 - accuracy: 1.0000 - val_loss: 0.2708 - val_accuracy: 0.9375\n",
            "Epoch 100/100\n",
            "9/9 [==============================] - 0s 22ms/step - loss: 0.0032 - accuracy: 1.0000 - val_loss: 0.2724 - val_accuracy: 0.9375\n"
          ],
          "name": "stdout"
        },
        {
          "output_type": "execute_result",
          "data": {
            "text/plain": [
              "<tensorflow.python.keras.callbacks.History at 0x7f07a67d76d8>"
            ]
          },
          "metadata": {
            "tags": []
          },
          "execution_count": 13
        }
      ]
    },
    {
      "cell_type": "markdown",
      "metadata": {
        "id": "pFHCxVBpuyXQ"
      },
      "source": [
        "##### 3."
      ]
    },
    {
      "cell_type": "markdown",
      "metadata": {
        "id": "paupzrT2vx5V"
      },
      "source": [
        "I tried to do some changes to the parameters for the model like changing the number of memory cells and lengths of training epochs. Like changing the number of memory cells from 150 to 200 makes the valiation test accuracy increased from 0.8957 to 0.9062, which worked pretty well. This is quite obvious as increasing the number of memory cells makes the model more complex, thus it could fit the data better and may be better at catching the underlying relationships in the data. In this way, the validation accuracy increases. \n",
        "Another thing I tried was changing the lengths of training epochs. Like changing the number of memory cells, changing the lengths of training epochs increases the complexity of the model, thus would have a similar result. From trial I can see that this also worked well as the accuracy increased when I changed the lengths of training epochs from 50 to 100. "
      ]
    },
    {
      "cell_type": "markdown",
      "metadata": {
        "id": "jViDKk2pUUB9"
      },
      "source": [
        "##### 4."
      ]
    },
    {
      "cell_type": "code",
      "metadata": {
        "id": "m5SNBebBUTVL"
      },
      "source": [
        "s = 'Humble and Grumble were identical twins, \\\n",
        "And Humble was ever so meek; \\\n",
        "Grumble did nothing but grumble all day, \\\n",
        "Some may even call him a freak. \\\n",
        "Humble was happy and everyone’s friend, \\\n",
        "Grumble was jealous of course; \\\n",
        "Humble was happy to follow the Lord, \\\n",
        "But Grumble, an immoral source. \\\n",
        "Humble was never seen wearing a frown, \\\n",
        "And Grumble, ne’er seen with a smile; \\\n",
        "Humble won friends by just being himself, \\\n",
        "But, Grumble, he won them by guile. \\\n",
        "So Grumble, please follow Humble, your twin, \\\n",
        "And Humble, don’t grumble, I pray, \\\n",
        "For grumble will make you like Grumble, your twin, \\\n",
        "Please Grumble, be humble today.'\n",
        "\n",
        "with open('rhymes.txt','w') as f:\n",
        "  f.write(s)"
      ],
      "execution_count": null,
      "outputs": []
    },
    {
      "cell_type": "code",
      "metadata": {
        "colab": {
          "base_uri": "https://localhost:8080/"
        },
        "id": "HpJVKmwQVIUn",
        "outputId": "14f6764e-3cd1-4708-d556-65496d09e0e7"
      },
      "source": [
        "#load text\n",
        "raw_text = load_doc('rhymes.txt')\n",
        "print(raw_text)\n",
        "\n",
        "# clean\n",
        "tokens = raw_text.split()\n",
        "raw_text = ' '.join(tokens)\n",
        "\n",
        "# organize into sequences of characters\n",
        "length = 10\n",
        "sequences = list()\n",
        "for i in range(length, len(raw_text)):\n",
        "    # select sequence of tokens\n",
        "    seq = raw_text[i-length:i+1]\n",
        "    # store\n",
        "    sequences.append(seq)\n",
        "print('Total Sequences: %d' % len(sequences))"
      ],
      "execution_count": null,
      "outputs": [
        {
          "output_type": "stream",
          "text": [
            "Humble and Grumble were identical twins, And Humble was ever so meek; Grumble did nothing but grumble all day, Some may even call him a freak. Humble was happy and everyone’s friend, Grumble was jealous of course; Humble was happy to follow the Lord, But Grumble, an immoral source. Humble was never seen wearing a frown, And Grumble, ne’er seen with a smile; Humble won friends by just being himself, But, Grumble, he won them by guile. So Grumble, please follow Humble, your twin, And Humble, don’t grumble, I pray, For grumble will make you like Grumble, your twin, Please Grumble, be humble today.\n",
            "Total Sequences: 591\n"
          ],
          "name": "stdout"
        }
      ]
    },
    {
      "cell_type": "code",
      "metadata": {
        "id": "fapaquVMVNyr"
      },
      "source": [
        "# save sequences to file\n",
        "out_filename = 'char_sequences.txt'\n",
        "save_doc(sequences, out_filename)"
      ],
      "execution_count": null,
      "outputs": []
    },
    {
      "cell_type": "code",
      "metadata": {
        "id": "MMk0AQgwVhi-"
      },
      "source": [
        "# load\n",
        "\n",
        "in_filename = 'char_sequences.txt'\n",
        "raw_text = load_doc(in_filename)\n",
        "lines = raw_text.split('\\n')"
      ],
      "execution_count": null,
      "outputs": []
    },
    {
      "cell_type": "code",
      "metadata": {
        "colab": {
          "base_uri": "https://localhost:8080/"
        },
        "id": "Ql2PMIJbVnU1",
        "outputId": "7ffb7715-52df-4ea1-9bf4-2b4171745406"
      },
      "source": [
        "# integer encode sequences of characters\n",
        "chars = sorted(list(set(raw_text)))\n",
        "mapping = dict((c, i) for i, c in enumerate(chars))\n",
        "sequences = list()\n",
        "for line in lines:\n",
        "    # integer encode line\n",
        "    encoded_seq = [mapping[char] for char in line]\n",
        "    # store\n",
        "    sequences.append(encoded_seq)\n",
        "\n",
        "# vocabulary size\n",
        "vocab_size = len(mapping)\n",
        "print('Vocabulary Size: %d' % vocab_size)\n",
        "\n",
        "# separate into input and output\n",
        "sequences = array(sequences)\n",
        "X, y = sequences[:,:-1], sequences[:,-1]\n",
        "sequences = [to_categorical(x, num_classes=vocab_size) for x in X]\n",
        "X = array(sequences)\n",
        "y = to_categorical(y, num_classes=vocab_size)"
      ],
      "execution_count": null,
      "outputs": [
        {
          "output_type": "stream",
          "text": [
            "Vocabulary Size: 38\n"
          ],
          "name": "stdout"
        }
      ]
    },
    {
      "cell_type": "code",
      "metadata": {
        "colab": {
          "base_uri": "https://localhost:8080/"
        },
        "id": "3Mr9HzzLVvH9",
        "outputId": "49c6324f-f81f-47fb-c3d4-d6d99d70245c"
      },
      "source": [
        "# define model\n",
        "model = Sequential()\n",
        "model.add(LSTM(200, input_shape=(X.shape[1], X.shape[2])))\n",
        "model.add(Dense(vocab_size, activation='softmax'))\n",
        "print(model.summary())\n",
        "# compile model\n",
        "model.compile(loss='categorical_crossentropy', optimizer='adam', metrics=['accuracy'])\n",
        "# fit model\n",
        "history=model.fit(X, y, epochs = 100)"
      ],
      "execution_count": null,
      "outputs": [
        {
          "output_type": "stream",
          "text": [
            "Model: \"sequential_4\"\n",
            "_________________________________________________________________\n",
            "Layer (type)                 Output Shape              Param #   \n",
            "=================================================================\n",
            "lstm_3 (LSTM)                (None, 200)               191200    \n",
            "_________________________________________________________________\n",
            "dense_3 (Dense)              (None, 38)                7638      \n",
            "=================================================================\n",
            "Total params: 198,838\n",
            "Trainable params: 198,838\n",
            "Non-trainable params: 0\n",
            "_________________________________________________________________\n",
            "None\n",
            "Epoch 1/100\n",
            "19/19 [==============================] - 0s 18ms/step - loss: 3.4799 - accuracy: 0.1489\n",
            "Epoch 2/100\n",
            "19/19 [==============================] - 0s 18ms/step - loss: 3.1073 - accuracy: 0.1810\n",
            "Epoch 3/100\n",
            "19/19 [==============================] - 0s 18ms/step - loss: 3.0396 - accuracy: 0.1726\n",
            "Epoch 4/100\n",
            "19/19 [==============================] - 0s 18ms/step - loss: 2.9978 - accuracy: 0.1760\n",
            "Epoch 5/100\n",
            "19/19 [==============================] - 0s 19ms/step - loss: 2.9424 - accuracy: 0.1963\n",
            "Epoch 6/100\n",
            "19/19 [==============================] - 0s 19ms/step - loss: 2.8310 - accuracy: 0.2267\n",
            "Epoch 7/100\n",
            "19/19 [==============================] - 0s 18ms/step - loss: 2.7041 - accuracy: 0.2792\n",
            "Epoch 8/100\n",
            "19/19 [==============================] - 0s 18ms/step - loss: 2.5932 - accuracy: 0.3012\n",
            "Epoch 9/100\n",
            "19/19 [==============================] - 0s 18ms/step - loss: 2.4905 - accuracy: 0.3232\n",
            "Epoch 10/100\n",
            "19/19 [==============================] - 0s 18ms/step - loss: 2.4120 - accuracy: 0.3503\n",
            "Epoch 11/100\n",
            "19/19 [==============================] - 0s 18ms/step - loss: 2.3045 - accuracy: 0.3875\n",
            "Epoch 12/100\n",
            "19/19 [==============================] - 0s 18ms/step - loss: 2.2166 - accuracy: 0.3892\n",
            "Epoch 13/100\n",
            "19/19 [==============================] - 0s 18ms/step - loss: 2.1359 - accuracy: 0.4196\n",
            "Epoch 14/100\n",
            "19/19 [==============================] - 0s 18ms/step - loss: 2.0613 - accuracy: 0.4281\n",
            "Epoch 15/100\n",
            "19/19 [==============================] - 0s 18ms/step - loss: 1.9762 - accuracy: 0.4585\n",
            "Epoch 16/100\n",
            "19/19 [==============================] - 0s 18ms/step - loss: 1.9058 - accuracy: 0.4805\n",
            "Epoch 17/100\n",
            "19/19 [==============================] - 0s 18ms/step - loss: 1.8466 - accuracy: 0.4873\n",
            "Epoch 18/100\n",
            "19/19 [==============================] - 0s 19ms/step - loss: 1.7519 - accuracy: 0.5279\n",
            "Epoch 19/100\n",
            "19/19 [==============================] - 0s 18ms/step - loss: 1.7089 - accuracy: 0.5144\n",
            "Epoch 20/100\n",
            "19/19 [==============================] - 0s 18ms/step - loss: 1.6382 - accuracy: 0.5279\n",
            "Epoch 21/100\n",
            "19/19 [==============================] - 0s 17ms/step - loss: 1.5345 - accuracy: 0.5550\n",
            "Epoch 22/100\n",
            "19/19 [==============================] - 0s 19ms/step - loss: 1.4832 - accuracy: 0.5770\n",
            "Epoch 23/100\n",
            "19/19 [==============================] - 0s 18ms/step - loss: 1.4264 - accuracy: 0.5838\n",
            "Epoch 24/100\n",
            "19/19 [==============================] - 0s 18ms/step - loss: 1.3658 - accuracy: 0.6210\n",
            "Epoch 25/100\n",
            "19/19 [==============================] - 0s 18ms/step - loss: 1.2609 - accuracy: 0.6430\n",
            "Epoch 26/100\n",
            "19/19 [==============================] - 0s 18ms/step - loss: 1.2203 - accuracy: 0.6447\n",
            "Epoch 27/100\n",
            "19/19 [==============================] - 0s 18ms/step - loss: 1.1498 - accuracy: 0.6734\n",
            "Epoch 28/100\n",
            "19/19 [==============================] - 0s 18ms/step - loss: 1.1248 - accuracy: 0.6853\n",
            "Epoch 29/100\n",
            "19/19 [==============================] - 0s 18ms/step - loss: 1.0136 - accuracy: 0.7394\n",
            "Epoch 30/100\n",
            "19/19 [==============================] - 0s 19ms/step - loss: 0.9542 - accuracy: 0.7445\n",
            "Epoch 31/100\n",
            "19/19 [==============================] - 0s 18ms/step - loss: 0.8930 - accuracy: 0.7597\n",
            "Epoch 32/100\n",
            "19/19 [==============================] - 0s 18ms/step - loss: 0.8375 - accuracy: 0.7766\n",
            "Epoch 33/100\n",
            "19/19 [==============================] - 0s 18ms/step - loss: 0.7739 - accuracy: 0.8054\n",
            "Epoch 34/100\n",
            "19/19 [==============================] - 0s 18ms/step - loss: 0.7166 - accuracy: 0.8342\n",
            "Epoch 35/100\n",
            "19/19 [==============================] - 0s 18ms/step - loss: 0.6788 - accuracy: 0.8409\n",
            "Epoch 36/100\n",
            "19/19 [==============================] - 0s 18ms/step - loss: 0.6260 - accuracy: 0.8613\n",
            "Epoch 37/100\n",
            "19/19 [==============================] - 0s 18ms/step - loss: 0.5721 - accuracy: 0.8697\n",
            "Epoch 38/100\n",
            "19/19 [==============================] - 0s 18ms/step - loss: 0.5677 - accuracy: 0.8663\n",
            "Epoch 39/100\n",
            "19/19 [==============================] - 0s 19ms/step - loss: 0.5043 - accuracy: 0.9086\n",
            "Epoch 40/100\n",
            "19/19 [==============================] - 0s 18ms/step - loss: 0.4913 - accuracy: 0.8900\n",
            "Epoch 41/100\n",
            "19/19 [==============================] - 0s 19ms/step - loss: 0.4449 - accuracy: 0.9002\n",
            "Epoch 42/100\n",
            "19/19 [==============================] - 0s 18ms/step - loss: 0.4337 - accuracy: 0.8985\n",
            "Epoch 43/100\n",
            "19/19 [==============================] - 0s 18ms/step - loss: 0.3970 - accuracy: 0.9171\n",
            "Epoch 44/100\n",
            "19/19 [==============================] - 0s 18ms/step - loss: 0.3774 - accuracy: 0.9137\n",
            "Epoch 45/100\n",
            "19/19 [==============================] - 0s 18ms/step - loss: 0.3231 - accuracy: 0.9289\n",
            "Epoch 46/100\n",
            "19/19 [==============================] - 0s 19ms/step - loss: 0.3085 - accuracy: 0.9374\n",
            "Epoch 47/100\n",
            "19/19 [==============================] - 0s 19ms/step - loss: 0.2983 - accuracy: 0.9374\n",
            "Epoch 48/100\n",
            "19/19 [==============================] - 0s 18ms/step - loss: 0.2922 - accuracy: 0.9340\n",
            "Epoch 49/100\n",
            "19/19 [==============================] - 0s 19ms/step - loss: 0.2623 - accuracy: 0.9340\n",
            "Epoch 50/100\n",
            "19/19 [==============================] - 0s 18ms/step - loss: 0.2524 - accuracy: 0.9374\n",
            "Epoch 51/100\n",
            "19/19 [==============================] - 0s 18ms/step - loss: 0.2437 - accuracy: 0.9391\n",
            "Epoch 52/100\n",
            "19/19 [==============================] - 0s 19ms/step - loss: 0.2324 - accuracy: 0.9459\n",
            "Epoch 53/100\n",
            "19/19 [==============================] - 0s 18ms/step - loss: 0.2318 - accuracy: 0.9408\n",
            "Epoch 54/100\n",
            "19/19 [==============================] - 0s 18ms/step - loss: 0.2141 - accuracy: 0.9543\n",
            "Epoch 55/100\n",
            "19/19 [==============================] - 0s 18ms/step - loss: 0.2057 - accuracy: 0.9509\n",
            "Epoch 56/100\n",
            "19/19 [==============================] - 0s 18ms/step - loss: 0.1943 - accuracy: 0.9459\n",
            "Epoch 57/100\n",
            "19/19 [==============================] - 0s 19ms/step - loss: 0.1868 - accuracy: 0.9526\n",
            "Epoch 58/100\n",
            "19/19 [==============================] - 0s 18ms/step - loss: 0.1828 - accuracy: 0.9526\n",
            "Epoch 59/100\n",
            "19/19 [==============================] - 0s 18ms/step - loss: 0.1707 - accuracy: 0.9543\n",
            "Epoch 60/100\n",
            "19/19 [==============================] - 0s 19ms/step - loss: 0.1675 - accuracy: 0.9594\n",
            "Epoch 61/100\n",
            "19/19 [==============================] - 0s 18ms/step - loss: 0.1698 - accuracy: 0.9442\n",
            "Epoch 62/100\n",
            "19/19 [==============================] - 0s 18ms/step - loss: 0.1557 - accuracy: 0.9560\n",
            "Epoch 63/100\n",
            "19/19 [==============================] - 0s 19ms/step - loss: 0.1607 - accuracy: 0.9560\n",
            "Epoch 64/100\n",
            "19/19 [==============================] - 0s 18ms/step - loss: 0.1761 - accuracy: 0.9475\n",
            "Epoch 65/100\n",
            "19/19 [==============================] - 0s 18ms/step - loss: 0.1511 - accuracy: 0.9645\n",
            "Epoch 66/100\n",
            "19/19 [==============================] - 0s 19ms/step - loss: 0.1440 - accuracy: 0.9628\n",
            "Epoch 67/100\n",
            "19/19 [==============================] - 0s 18ms/step - loss: 0.1471 - accuracy: 0.9543\n",
            "Epoch 68/100\n",
            "19/19 [==============================] - 0s 19ms/step - loss: 0.1353 - accuracy: 0.9594\n",
            "Epoch 69/100\n",
            "19/19 [==============================] - 0s 19ms/step - loss: 0.1366 - accuracy: 0.9594\n",
            "Epoch 70/100\n",
            "19/19 [==============================] - 0s 18ms/step - loss: 0.1368 - accuracy: 0.9560\n",
            "Epoch 71/100\n",
            "19/19 [==============================] - 0s 18ms/step - loss: 0.1246 - accuracy: 0.9577\n",
            "Epoch 72/100\n",
            "19/19 [==============================] - 0s 18ms/step - loss: 0.1196 - accuracy: 0.9662\n",
            "Epoch 73/100\n",
            "19/19 [==============================] - 0s 19ms/step - loss: 0.1175 - accuracy: 0.9577\n",
            "Epoch 74/100\n",
            "19/19 [==============================] - 0s 19ms/step - loss: 0.1180 - accuracy: 0.9628\n",
            "Epoch 75/100\n",
            "19/19 [==============================] - 0s 18ms/step - loss: 0.1210 - accuracy: 0.9594\n",
            "Epoch 76/100\n",
            "19/19 [==============================] - 0s 19ms/step - loss: 0.1174 - accuracy: 0.9611\n",
            "Epoch 77/100\n",
            "19/19 [==============================] - 0s 19ms/step - loss: 0.1094 - accuracy: 0.9645\n",
            "Epoch 78/100\n",
            "19/19 [==============================] - 0s 18ms/step - loss: 0.1063 - accuracy: 0.9645\n",
            "Epoch 79/100\n",
            "19/19 [==============================] - 0s 19ms/step - loss: 0.1080 - accuracy: 0.9679\n",
            "Epoch 80/100\n",
            "19/19 [==============================] - 0s 18ms/step - loss: 0.1208 - accuracy: 0.9594\n",
            "Epoch 81/100\n",
            "19/19 [==============================] - 0s 19ms/step - loss: 0.1058 - accuracy: 0.9695\n",
            "Epoch 82/100\n",
            "19/19 [==============================] - 0s 18ms/step - loss: 0.1077 - accuracy: 0.9645\n",
            "Epoch 83/100\n",
            "19/19 [==============================] - 0s 18ms/step - loss: 0.1025 - accuracy: 0.9662\n",
            "Epoch 84/100\n",
            "19/19 [==============================] - 0s 18ms/step - loss: 0.1006 - accuracy: 0.9645\n",
            "Epoch 85/100\n",
            "19/19 [==============================] - 0s 18ms/step - loss: 0.1033 - accuracy: 0.9679\n",
            "Epoch 86/100\n",
            "19/19 [==============================] - 0s 19ms/step - loss: 0.0988 - accuracy: 0.9662\n",
            "Epoch 87/100\n",
            "19/19 [==============================] - 0s 19ms/step - loss: 0.0917 - accuracy: 0.9695\n",
            "Epoch 88/100\n",
            "19/19 [==============================] - 0s 18ms/step - loss: 0.0964 - accuracy: 0.9662\n",
            "Epoch 89/100\n",
            "19/19 [==============================] - 0s 19ms/step - loss: 0.0874 - accuracy: 0.9729\n",
            "Epoch 90/100\n",
            "19/19 [==============================] - 0s 18ms/step - loss: 0.0901 - accuracy: 0.9712\n",
            "Epoch 91/100\n",
            "19/19 [==============================] - 0s 19ms/step - loss: 0.0890 - accuracy: 0.9729\n",
            "Epoch 92/100\n",
            "19/19 [==============================] - 0s 19ms/step - loss: 0.0873 - accuracy: 0.9729\n",
            "Epoch 93/100\n",
            "19/19 [==============================] - 0s 18ms/step - loss: 0.0876 - accuracy: 0.9679\n",
            "Epoch 94/100\n",
            "19/19 [==============================] - 0s 18ms/step - loss: 0.0864 - accuracy: 0.9645\n",
            "Epoch 95/100\n",
            "19/19 [==============================] - 0s 18ms/step - loss: 0.0837 - accuracy: 0.9695\n",
            "Epoch 96/100\n",
            "19/19 [==============================] - 0s 18ms/step - loss: 0.0837 - accuracy: 0.9712\n",
            "Epoch 97/100\n",
            "19/19 [==============================] - 0s 20ms/step - loss: 0.0865 - accuracy: 0.9695\n",
            "Epoch 98/100\n",
            "19/19 [==============================] - 0s 18ms/step - loss: 0.0849 - accuracy: 0.9662\n",
            "Epoch 99/100\n",
            "19/19 [==============================] - 0s 19ms/step - loss: 0.0819 - accuracy: 0.9712\n",
            "Epoch 100/100\n",
            "19/19 [==============================] - 0s 19ms/step - loss: 0.0809 - accuracy: 0.9729\n"
          ],
          "name": "stdout"
        }
      ]
    },
    {
      "cell_type": "code",
      "metadata": {
        "id": "vnFNQ_7PV0Vc"
      },
      "source": [
        "# save the model to file\n",
        "model.save('model.h5')\n",
        "# save the mapping\n",
        "dump(mapping, open('mapping.pkl', 'wb'))"
      ],
      "execution_count": null,
      "outputs": []
    },
    {
      "cell_type": "code",
      "metadata": {
        "id": "6uf1v7FRVRkh"
      },
      "source": [
        "# load the model\n",
        "model = load_model('model.h5')\n",
        "# load the mapping\n",
        "mapping = load(open('mapping.pkl', 'rb'))"
      ],
      "execution_count": null,
      "outputs": []
    },
    {
      "cell_type": "code",
      "metadata": {
        "colab": {
          "base_uri": "https://localhost:8080/"
        },
        "id": "A-jvBsZsVXTA",
        "outputId": "761822c4-3c57-48b8-ae9f-fde5006334b1"
      },
      "source": [
        "# test start of rhyme\n",
        "print(generate_seq(model, mapping, 10, 'Humble and Grumble we', 20))\n",
        "# test mid-line\n",
        "print(generate_seq(model, mapping, 10, 'Humble was happy an', 20))\n",
        "# test not in original\n",
        "print(generate_seq(model, mapping, 10, 'hello worl', 20))"
      ],
      "execution_count": null,
      "outputs": [
        {
          "output_type": "stream",
          "text": [
            "Humble and Grumble were identical twins, \n",
            "Humble was happy and everyone’s friend,\n",
            "hello worlo, d drub t didnn  b\n"
          ],
          "name": "stdout"
        }
      ]
    }
  ]
}